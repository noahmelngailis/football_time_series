{
 "cells": [
  {
   "cell_type": "code",
   "execution_count": 1,
   "metadata": {},
   "outputs": [],
   "source": [
    "import pandas as pd\n",
    "import numpy as np\n",
    "import matplotlib.pyplot as plt\n",
    "import seaborn as sns\n",
    "import datetime\n",
    "\n",
    "from wrangle import epl_aq_all\n",
    "%matplotlib inline\n",
    "\n",
    "import warnings\n",
    "warnings.filterwarnings(\"ignore\")\n",
    "\n",
    "import regex as re\n",
    "\n",
    "from sklearn.metrics import mean_squared_error, explained_variance_score\n",
    "from sklearn.linear_model import LinearRegression\n",
    "from sklearn.feature_selection import RFE"
   ]
  },
  {
   "cell_type": "code",
   "execution_count": 2,
   "metadata": {},
   "outputs": [],
   "source": [
    "from preprocessing import preprocessing_script"
   ]
  },
  {
   "cell_type": "code",
   "execution_count": 72,
   "metadata": {},
   "outputs": [],
   "source": [
    "import sklearn.metrics as m\n",
    "from sklearn.model_selection import cross_val_score"
   ]
  },
  {
   "cell_type": "markdown",
   "metadata": {},
   "source": [
    "# Project Goals\n",
    "1. Create a regression of point differential in predicting future points\n",
    "2. Analyze the importance of draws in pythagorean expectations predictions\n",
    "3. Predict by placement (classification) especially on relegation side??"
   ]
  },
  {
   "cell_type": "markdown",
   "metadata": {},
   "source": [
    "# Wrangle Data\n",
    "Three functions acquiring and prepping data are all available in wrangle.py file.\n",
    "- 1. `epl_year_aq`: pulls in data frame from season\n",
    "- 2. `strip_team_name`: takes in season csv and splits and cleans team_name_column \n",
    "- 3. `epl_aq_all`: creates df of all seasons of epl\n",
    "- 4. `rename columns`: renamess columns explicitly\n",
    "- 5. `make_number_of_seasons`: makes a column for number of seasons"
   ]
  },
  {
   "cell_type": "code",
   "execution_count": 3,
   "metadata": {},
   "outputs": [],
   "source": [
    "df = epl_aq_all()"
   ]
  },
  {
   "cell_type": "code",
   "execution_count": 4,
   "metadata": {},
   "outputs": [
    {
     "name": "stdout",
     "output_type": "stream",
     "text": [
      "(340, 12)\n",
      "<class 'pandas.core.frame.DataFrame'>\n",
      "RangeIndex: 340 entries, 0 to 339\n",
      "Data columns (total 12 columns):\n",
      "team_name            340 non-null object\n",
      "games_played         340 non-null int64\n",
      "wins                 340 non-null int64\n",
      "draws                340 non-null int64\n",
      "losses               340 non-null int64\n",
      "goals_for            340 non-null int64\n",
      "goals_against        340 non-null int64\n",
      "goal_differential    340 non-null int64\n",
      "points               340 non-null int64\n",
      "year                 340 non-null int64\n",
      "place                340 non-null int64\n",
      "seasons_in_epl       340 non-null int64\n",
      "dtypes: int64(11), object(1)\n",
      "memory usage: 32.0+ KB\n"
     ]
    }
   ],
   "source": [
    "print(df.shape)\n",
    "df.info()"
   ]
  },
  {
   "cell_type": "code",
   "execution_count": 5,
   "metadata": {},
   "outputs": [],
   "source": [
    "df = preprocessing_script(df)"
   ]
  },
  {
   "cell_type": "code",
   "execution_count": 28,
   "metadata": {},
   "outputs": [
    {
     "data": {
      "text/html": [
       "<div>\n",
       "<style scoped>\n",
       "    .dataframe tbody tr th:only-of-type {\n",
       "        vertical-align: middle;\n",
       "    }\n",
       "\n",
       "    .dataframe tbody tr th {\n",
       "        vertical-align: top;\n",
       "    }\n",
       "\n",
       "    .dataframe thead th {\n",
       "        text-align: right;\n",
       "    }\n",
       "</style>\n",
       "<table border=\"1\" class=\"dataframe\">\n",
       "  <thead>\n",
       "    <tr style=\"text-align: right;\">\n",
       "      <th></th>\n",
       "      <th>team_name</th>\n",
       "      <th>games_played</th>\n",
       "      <th>wins</th>\n",
       "      <th>draws</th>\n",
       "      <th>losses</th>\n",
       "      <th>goals_for</th>\n",
       "      <th>goals_against</th>\n",
       "      <th>goal_differential</th>\n",
       "      <th>points</th>\n",
       "      <th>year</th>\n",
       "      <th>place</th>\n",
       "      <th>seasons_in_epl</th>\n",
       "      <th>finish</th>\n",
       "      <th>next_season_points</th>\n",
       "      <th>goal_percentage</th>\n",
       "      <th>win_rate</th>\n",
       "      <th>surpluss_goals</th>\n",
       "      <th>points_rate</th>\n",
       "      <th>goals_per_loss</th>\n",
       "    </tr>\n",
       "  </thead>\n",
       "  <tbody>\n",
       "    <tr>\n",
       "      <th>0</th>\n",
       "      <td>AFC Bournemouth</td>\n",
       "      <td>38</td>\n",
       "      <td>11</td>\n",
       "      <td>9</td>\n",
       "      <td>18</td>\n",
       "      <td>45</td>\n",
       "      <td>67</td>\n",
       "      <td>-22</td>\n",
       "      <td>42</td>\n",
       "      <td>2015</td>\n",
       "      <td>16</td>\n",
       "      <td>4</td>\n",
       "      <td>relegation_battle</td>\n",
       "      <td>46.0</td>\n",
       "      <td>0.401786</td>\n",
       "      <td>0.611111</td>\n",
       "      <td>-33</td>\n",
       "      <td>1.111111</td>\n",
       "      <td>2.500000</td>\n",
       "    </tr>\n",
       "    <tr>\n",
       "      <th>1</th>\n",
       "      <td>AFC Bournemouth</td>\n",
       "      <td>38</td>\n",
       "      <td>12</td>\n",
       "      <td>10</td>\n",
       "      <td>16</td>\n",
       "      <td>55</td>\n",
       "      <td>67</td>\n",
       "      <td>-12</td>\n",
       "      <td>46</td>\n",
       "      <td>2016</td>\n",
       "      <td>9</td>\n",
       "      <td>4</td>\n",
       "      <td>mid_table</td>\n",
       "      <td>44.0</td>\n",
       "      <td>0.450820</td>\n",
       "      <td>0.750000</td>\n",
       "      <td>-24</td>\n",
       "      <td>1.375000</td>\n",
       "      <td>3.437500</td>\n",
       "    </tr>\n",
       "    <tr>\n",
       "      <th>2</th>\n",
       "      <td>AFC Bournemouth</td>\n",
       "      <td>38</td>\n",
       "      <td>11</td>\n",
       "      <td>11</td>\n",
       "      <td>16</td>\n",
       "      <td>45</td>\n",
       "      <td>61</td>\n",
       "      <td>-16</td>\n",
       "      <td>44</td>\n",
       "      <td>2017</td>\n",
       "      <td>12</td>\n",
       "      <td>4</td>\n",
       "      <td>mid_table</td>\n",
       "      <td>45.0</td>\n",
       "      <td>0.424528</td>\n",
       "      <td>0.687500</td>\n",
       "      <td>-27</td>\n",
       "      <td>1.375000</td>\n",
       "      <td>2.812500</td>\n",
       "    </tr>\n",
       "    <tr>\n",
       "      <th>3</th>\n",
       "      <td>AFC Bournemouth</td>\n",
       "      <td>38</td>\n",
       "      <td>13</td>\n",
       "      <td>6</td>\n",
       "      <td>19</td>\n",
       "      <td>56</td>\n",
       "      <td>70</td>\n",
       "      <td>-14</td>\n",
       "      <td>45</td>\n",
       "      <td>2018</td>\n",
       "      <td>14</td>\n",
       "      <td>4</td>\n",
       "      <td>mid_table</td>\n",
       "      <td>NaN</td>\n",
       "      <td>0.444444</td>\n",
       "      <td>0.684211</td>\n",
       "      <td>-27</td>\n",
       "      <td>1.000000</td>\n",
       "      <td>2.947368</td>\n",
       "    </tr>\n",
       "    <tr>\n",
       "      <th>4</th>\n",
       "      <td>Arsenal</td>\n",
       "      <td>38</td>\n",
       "      <td>23</td>\n",
       "      <td>9</td>\n",
       "      <td>6</td>\n",
       "      <td>85</td>\n",
       "      <td>42</td>\n",
       "      <td>43</td>\n",
       "      <td>78</td>\n",
       "      <td>2002</td>\n",
       "      <td>2</td>\n",
       "      <td>17</td>\n",
       "      <td>champions_league</td>\n",
       "      <td>90.0</td>\n",
       "      <td>0.669291</td>\n",
       "      <td>3.833333</td>\n",
       "      <td>20</td>\n",
       "      <td>5.333333</td>\n",
       "      <td>14.166667</td>\n",
       "    </tr>\n",
       "    <tr>\n",
       "      <th>...</th>\n",
       "      <td>...</td>\n",
       "      <td>...</td>\n",
       "      <td>...</td>\n",
       "      <td>...</td>\n",
       "      <td>...</td>\n",
       "      <td>...</td>\n",
       "      <td>...</td>\n",
       "      <td>...</td>\n",
       "      <td>...</td>\n",
       "      <td>...</td>\n",
       "      <td>...</td>\n",
       "      <td>...</td>\n",
       "      <td>...</td>\n",
       "      <td>...</td>\n",
       "      <td>...</td>\n",
       "      <td>...</td>\n",
       "      <td>...</td>\n",
       "      <td>...</td>\n",
       "      <td>...</td>\n",
       "    </tr>\n",
       "    <tr>\n",
       "      <th>335</th>\n",
       "      <td>Wolverhampton Wanderers</td>\n",
       "      <td>38</td>\n",
       "      <td>7</td>\n",
       "      <td>12</td>\n",
       "      <td>19</td>\n",
       "      <td>38</td>\n",
       "      <td>77</td>\n",
       "      <td>-39</td>\n",
       "      <td>33</td>\n",
       "      <td>2003</td>\n",
       "      <td>20</td>\n",
       "      <td>5</td>\n",
       "      <td>relegation</td>\n",
       "      <td>38.0</td>\n",
       "      <td>0.330435</td>\n",
       "      <td>0.368421</td>\n",
       "      <td>-46</td>\n",
       "      <td>1.000000</td>\n",
       "      <td>2.000000</td>\n",
       "    </tr>\n",
       "    <tr>\n",
       "      <th>336</th>\n",
       "      <td>Wolverhampton Wanderers</td>\n",
       "      <td>38</td>\n",
       "      <td>9</td>\n",
       "      <td>11</td>\n",
       "      <td>18</td>\n",
       "      <td>32</td>\n",
       "      <td>56</td>\n",
       "      <td>-24</td>\n",
       "      <td>38</td>\n",
       "      <td>2009</td>\n",
       "      <td>15</td>\n",
       "      <td>5</td>\n",
       "      <td>relegation_battle</td>\n",
       "      <td>40.0</td>\n",
       "      <td>0.363636</td>\n",
       "      <td>0.500000</td>\n",
       "      <td>-33</td>\n",
       "      <td>1.111111</td>\n",
       "      <td>1.777778</td>\n",
       "    </tr>\n",
       "    <tr>\n",
       "      <th>337</th>\n",
       "      <td>Wolverhampton Wanderers</td>\n",
       "      <td>38</td>\n",
       "      <td>11</td>\n",
       "      <td>7</td>\n",
       "      <td>20</td>\n",
       "      <td>46</td>\n",
       "      <td>66</td>\n",
       "      <td>-20</td>\n",
       "      <td>40</td>\n",
       "      <td>2010</td>\n",
       "      <td>17</td>\n",
       "      <td>5</td>\n",
       "      <td>relegation_battle</td>\n",
       "      <td>25.0</td>\n",
       "      <td>0.410714</td>\n",
       "      <td>0.550000</td>\n",
       "      <td>-31</td>\n",
       "      <td>0.900000</td>\n",
       "      <td>2.300000</td>\n",
       "    </tr>\n",
       "    <tr>\n",
       "      <th>338</th>\n",
       "      <td>Wolverhampton Wanderers</td>\n",
       "      <td>38</td>\n",
       "      <td>5</td>\n",
       "      <td>10</td>\n",
       "      <td>23</td>\n",
       "      <td>40</td>\n",
       "      <td>82</td>\n",
       "      <td>-42</td>\n",
       "      <td>25</td>\n",
       "      <td>2011</td>\n",
       "      <td>20</td>\n",
       "      <td>5</td>\n",
       "      <td>relegation</td>\n",
       "      <td>57.0</td>\n",
       "      <td>0.327869</td>\n",
       "      <td>0.217391</td>\n",
       "      <td>-47</td>\n",
       "      <td>0.652174</td>\n",
       "      <td>1.739130</td>\n",
       "    </tr>\n",
       "    <tr>\n",
       "      <th>339</th>\n",
       "      <td>Wolverhampton Wanderers</td>\n",
       "      <td>38</td>\n",
       "      <td>16</td>\n",
       "      <td>9</td>\n",
       "      <td>13</td>\n",
       "      <td>47</td>\n",
       "      <td>46</td>\n",
       "      <td>1</td>\n",
       "      <td>57</td>\n",
       "      <td>2018</td>\n",
       "      <td>7</td>\n",
       "      <td>5</td>\n",
       "      <td>europa_league</td>\n",
       "      <td>NaN</td>\n",
       "      <td>0.505376</td>\n",
       "      <td>1.230769</td>\n",
       "      <td>-15</td>\n",
       "      <td>1.923077</td>\n",
       "      <td>3.615385</td>\n",
       "    </tr>\n",
       "  </tbody>\n",
       "</table>\n",
       "<p>340 rows × 19 columns</p>\n",
       "</div>"
      ],
      "text/plain": [
       "                   team_name  games_played  wins  draws  losses  goals_for  \\\n",
       "0            AFC Bournemouth            38    11      9      18         45   \n",
       "1            AFC Bournemouth            38    12     10      16         55   \n",
       "2            AFC Bournemouth            38    11     11      16         45   \n",
       "3            AFC Bournemouth            38    13      6      19         56   \n",
       "4                    Arsenal            38    23      9       6         85   \n",
       "..                       ...           ...   ...    ...     ...        ...   \n",
       "335  Wolverhampton Wanderers            38     7     12      19         38   \n",
       "336  Wolverhampton Wanderers            38     9     11      18         32   \n",
       "337  Wolverhampton Wanderers            38    11      7      20         46   \n",
       "338  Wolverhampton Wanderers            38     5     10      23         40   \n",
       "339  Wolverhampton Wanderers            38    16      9      13         47   \n",
       "\n",
       "     goals_against  goal_differential  points  year  place  seasons_in_epl  \\\n",
       "0               67                -22      42  2015     16               4   \n",
       "1               67                -12      46  2016      9               4   \n",
       "2               61                -16      44  2017     12               4   \n",
       "3               70                -14      45  2018     14               4   \n",
       "4               42                 43      78  2002      2              17   \n",
       "..             ...                ...     ...   ...    ...             ...   \n",
       "335             77                -39      33  2003     20               5   \n",
       "336             56                -24      38  2009     15               5   \n",
       "337             66                -20      40  2010     17               5   \n",
       "338             82                -42      25  2011     20               5   \n",
       "339             46                  1      57  2018      7               5   \n",
       "\n",
       "                finish  next_season_points  goal_percentage  win_rate  \\\n",
       "0    relegation_battle                46.0         0.401786  0.611111   \n",
       "1            mid_table                44.0         0.450820  0.750000   \n",
       "2            mid_table                45.0         0.424528  0.687500   \n",
       "3            mid_table                 NaN         0.444444  0.684211   \n",
       "4     champions_league                90.0         0.669291  3.833333   \n",
       "..                 ...                 ...              ...       ...   \n",
       "335         relegation                38.0         0.330435  0.368421   \n",
       "336  relegation_battle                40.0         0.363636  0.500000   \n",
       "337  relegation_battle                25.0         0.410714  0.550000   \n",
       "338         relegation                57.0         0.327869  0.217391   \n",
       "339      europa_league                 NaN         0.505376  1.230769   \n",
       "\n",
       "     surpluss_goals  points_rate  goals_per_loss  \n",
       "0               -33     1.111111        2.500000  \n",
       "1               -24     1.375000        3.437500  \n",
       "2               -27     1.375000        2.812500  \n",
       "3               -27     1.000000        2.947368  \n",
       "4                20     5.333333       14.166667  \n",
       "..              ...          ...             ...  \n",
       "335             -46     1.000000        2.000000  \n",
       "336             -33     1.111111        1.777778  \n",
       "337             -31     0.900000        2.300000  \n",
       "338             -47     0.652174        1.739130  \n",
       "339             -15     1.923077        3.615385  \n",
       "\n",
       "[340 rows x 19 columns]"
      ]
     },
     "execution_count": 28,
     "metadata": {},
     "output_type": "execute_result"
    }
   ],
   "source": [
    "df"
   ]
  },
  {
   "cell_type": "code",
   "execution_count": 30,
   "metadata": {},
   "outputs": [],
   "source": [
    "df['next_year'] = df.year.shift(-1)"
   ]
  },
  {
   "cell_type": "code",
   "execution_count": 31,
   "metadata": {},
   "outputs": [
    {
     "data": {
      "text/plain": [
       "points                0.784466\n",
       "goal_differential     0.808551\n",
       "next_season_points    1.000000\n",
       "wins                  0.760709\n",
       "goals_for             0.752497\n",
       "goals_against        -0.699766\n",
       "place                -0.726295\n",
       "losses               -0.770751\n",
       "goal_percentage       0.816789\n",
       "win_rate              0.571873\n",
       "surpluss_goals        0.805589\n",
       "points_rate           0.567617\n",
       "goals_per_loss        0.604209\n",
       "seasons_in_epl        0.638860\n",
       "Name: next_season_points, dtype: float64"
      ]
     },
     "execution_count": 31,
     "metadata": {},
     "output_type": "execute_result"
    }
   ],
   "source": [
    "(df[['points', 'goal_differential', 'next_season_points', \n",
    "     'wins', 'goals_for', 'goals_against', 'place', 'losses', \n",
    "     'goal_percentage', 'win_rate', 'surpluss_goals', 'points_rate',\n",
    "    'goals_per_loss', 'seasons_in_epl']]\n",
    "     .dropna().corr().next_season_points)"
   ]
  },
  {
   "cell_type": "markdown",
   "metadata": {},
   "source": [
    "#### Overview of the dataframe"
   ]
  },
  {
   "cell_type": "code",
   "execution_count": 32,
   "metadata": {},
   "outputs": [
    {
     "name": "stdout",
     "output_type": "stream",
     "text": [
      "(340, 20)\n",
      "<class 'pandas.core.frame.DataFrame'>\n",
      "RangeIndex: 340 entries, 0 to 339\n",
      "Data columns (total 20 columns):\n",
      "team_name             340 non-null object\n",
      "games_played          340 non-null int64\n",
      "wins                  340 non-null int64\n",
      "draws                 340 non-null int64\n",
      "losses                340 non-null int64\n",
      "goals_for             340 non-null int64\n",
      "goals_against         340 non-null int64\n",
      "goal_differential     340 non-null int64\n",
      "points                340 non-null int64\n",
      "year                  340 non-null int64\n",
      "place                 340 non-null int64\n",
      "seasons_in_epl        340 non-null int64\n",
      "finish                340 non-null object\n",
      "next_season_points    300 non-null float64\n",
      "goal_percentage       340 non-null float64\n",
      "win_rate              340 non-null float64\n",
      "surpluss_goals        340 non-null int64\n",
      "points_rate           340 non-null float64\n",
      "goals_per_loss        340 non-null float64\n",
      "next_year             339 non-null float64\n",
      "dtypes: float64(6), int64(12), object(2)\n",
      "memory usage: 53.2+ KB\n",
      "None\n"
     ]
    },
    {
     "data": {
      "text/html": [
       "<div>\n",
       "<style scoped>\n",
       "    .dataframe tbody tr th:only-of-type {\n",
       "        vertical-align: middle;\n",
       "    }\n",
       "\n",
       "    .dataframe tbody tr th {\n",
       "        vertical-align: top;\n",
       "    }\n",
       "\n",
       "    .dataframe thead th {\n",
       "        text-align: right;\n",
       "    }\n",
       "</style>\n",
       "<table border=\"1\" class=\"dataframe\">\n",
       "  <thead>\n",
       "    <tr style=\"text-align: right;\">\n",
       "      <th></th>\n",
       "      <th>team_name</th>\n",
       "      <th>games_played</th>\n",
       "      <th>wins</th>\n",
       "      <th>draws</th>\n",
       "      <th>losses</th>\n",
       "      <th>goals_for</th>\n",
       "      <th>goals_against</th>\n",
       "      <th>goal_differential</th>\n",
       "      <th>points</th>\n",
       "      <th>year</th>\n",
       "      <th>place</th>\n",
       "      <th>seasons_in_epl</th>\n",
       "      <th>finish</th>\n",
       "      <th>next_season_points</th>\n",
       "      <th>goal_percentage</th>\n",
       "      <th>win_rate</th>\n",
       "      <th>surpluss_goals</th>\n",
       "      <th>points_rate</th>\n",
       "      <th>goals_per_loss</th>\n",
       "      <th>next_year</th>\n",
       "    </tr>\n",
       "  </thead>\n",
       "  <tbody>\n",
       "    <tr>\n",
       "      <th>0</th>\n",
       "      <td>AFC Bournemouth</td>\n",
       "      <td>38</td>\n",
       "      <td>11</td>\n",
       "      <td>9</td>\n",
       "      <td>18</td>\n",
       "      <td>45</td>\n",
       "      <td>67</td>\n",
       "      <td>-22</td>\n",
       "      <td>42</td>\n",
       "      <td>2015</td>\n",
       "      <td>16</td>\n",
       "      <td>4</td>\n",
       "      <td>relegation_battle</td>\n",
       "      <td>46.0</td>\n",
       "      <td>0.401786</td>\n",
       "      <td>0.611111</td>\n",
       "      <td>-33</td>\n",
       "      <td>1.111111</td>\n",
       "      <td>2.5000</td>\n",
       "      <td>2016.0</td>\n",
       "    </tr>\n",
       "    <tr>\n",
       "      <th>1</th>\n",
       "      <td>AFC Bournemouth</td>\n",
       "      <td>38</td>\n",
       "      <td>12</td>\n",
       "      <td>10</td>\n",
       "      <td>16</td>\n",
       "      <td>55</td>\n",
       "      <td>67</td>\n",
       "      <td>-12</td>\n",
       "      <td>46</td>\n",
       "      <td>2016</td>\n",
       "      <td>9</td>\n",
       "      <td>4</td>\n",
       "      <td>mid_table</td>\n",
       "      <td>44.0</td>\n",
       "      <td>0.450820</td>\n",
       "      <td>0.750000</td>\n",
       "      <td>-24</td>\n",
       "      <td>1.375000</td>\n",
       "      <td>3.4375</td>\n",
       "      <td>2017.0</td>\n",
       "    </tr>\n",
       "  </tbody>\n",
       "</table>\n",
       "</div>"
      ],
      "text/plain": [
       "         team_name  games_played  wins  draws  losses  goals_for  \\\n",
       "0  AFC Bournemouth            38    11      9      18         45   \n",
       "1  AFC Bournemouth            38    12     10      16         55   \n",
       "\n",
       "   goals_against  goal_differential  points  year  place  seasons_in_epl  \\\n",
       "0             67                -22      42  2015     16               4   \n",
       "1             67                -12      46  2016      9               4   \n",
       "\n",
       "              finish  next_season_points  goal_percentage  win_rate  \\\n",
       "0  relegation_battle                46.0         0.401786  0.611111   \n",
       "1          mid_table                44.0         0.450820  0.750000   \n",
       "\n",
       "   surpluss_goals  points_rate  goals_per_loss  next_year  \n",
       "0             -33     1.111111          2.5000     2016.0  \n",
       "1             -24     1.375000          3.4375     2017.0  "
      ]
     },
     "execution_count": 32,
     "metadata": {},
     "output_type": "execute_result"
    }
   ],
   "source": [
    "print(df.shape)\n",
    "print(df.info())\n",
    "df.head(2)"
   ]
  },
  {
   "cell_type": "code",
   "execution_count": 33,
   "metadata": {},
   "outputs": [
    {
     "data": {
      "text/html": [
       "<div>\n",
       "<style scoped>\n",
       "    .dataframe tbody tr th:only-of-type {\n",
       "        vertical-align: middle;\n",
       "    }\n",
       "\n",
       "    .dataframe tbody tr th {\n",
       "        vertical-align: top;\n",
       "    }\n",
       "\n",
       "    .dataframe thead th {\n",
       "        text-align: right;\n",
       "    }\n",
       "</style>\n",
       "<table border=\"1\" class=\"dataframe\">\n",
       "  <thead>\n",
       "    <tr style=\"text-align: right;\">\n",
       "      <th></th>\n",
       "      <th>games_played</th>\n",
       "      <th>wins</th>\n",
       "      <th>draws</th>\n",
       "      <th>losses</th>\n",
       "      <th>goals_for</th>\n",
       "      <th>goals_against</th>\n",
       "      <th>goal_differential</th>\n",
       "      <th>points</th>\n",
       "      <th>year</th>\n",
       "      <th>place</th>\n",
       "      <th>seasons_in_epl</th>\n",
       "      <th>next_season_points</th>\n",
       "      <th>goal_percentage</th>\n",
       "      <th>win_rate</th>\n",
       "      <th>surpluss_goals</th>\n",
       "      <th>points_rate</th>\n",
       "      <th>goals_per_loss</th>\n",
       "      <th>next_year</th>\n",
       "    </tr>\n",
       "  </thead>\n",
       "  <tbody>\n",
       "    <tr>\n",
       "      <th>count</th>\n",
       "      <td>340.0</td>\n",
       "      <td>340.000000</td>\n",
       "      <td>340.000000</td>\n",
       "      <td>340.000000</td>\n",
       "      <td>340.000000</td>\n",
       "      <td>340.000000</td>\n",
       "      <td>340.000000</td>\n",
       "      <td>340.000000</td>\n",
       "      <td>340.0000</td>\n",
       "      <td>340.00000</td>\n",
       "      <td>340.000000</td>\n",
       "      <td>300.000000</td>\n",
       "      <td>340.000000</td>\n",
       "      <td>340.000000</td>\n",
       "      <td>340.000000</td>\n",
       "      <td>340.000000</td>\n",
       "      <td>340.000000</td>\n",
       "      <td>339.000000</td>\n",
       "    </tr>\n",
       "    <tr>\n",
       "      <th>mean</th>\n",
       "      <td>38.0</td>\n",
       "      <td>14.235294</td>\n",
       "      <td>9.529412</td>\n",
       "      <td>14.235294</td>\n",
       "      <td>50.758824</td>\n",
       "      <td>50.758824</td>\n",
       "      <td>0.000000</td>\n",
       "      <td>52.208824</td>\n",
       "      <td>2010.0000</td>\n",
       "      <td>10.50000</td>\n",
       "      <td>11.941176</td>\n",
       "      <td>53.196667</td>\n",
       "      <td>0.497100</td>\n",
       "      <td>inf</td>\n",
       "      <td>-14.235294</td>\n",
       "      <td>inf</td>\n",
       "      <td>inf</td>\n",
       "      <td>2009.985251</td>\n",
       "    </tr>\n",
       "    <tr>\n",
       "      <th>std</th>\n",
       "      <td>0.0</td>\n",
       "      <td>6.023841</td>\n",
       "      <td>2.819394</td>\n",
       "      <td>5.595820</td>\n",
       "      <td>15.492335</td>\n",
       "      <td>13.182430</td>\n",
       "      <td>25.948667</td>\n",
       "      <td>17.242002</td>\n",
       "      <td>4.9062</td>\n",
       "      <td>5.77478</td>\n",
       "      <td>4.839861</td>\n",
       "      <td>17.325277</td>\n",
       "      <td>0.122980</td>\n",
       "      <td>NaN</td>\n",
       "      <td>20.319075</td>\n",
       "      <td>NaN</td>\n",
       "      <td>NaN</td>\n",
       "      <td>4.905897</td>\n",
       "    </tr>\n",
       "    <tr>\n",
       "      <th>min</th>\n",
       "      <td>38.0</td>\n",
       "      <td>1.000000</td>\n",
       "      <td>2.000000</td>\n",
       "      <td>0.000000</td>\n",
       "      <td>20.000000</td>\n",
       "      <td>15.000000</td>\n",
       "      <td>-69.000000</td>\n",
       "      <td>11.000000</td>\n",
       "      <td>2002.0000</td>\n",
       "      <td>1.00000</td>\n",
       "      <td>1.000000</td>\n",
       "      <td>15.000000</td>\n",
       "      <td>0.183486</td>\n",
       "      <td>0.034483</td>\n",
       "      <td>-70.000000</td>\n",
       "      <td>0.310345</td>\n",
       "      <td>0.689655</td>\n",
       "      <td>2002.000000</td>\n",
       "    </tr>\n",
       "    <tr>\n",
       "      <th>25%</th>\n",
       "      <td>38.0</td>\n",
       "      <td>10.000000</td>\n",
       "      <td>7.000000</td>\n",
       "      <td>10.000000</td>\n",
       "      <td>41.000000</td>\n",
       "      <td>41.750000</td>\n",
       "      <td>-18.250000</td>\n",
       "      <td>40.000000</td>\n",
       "      <td>2006.0000</td>\n",
       "      <td>5.75000</td>\n",
       "      <td>7.750000</td>\n",
       "      <td>41.000000</td>\n",
       "      <td>0.408303</td>\n",
       "      <td>0.554167</td>\n",
       "      <td>-28.000000</td>\n",
       "      <td>1.111111</td>\n",
       "      <td>2.280952</td>\n",
       "      <td>2006.000000</td>\n",
       "    </tr>\n",
       "    <tr>\n",
       "      <th>50%</th>\n",
       "      <td>38.0</td>\n",
       "      <td>13.000000</td>\n",
       "      <td>9.000000</td>\n",
       "      <td>15.000000</td>\n",
       "      <td>47.000000</td>\n",
       "      <td>51.000000</td>\n",
       "      <td>-7.000000</td>\n",
       "      <td>47.500000</td>\n",
       "      <td>2010.0000</td>\n",
       "      <td>10.50000</td>\n",
       "      <td>13.000000</td>\n",
       "      <td>48.500000</td>\n",
       "      <td>0.465347</td>\n",
       "      <td>0.806250</td>\n",
       "      <td>-19.000000</td>\n",
       "      <td>1.533333</td>\n",
       "      <td>3.000000</td>\n",
       "      <td>2010.000000</td>\n",
       "    </tr>\n",
       "    <tr>\n",
       "      <th>75%</th>\n",
       "      <td>38.0</td>\n",
       "      <td>18.000000</td>\n",
       "      <td>11.000000</td>\n",
       "      <td>18.000000</td>\n",
       "      <td>59.000000</td>\n",
       "      <td>59.000000</td>\n",
       "      <td>16.500000</td>\n",
       "      <td>63.000000</td>\n",
       "      <td>2014.0000</td>\n",
       "      <td>15.25000</td>\n",
       "      <td>17.000000</td>\n",
       "      <td>64.250000</td>\n",
       "      <td>0.583726</td>\n",
       "      <td>1.771368</td>\n",
       "      <td>-0.750000</td>\n",
       "      <td>2.800000</td>\n",
       "      <td>5.706818</td>\n",
       "      <td>2014.000000</td>\n",
       "    </tr>\n",
       "    <tr>\n",
       "      <th>max</th>\n",
       "      <td>38.0</td>\n",
       "      <td>32.000000</td>\n",
       "      <td>17.000000</td>\n",
       "      <td>29.000000</td>\n",
       "      <td>106.000000</td>\n",
       "      <td>89.000000</td>\n",
       "      <td>79.000000</td>\n",
       "      <td>100.000000</td>\n",
       "      <td>2018.0000</td>\n",
       "      <td>20.00000</td>\n",
       "      <td>17.000000</td>\n",
       "      <td>100.000000</td>\n",
       "      <td>0.827586</td>\n",
       "      <td>inf</td>\n",
       "      <td>47.000000</td>\n",
       "      <td>inf</td>\n",
       "      <td>inf</td>\n",
       "      <td>2018.000000</td>\n",
       "    </tr>\n",
       "  </tbody>\n",
       "</table>\n",
       "</div>"
      ],
      "text/plain": [
       "       games_played        wins       draws      losses   goals_for  \\\n",
       "count         340.0  340.000000  340.000000  340.000000  340.000000   \n",
       "mean           38.0   14.235294    9.529412   14.235294   50.758824   \n",
       "std             0.0    6.023841    2.819394    5.595820   15.492335   \n",
       "min            38.0    1.000000    2.000000    0.000000   20.000000   \n",
       "25%            38.0   10.000000    7.000000   10.000000   41.000000   \n",
       "50%            38.0   13.000000    9.000000   15.000000   47.000000   \n",
       "75%            38.0   18.000000   11.000000   18.000000   59.000000   \n",
       "max            38.0   32.000000   17.000000   29.000000  106.000000   \n",
       "\n",
       "       goals_against  goal_differential      points       year      place  \\\n",
       "count     340.000000         340.000000  340.000000   340.0000  340.00000   \n",
       "mean       50.758824           0.000000   52.208824  2010.0000   10.50000   \n",
       "std        13.182430          25.948667   17.242002     4.9062    5.77478   \n",
       "min        15.000000         -69.000000   11.000000  2002.0000    1.00000   \n",
       "25%        41.750000         -18.250000   40.000000  2006.0000    5.75000   \n",
       "50%        51.000000          -7.000000   47.500000  2010.0000   10.50000   \n",
       "75%        59.000000          16.500000   63.000000  2014.0000   15.25000   \n",
       "max        89.000000          79.000000  100.000000  2018.0000   20.00000   \n",
       "\n",
       "       seasons_in_epl  next_season_points  goal_percentage    win_rate  \\\n",
       "count      340.000000          300.000000       340.000000  340.000000   \n",
       "mean        11.941176           53.196667         0.497100         inf   \n",
       "std          4.839861           17.325277         0.122980         NaN   \n",
       "min          1.000000           15.000000         0.183486    0.034483   \n",
       "25%          7.750000           41.000000         0.408303    0.554167   \n",
       "50%         13.000000           48.500000         0.465347    0.806250   \n",
       "75%         17.000000           64.250000         0.583726    1.771368   \n",
       "max         17.000000          100.000000         0.827586         inf   \n",
       "\n",
       "       surpluss_goals  points_rate  goals_per_loss    next_year  \n",
       "count      340.000000   340.000000      340.000000   339.000000  \n",
       "mean       -14.235294          inf             inf  2009.985251  \n",
       "std         20.319075          NaN             NaN     4.905897  \n",
       "min        -70.000000     0.310345        0.689655  2002.000000  \n",
       "25%        -28.000000     1.111111        2.280952  2006.000000  \n",
       "50%        -19.000000     1.533333        3.000000  2010.000000  \n",
       "75%         -0.750000     2.800000        5.706818  2014.000000  \n",
       "max         47.000000          inf             inf  2018.000000  "
      ]
     },
     "execution_count": 33,
     "metadata": {},
     "output_type": "execute_result"
    }
   ],
   "source": [
    "df.describe()"
   ]
  },
  {
   "cell_type": "markdown",
   "metadata": {},
   "source": [
    "# Explore"
   ]
  },
  {
   "cell_type": "markdown",
   "metadata": {},
   "source": [
    "### Team Results"
   ]
  },
  {
   "cell_type": "code",
   "execution_count": 34,
   "metadata": {},
   "outputs": [
    {
     "data": {
      "image/png": "[encoded data removed]",
      "text/plain": [
       "<Figure size 432x288 with 1 Axes>"
      ]
     },
     "metadata": {
      "needs_background": "light"
     },
     "output_type": "display_data"
    }
   ],
   "source": [
    "df.set_index('year').groupby('team_name').points.plot()\n",
    "plt.title('Team Points by Year')\n",
    "plt.show()"
   ]
  },
  {
   "cell_type": "markdown",
   "metadata": {},
   "source": [
    "**Takeaways** At the top of the viz, you can see that there are a couple teams that have stayed at the top of the table, but as you get further towards the middle, the data becomes a lot more muddled"
   ]
  },
  {
   "cell_type": "code",
   "execution_count": 35,
   "metadata": {},
   "outputs": [
    {
     "data": {
      "image/png": "[encoded data removed]",
      "text/plain": [
       "<Figure size 432x288 with 1 Axes>"
      ]
     },
     "metadata": {
      "needs_background": "light"
     },
     "output_type": "display_data"
    }
   ],
   "source": [
    "df.points.hist(bins=5)\n",
    "plt.title(\"Distribution of Points by Team-Season\")\n",
    "plt.show()"
   ]
  },
  {
   "cell_type": "markdown",
   "metadata": {},
   "source": [
    "**Takeaways** Looks like a poisson distribution."
   ]
  },
  {
   "cell_type": "code",
   "execution_count": 36,
   "metadata": {},
   "outputs": [
    {
     "data": {
      "image/png": "[encoded data removed]",
      "text/plain": [
       "<Figure size 432x288 with 1 Axes>"
      ]
     },
     "metadata": {
      "needs_background": "light"
     },
     "output_type": "display_data"
    }
   ],
   "source": [
    "df.draws.hist(bins=5)\n",
    "plt.title(\"Distribution of Draws by Team-Season\")\n",
    "plt.show()"
   ]
  },
  {
   "cell_type": "markdown",
   "metadata": {},
   "source": [
    "**Takeaways** Normal distribution around 9-10 draws per season"
   ]
  },
  {
   "cell_type": "code",
   "execution_count": 37,
   "metadata": {},
   "outputs": [
    {
     "data": {
      "text/plain": [
       "count    340.000000\n",
       "mean       9.529412\n",
       "std        2.819394\n",
       "min        2.000000\n",
       "25%        7.000000\n",
       "50%        9.000000\n",
       "75%       11.000000\n",
       "max       17.000000\n",
       "Name: draws, dtype: float64"
      ]
     },
     "execution_count": 37,
     "metadata": {},
     "output_type": "execute_result"
    }
   ],
   "source": [
    "df.draws.describe()"
   ]
  },
  {
   "cell_type": "markdown",
   "metadata": {},
   "source": [
    "Average number of draws per year is 9.5"
   ]
  },
  {
   "cell_type": "markdown",
   "metadata": {},
   "source": [
    "### Exploring Draws a little more closely"
   ]
  },
  {
   "cell_type": "code",
   "execution_count": 38,
   "metadata": {},
   "outputs": [
    {
     "data": {
      "text/plain": [
       "Text(0.5, 1.0, 'Is There a Pattern for Draws by Table Place?')"
      ]
     },
     "execution_count": 38,
     "metadata": {},
     "output_type": "execute_result"
    },
    {
     "data": {
      "image/png": "[encoded data removed]",
      "text/plain": [
       "<Figure size 432x288 with 1 Axes>"
      ]
     },
     "metadata": {
      "needs_background": "light"
     },
     "output_type": "display_data"
    }
   ],
   "source": [
    "df.groupby('place').draws.mean().plot.bar(color='green')\n",
    "plt.title('Is There a Pattern for Draws by Table Place?')"
   ]
  },
  {
   "cell_type": "markdown",
   "metadata": {},
   "source": [
    "**Takeaways** Number of draws tend to be higher at the middle of the table"
   ]
  },
  {
   "cell_type": "code",
   "execution_count": 39,
   "metadata": {},
   "outputs": [
    {
     "data": {
      "image/png": "[encoded data removed]",
      "text/plain": [
       "<Figure size 432x288 with 1 Axes>"
      ]
     },
     "metadata": {
      "needs_background": "light"
     },
     "output_type": "display_data"
    }
   ],
   "source": [
    "df.groupby('year').draws.mean().plot.bar(color='red')\n",
    "plt.title('Is There a Pattern of Draws by Year?')\n",
    "plt.show()"
   ]
  },
  {
   "cell_type": "markdown",
   "metadata": {},
   "source": [
    "**Takeaways** Not really, there is a pretty significant difference between certain years, but no noticeable trends\n",
    "**Furtherwork** Some hypothesis testing and statistical analysis"
   ]
  },
  {
   "cell_type": "code",
   "execution_count": 40,
   "metadata": {},
   "outputs": [
    {
     "data": {
      "image/png": "[encoded data removed]",
      "text/plain": [
       "<Figure size 1152x360 with 1 Axes>"
      ]
     },
     "metadata": {
      "needs_background": "light"
     },
     "output_type": "display_data"
    }
   ],
   "source": [
    "plt.figure(figsize=(16,5))\n",
    "df.groupby('team_name').draws.mean().plot.bar(color='purple')\n",
    "plt.title('Is There a Pattern of Draws by Team?')\n",
    "plt.show()"
   ]
  },
  {
   "cell_type": "markdown",
   "metadata": {},
   "source": [
    "**Takeaways** Likely, but not immediately evident."
   ]
  },
  {
   "cell_type": "code",
   "execution_count": 41,
   "metadata": {},
   "outputs": [
    {
     "data": {
      "text/plain": [
       "Text(0.5, 1.0, 'Because of Relegation, How Many Seasons Has Each Team Played?')"
      ]
     },
     "execution_count": 41,
     "metadata": {},
     "output_type": "execute_result"
    },
    {
     "data": {
      "image/png": "[encoded data removed]",
      "text/plain": [
       "<Figure size 1152x360 with 1 Axes>"
      ]
     },
     "metadata": {
      "needs_background": "light"
     },
     "output_type": "display_data"
    }
   ],
   "source": [
    "plt.figure(figsize=(16,5))\n",
    "df.groupby('team_name').draws.count().sort_values(ascending=False).plot.bar(color='orange')\n",
    "plt.title('Because of Relegation, How Many Seasons Has Each Team Played?')"
   ]
  },
  {
   "cell_type": "markdown",
   "metadata": {},
   "source": [
    "### Just for fun , lets look at scatter plots of number of seasons and average number of points and draws!"
   ]
  },
  {
   "cell_type": "code",
   "execution_count": 42,
   "metadata": {},
   "outputs": [
    {
     "data": {
      "text/plain": [
       "Text(0.5, 1.0, 'What is the Relationship between No of Seasons in EPL and Avg No of Draws')"
      ]
     },
     "execution_count": 42,
     "metadata": {},
     "output_type": "execute_result"
    },
    {
     "data": {
      "image/png": "[encoded data removed]",
      "text/plain": [
       "<Figure size 432x288 with 1 Axes>"
      ]
     },
     "metadata": {
      "needs_background": "light"
     },
     "output_type": "display_data"
    }
   ],
   "source": [
    "df_temp = df.groupby('team_name').draws.agg(['count', 'mean'])\n",
    "sns.scatterplot(x='count', y='mean', data=df_temp)\n",
    "plt.xlabel('Number of Seasons')\n",
    "plt.ylabel('Average Number of Draws')\n",
    "plt.title('What is the Relationship between No of Seasons in EPL and Avg No of Draws')"
   ]
  },
  {
   "cell_type": "code",
   "execution_count": 43,
   "metadata": {},
   "outputs": [
    {
     "data": {
      "text/plain": [
       "Text(0.5, 1.0, 'What is the Relationship between No of Seasons in EPL and Avg Points')"
      ]
     },
     "execution_count": 43,
     "metadata": {},
     "output_type": "execute_result"
    },
    {
     "data": {
      "image/png": "[encoded data removed]",
      "text/plain": [
       "<Figure size 360x360 with 1 Axes>"
      ]
     },
     "metadata": {
      "needs_background": "light"
     },
     "output_type": "display_data"
    }
   ],
   "source": [
    "df_temp = df.groupby('team_name').points.agg(['count', 'mean'])\n",
    "sns.lmplot(x='count', y='mean', data=df_temp)\n",
    "plt.xlabel('Number of Seasons')\n",
    "plt.ylabel('Average Number of Points')\n",
    "plt.title('What is the Relationship between No of Seasons in EPL and Avg Points')"
   ]
  },
  {
   "cell_type": "markdown",
   "metadata": {},
   "source": [
    "**Takeaways:** Seems to be a pretty clear linear relationship between number of seasons in the Premier League and the Average number of Points"
   ]
  },
  {
   "cell_type": "code",
   "execution_count": 44,
   "metadata": {},
   "outputs": [
    {
     "data": {
      "text/plain": [
       "Text(0.5, 1.0, 'What is the relationship between points and goal differential')"
      ]
     },
     "execution_count": 44,
     "metadata": {},
     "output_type": "execute_result"
    },
    {
     "data": {
      "image/png": "[encoded data removed]",
      "text/plain": [
       "<Figure size 360x360 with 1 Axes>"
      ]
     },
     "metadata": {
      "needs_background": "light"
     },
     "output_type": "display_data"
    }
   ],
   "source": [
    "sns.lmplot(x='points', y = 'goal_differential', data = df)\n",
    "plt.title('What is the relationship between points and goal differential')"
   ]
  },
  {
   "cell_type": "code",
   "execution_count": 45,
   "metadata": {},
   "outputs": [
    {
     "data": {
      "text/plain": [
       "Text(0.5, 1.0, 'What is the relationship between points and place')"
      ]
     },
     "execution_count": 45,
     "metadata": {},
     "output_type": "execute_result"
    },
    {
     "data": {
      "image/png": "[encoded data removed]",
      "text/plain": [
       "<Figure size 360x360 with 1 Axes>"
      ]
     },
     "metadata": {
      "needs_background": "light"
     },
     "output_type": "display_data"
    }
   ],
   "source": [
    "sns.lmplot(x='place', y = 'goal_differential', data = df)\n",
    "plt.title('What is the relationship between points and place')"
   ]
  },
  {
   "cell_type": "markdown",
   "metadata": {},
   "source": [
    "### Is it better to win or avoid a loss?"
   ]
  },
  {
   "cell_type": "code",
   "execution_count": 46,
   "metadata": {},
   "outputs": [
    {
     "data": {
      "text/plain": [
       "Text(0, 0.5, 'Absolute value of correlation')"
      ]
     },
     "execution_count": 46,
     "metadata": {},
     "output_type": "execute_result"
    },
    {
     "data": {
      "image/png": "[encoded data removed]",
      "text/plain": [
       "<Figure size 432x288 with 1 Axes>"
      ]
     },
     "metadata": {
      "needs_background": "light"
     },
     "output_type": "display_data"
    }
   ],
   "source": [
    "df[['wins', 'losses', 'points']].corr().points[0:2].abs().plot.bar(color='indigo')\n",
    "plt.title(\"Absolute value of Points to Wins and Losses\")\n",
    "plt.ylabel('Absolute value of correlation')"
   ]
  },
  {
   "cell_type": "markdown",
   "metadata": {},
   "source": [
    "**Takeaways:** Although there is a high absolute correlation to both.  It appears that winning is more important than avoiding losses."
   ]
  },
  {
   "cell_type": "code",
   "execution_count": 47,
   "metadata": {},
   "outputs": [
    {
     "data": {
      "text/plain": [
       "Text(0, 0.5, 'Absolute value of correlation')"
      ]
     },
     "execution_count": 47,
     "metadata": {},
     "output_type": "execute_result"
    },
    {
     "data": {
      "image/png": "[encoded data removed]",
      "text/plain": [
       "<Figure size 432x288 with 1 Axes>"
      ]
     },
     "metadata": {
      "needs_background": "light"
     },
     "output_type": "display_data"
    }
   ],
   "source": [
    "df[df.place <= 4][['wins', 'losses', 'points']].corr().points[0:2].abs().plot.bar(color='indigo')\n",
    "plt.title(\"Absolute value of Points to Wins and Losses for Champions League Places\")\n",
    "plt.ylabel('Absolute value of correlation')"
   ]
  },
  {
   "cell_type": "code",
   "execution_count": 48,
   "metadata": {},
   "outputs": [
    {
     "data": {
      "text/plain": [
       "Text(0, 0.5, 'Absolute value of correlation')"
      ]
     },
     "execution_count": 48,
     "metadata": {},
     "output_type": "execute_result"
    },
    {
     "data": {
      "image/png": "[encoded data removed]",
      "text/plain": [
       "<Figure size 432x288 with 1 Axes>"
      ]
     },
     "metadata": {
      "needs_background": "light"
     },
     "output_type": "display_data"
    }
   ],
   "source": [
    "df[df.place >= 18][['wins', 'losses', 'points']].corr().points[0:2].abs().plot.bar(color='indigo')\n",
    "plt.title(\"Absolute value of Points to Wins and Losses for Champions League Places\")\n",
    "plt.ylabel('Absolute value of correlation')"
   ]
  },
  {
   "cell_type": "markdown",
   "metadata": {},
   "source": [
    "# Modeling"
   ]
  },
  {
   "cell_type": "code",
   "execution_count": 49,
   "metadata": {},
   "outputs": [
    {
     "data": {
      "text/html": [
       "<div>\n",
       "<style scoped>\n",
       "    .dataframe tbody tr th:only-of-type {\n",
       "        vertical-align: middle;\n",
       "    }\n",
       "\n",
       "    .dataframe tbody tr th {\n",
       "        vertical-align: top;\n",
       "    }\n",
       "\n",
       "    .dataframe thead th {\n",
       "        text-align: right;\n",
       "    }\n",
       "</style>\n",
       "<table border=\"1\" class=\"dataframe\">\n",
       "  <thead>\n",
       "    <tr style=\"text-align: right;\">\n",
       "      <th></th>\n",
       "      <th>team_name</th>\n",
       "      <th>games_played</th>\n",
       "      <th>wins</th>\n",
       "      <th>draws</th>\n",
       "      <th>losses</th>\n",
       "      <th>goals_for</th>\n",
       "      <th>goals_against</th>\n",
       "      <th>goal_differential</th>\n",
       "      <th>points</th>\n",
       "      <th>year</th>\n",
       "      <th>place</th>\n",
       "      <th>seasons_in_epl</th>\n",
       "      <th>finish</th>\n",
       "      <th>next_season_points</th>\n",
       "      <th>goal_percentage</th>\n",
       "      <th>win_rate</th>\n",
       "      <th>surpluss_goals</th>\n",
       "      <th>points_rate</th>\n",
       "      <th>goals_per_loss</th>\n",
       "      <th>next_year</th>\n",
       "    </tr>\n",
       "  </thead>\n",
       "  <tbody>\n",
       "    <tr>\n",
       "      <th>0</th>\n",
       "      <td>AFC Bournemouth</td>\n",
       "      <td>38</td>\n",
       "      <td>11</td>\n",
       "      <td>9</td>\n",
       "      <td>18</td>\n",
       "      <td>45</td>\n",
       "      <td>67</td>\n",
       "      <td>-22</td>\n",
       "      <td>42</td>\n",
       "      <td>2015</td>\n",
       "      <td>16</td>\n",
       "      <td>4</td>\n",
       "      <td>relegation_battle</td>\n",
       "      <td>46.0</td>\n",
       "      <td>0.401786</td>\n",
       "      <td>0.611111</td>\n",
       "      <td>-33</td>\n",
       "      <td>1.111111</td>\n",
       "      <td>2.500000</td>\n",
       "      <td>2016.0</td>\n",
       "    </tr>\n",
       "    <tr>\n",
       "      <th>1</th>\n",
       "      <td>AFC Bournemouth</td>\n",
       "      <td>38</td>\n",
       "      <td>12</td>\n",
       "      <td>10</td>\n",
       "      <td>16</td>\n",
       "      <td>55</td>\n",
       "      <td>67</td>\n",
       "      <td>-12</td>\n",
       "      <td>46</td>\n",
       "      <td>2016</td>\n",
       "      <td>9</td>\n",
       "      <td>4</td>\n",
       "      <td>mid_table</td>\n",
       "      <td>44.0</td>\n",
       "      <td>0.450820</td>\n",
       "      <td>0.750000</td>\n",
       "      <td>-24</td>\n",
       "      <td>1.375000</td>\n",
       "      <td>3.437500</td>\n",
       "      <td>2017.0</td>\n",
       "    </tr>\n",
       "    <tr>\n",
       "      <th>2</th>\n",
       "      <td>AFC Bournemouth</td>\n",
       "      <td>38</td>\n",
       "      <td>11</td>\n",
       "      <td>11</td>\n",
       "      <td>16</td>\n",
       "      <td>45</td>\n",
       "      <td>61</td>\n",
       "      <td>-16</td>\n",
       "      <td>44</td>\n",
       "      <td>2017</td>\n",
       "      <td>12</td>\n",
       "      <td>4</td>\n",
       "      <td>mid_table</td>\n",
       "      <td>45.0</td>\n",
       "      <td>0.424528</td>\n",
       "      <td>0.687500</td>\n",
       "      <td>-27</td>\n",
       "      <td>1.375000</td>\n",
       "      <td>2.812500</td>\n",
       "      <td>2018.0</td>\n",
       "    </tr>\n",
       "    <tr>\n",
       "      <th>3</th>\n",
       "      <td>AFC Bournemouth</td>\n",
       "      <td>38</td>\n",
       "      <td>13</td>\n",
       "      <td>6</td>\n",
       "      <td>19</td>\n",
       "      <td>56</td>\n",
       "      <td>70</td>\n",
       "      <td>-14</td>\n",
       "      <td>45</td>\n",
       "      <td>2018</td>\n",
       "      <td>14</td>\n",
       "      <td>4</td>\n",
       "      <td>mid_table</td>\n",
       "      <td>NaN</td>\n",
       "      <td>0.444444</td>\n",
       "      <td>0.684211</td>\n",
       "      <td>-27</td>\n",
       "      <td>1.000000</td>\n",
       "      <td>2.947368</td>\n",
       "      <td>2002.0</td>\n",
       "    </tr>\n",
       "    <tr>\n",
       "      <th>4</th>\n",
       "      <td>Arsenal</td>\n",
       "      <td>38</td>\n",
       "      <td>23</td>\n",
       "      <td>9</td>\n",
       "      <td>6</td>\n",
       "      <td>85</td>\n",
       "      <td>42</td>\n",
       "      <td>43</td>\n",
       "      <td>78</td>\n",
       "      <td>2002</td>\n",
       "      <td>2</td>\n",
       "      <td>17</td>\n",
       "      <td>champions_league</td>\n",
       "      <td>90.0</td>\n",
       "      <td>0.669291</td>\n",
       "      <td>3.833333</td>\n",
       "      <td>20</td>\n",
       "      <td>5.333333</td>\n",
       "      <td>14.166667</td>\n",
       "      <td>2003.0</td>\n",
       "    </tr>\n",
       "  </tbody>\n",
       "</table>\n",
       "</div>"
      ],
      "text/plain": [
       "         team_name  games_played  wins  draws  losses  goals_for  \\\n",
       "0  AFC Bournemouth            38    11      9      18         45   \n",
       "1  AFC Bournemouth            38    12     10      16         55   \n",
       "2  AFC Bournemouth            38    11     11      16         45   \n",
       "3  AFC Bournemouth            38    13      6      19         56   \n",
       "4          Arsenal            38    23      9       6         85   \n",
       "\n",
       "   goals_against  goal_differential  points  year  place  seasons_in_epl  \\\n",
       "0             67                -22      42  2015     16               4   \n",
       "1             67                -12      46  2016      9               4   \n",
       "2             61                -16      44  2017     12               4   \n",
       "3             70                -14      45  2018     14               4   \n",
       "4             42                 43      78  2002      2              17   \n",
       "\n",
       "              finish  next_season_points  goal_percentage  win_rate  \\\n",
       "0  relegation_battle                46.0         0.401786  0.611111   \n",
       "1          mid_table                44.0         0.450820  0.750000   \n",
       "2          mid_table                45.0         0.424528  0.687500   \n",
       "3          mid_table                 NaN         0.444444  0.684211   \n",
       "4   champions_league                90.0         0.669291  3.833333   \n",
       "\n",
       "   surpluss_goals  points_rate  goals_per_loss  next_year  \n",
       "0             -33     1.111111        2.500000     2016.0  \n",
       "1             -24     1.375000        3.437500     2017.0  \n",
       "2             -27     1.375000        2.812500     2018.0  \n",
       "3             -27     1.000000        2.947368     2002.0  \n",
       "4              20     5.333333       14.166667     2003.0  "
      ]
     },
     "execution_count": 49,
     "metadata": {},
     "output_type": "execute_result"
    }
   ],
   "source": [
    "df.head()"
   ]
  },
  {
   "cell_type": "code",
   "execution_count": 50,
   "metadata": {},
   "outputs": [],
   "source": [
    "\n",
    "\n",
    "\n",
    "df_pred = df[(df.year - (df.next_year - 1)) == 0]"
   ]
  },
  {
   "cell_type": "code",
   "execution_count": 51,
   "metadata": {},
   "outputs": [
    {
     "name": "stdout",
     "output_type": "stream",
     "text": [
      "(272, 20)\n",
      "<class 'pandas.core.frame.DataFrame'>\n",
      "Int64Index: 272 entries, 0 to 337\n",
      "Data columns (total 20 columns):\n",
      "team_name             272 non-null object\n",
      "games_played          272 non-null int64\n",
      "wins                  272 non-null int64\n",
      "draws                 272 non-null int64\n",
      "losses                272 non-null int64\n",
      "goals_for             272 non-null int64\n",
      "goals_against         272 non-null int64\n",
      "goal_differential     272 non-null int64\n",
      "points                272 non-null int64\n",
      "year                  272 non-null int64\n",
      "place                 272 non-null int64\n",
      "seasons_in_epl        272 non-null int64\n",
      "finish                272 non-null object\n",
      "next_season_points    272 non-null float64\n",
      "goal_percentage       272 non-null float64\n",
      "win_rate              272 non-null float64\n",
      "surpluss_goals        272 non-null int64\n",
      "points_rate           272 non-null float64\n",
      "goals_per_loss        272 non-null float64\n",
      "next_year             272 non-null float64\n",
      "dtypes: float64(6), int64(12), object(2)\n",
      "memory usage: 44.6+ KB\n"
     ]
    }
   ],
   "source": [
    "print(df_pred.shape)\n",
    "df_pred.info()"
   ]
  },
  {
   "cell_type": "code",
   "execution_count": 57,
   "metadata": {},
   "outputs": [],
   "source": [
    "predictions = pd.DataFrame({\n",
    "    'yhat': df_pred['next_season_points'],\n",
    "    'points': df_pred['points']\n",
    "})"
   ]
  },
  {
   "cell_type": "code",
   "execution_count": 124,
   "metadata": {},
   "outputs": [],
   "source": [
    "lm = LinearRegression()"
   ]
  },
  {
   "cell_type": "code",
   "execution_count": 125,
   "metadata": {},
   "outputs": [],
   "source": [
    "X = df_pred[['points']]\n",
    "y = df_pred[['next_season_points']]"
   ]
  },
  {
   "cell_type": "code",
   "execution_count": 126,
   "metadata": {},
   "outputs": [
    {
     "data": {
      "text/plain": [
       "LinearRegression(copy_X=True, fit_intercept=True, n_jobs=None, normalize=False)"
      ]
     },
     "execution_count": 126,
     "metadata": {},
     "output_type": "execute_result"
    }
   ],
   "source": [
    "lm.fit(X, y)"
   ]
  },
  {
   "cell_type": "code",
   "execution_count": 127,
   "metadata": {},
   "outputs": [],
   "source": [
    "predictions['pred_points'] = lm.predict(y)"
   ]
  },
  {
   "cell_type": "code",
   "execution_count": 128,
   "metadata": {},
   "outputs": [
    {
     "data": {
      "text/html": [
       "<div>\n",
       "<style scoped>\n",
       "    .dataframe tbody tr th:only-of-type {\n",
       "        vertical-align: middle;\n",
       "    }\n",
       "\n",
       "    .dataframe tbody tr th {\n",
       "        vertical-align: top;\n",
       "    }\n",
       "\n",
       "    .dataframe thead th {\n",
       "        text-align: right;\n",
       "    }\n",
       "</style>\n",
       "<table border=\"1\" class=\"dataframe\">\n",
       "  <thead>\n",
       "    <tr style=\"text-align: right;\">\n",
       "      <th></th>\n",
       "      <th>yhat</th>\n",
       "      <th>points</th>\n",
       "      <th>pred_points</th>\n",
       "      <th>pred_wins</th>\n",
       "      <th>pred_draws</th>\n",
       "      <th>pred_losses</th>\n",
       "      <th>pred_goals_for</th>\n",
       "      <th>pred_goals_against</th>\n",
       "      <th>pred_goal_differential</th>\n",
       "      <th>pred_place</th>\n",
       "      <th>pred_seasons_in_epl</th>\n",
       "      <th>pred_goal_percentage</th>\n",
       "      <th>pred_surpluss_goals</th>\n",
       "      <th>pred_next_year</th>\n",
       "      <th>pred_yhat</th>\n",
       "    </tr>\n",
       "  </thead>\n",
       "  <tbody>\n",
       "    <tr>\n",
       "      <th>0</th>\n",
       "      <td>46.0</td>\n",
       "      <td>42</td>\n",
       "      <td>46.089526</td>\n",
       "      <td>44.314731</td>\n",
       "      <td>55.338619</td>\n",
       "      <td>41.041964</td>\n",
       "      <td>47.795041</td>\n",
       "      <td>33.642099</td>\n",
       "      <td>38.412073</td>\n",
       "      <td>36.841452</td>\n",
       "      <td>32.597701</td>\n",
       "      <td>39.393851</td>\n",
       "      <td>37.298893</td>\n",
       "      <td>54.896453</td>\n",
       "      <td>46.0</td>\n",
       "    </tr>\n",
       "    <tr>\n",
       "      <th>1</th>\n",
       "      <td>44.0</td>\n",
       "      <td>46</td>\n",
       "      <td>44.349816</td>\n",
       "      <td>46.670355</td>\n",
       "      <td>54.387229</td>\n",
       "      <td>46.417631</td>\n",
       "      <td>56.291642</td>\n",
       "      <td>33.642099</td>\n",
       "      <td>44.339175</td>\n",
       "      <td>54.698529</td>\n",
       "      <td>32.597701</td>\n",
       "      <td>45.568149</td>\n",
       "      <td>44.086831</td>\n",
       "      <td>54.932439</td>\n",
       "      <td>44.0</td>\n",
       "    </tr>\n",
       "    <tr>\n",
       "      <th>2</th>\n",
       "      <td>45.0</td>\n",
       "      <td>44</td>\n",
       "      <td>45.219671</td>\n",
       "      <td>44.314731</td>\n",
       "      <td>53.435839</td>\n",
       "      <td>46.417631</td>\n",
       "      <td>47.795041</td>\n",
       "      <td>40.170232</td>\n",
       "      <td>41.968335</td>\n",
       "      <td>47.045496</td>\n",
       "      <td>32.597701</td>\n",
       "      <td>42.257571</td>\n",
       "      <td>41.824185</td>\n",
       "      <td>54.968426</td>\n",
       "      <td>45.0</td>\n",
       "    </tr>\n",
       "    <tr>\n",
       "      <th>4</th>\n",
       "      <td>90.0</td>\n",
       "      <td>78</td>\n",
       "      <td>84.363134</td>\n",
       "      <td>72.582218</td>\n",
       "      <td>55.338619</td>\n",
       "      <td>73.295966</td>\n",
       "      <td>81.781445</td>\n",
       "      <td>60.842655</td>\n",
       "      <td>76.938236</td>\n",
       "      <td>72.555607</td>\n",
       "      <td>65.118937</td>\n",
       "      <td>73.077840</td>\n",
       "      <td>77.272304</td>\n",
       "      <td>54.428633</td>\n",
       "      <td>90.0</td>\n",
       "    </tr>\n",
       "    <tr>\n",
       "      <th>5</th>\n",
       "      <td>83.0</td>\n",
       "      <td>90</td>\n",
       "      <td>78.274151</td>\n",
       "      <td>79.649090</td>\n",
       "      <td>52.484450</td>\n",
       "      <td>89.422967</td>\n",
       "      <td>71.585524</td>\n",
       "      <td>78.251011</td>\n",
       "      <td>79.309077</td>\n",
       "      <td>75.106618</td>\n",
       "      <td>65.118937</td>\n",
       "      <td>81.650695</td>\n",
       "      <td>78.026519</td>\n",
       "      <td>54.464619</td>\n",
       "      <td>83.0</td>\n",
       "    </tr>\n",
       "    <tr>\n",
       "      <th>...</th>\n",
       "      <td>...</td>\n",
       "      <td>...</td>\n",
       "      <td>...</td>\n",
       "      <td>...</td>\n",
       "      <td>...</td>\n",
       "      <td>...</td>\n",
       "      <td>...</td>\n",
       "      <td>...</td>\n",
       "      <td>...</td>\n",
       "      <td>...</td>\n",
       "      <td>...</td>\n",
       "      <td>...</td>\n",
       "      <td>...</td>\n",
       "      <td>...</td>\n",
       "      <td>...</td>\n",
       "    </tr>\n",
       "    <tr>\n",
       "      <th>331</th>\n",
       "      <td>42.0</td>\n",
       "      <td>36</td>\n",
       "      <td>42.610107</td>\n",
       "      <td>39.603484</td>\n",
       "      <td>55.338619</td>\n",
       "      <td>35.666297</td>\n",
       "      <td>40.997761</td>\n",
       "      <td>20.585831</td>\n",
       "      <td>26.557869</td>\n",
       "      <td>36.841452</td>\n",
       "      <td>42.604235</td>\n",
       "      <td>28.965231</td>\n",
       "      <td>23.723018</td>\n",
       "      <td>54.680536</td>\n",
       "      <td>42.0</td>\n",
       "    </tr>\n",
       "    <tr>\n",
       "      <th>332</th>\n",
       "      <td>43.0</td>\n",
       "      <td>42</td>\n",
       "      <td>43.479962</td>\n",
       "      <td>39.603484</td>\n",
       "      <td>49.630280</td>\n",
       "      <td>51.793298</td>\n",
       "      <td>43.546741</td>\n",
       "      <td>40.170232</td>\n",
       "      <td>39.004784</td>\n",
       "      <td>36.841452</td>\n",
       "      <td>42.604235</td>\n",
       "      <td>38.670308</td>\n",
       "      <td>39.561539</td>\n",
       "      <td>54.716522</td>\n",
       "      <td>43.0</td>\n",
       "    </tr>\n",
       "    <tr>\n",
       "      <th>333</th>\n",
       "      <td>36.0</td>\n",
       "      <td>43</td>\n",
       "      <td>37.390979</td>\n",
       "      <td>44.314731</td>\n",
       "      <td>54.387229</td>\n",
       "      <td>43.729797</td>\n",
       "      <td>45.246061</td>\n",
       "      <td>39.082210</td>\n",
       "      <td>39.597494</td>\n",
       "      <td>39.392463</td>\n",
       "      <td>42.604235</td>\n",
       "      <td>39.653299</td>\n",
       "      <td>38.807324</td>\n",
       "      <td>54.752509</td>\n",
       "      <td>36.0</td>\n",
       "    </tr>\n",
       "    <tr>\n",
       "      <th>336</th>\n",
       "      <td>40.0</td>\n",
       "      <td>38</td>\n",
       "      <td>40.870398</td>\n",
       "      <td>39.603484</td>\n",
       "      <td>53.435839</td>\n",
       "      <td>41.041964</td>\n",
       "      <td>36.749460</td>\n",
       "      <td>45.610343</td>\n",
       "      <td>37.226653</td>\n",
       "      <td>39.392463</td>\n",
       "      <td>35.099334</td>\n",
       "      <td>34.590130</td>\n",
       "      <td>37.298893</td>\n",
       "      <td>54.680536</td>\n",
       "      <td>40.0</td>\n",
       "    </tr>\n",
       "    <tr>\n",
       "      <th>337</th>\n",
       "      <td>25.0</td>\n",
       "      <td>40</td>\n",
       "      <td>27.822577</td>\n",
       "      <td>44.314731</td>\n",
       "      <td>57.241398</td>\n",
       "      <td>35.666297</td>\n",
       "      <td>48.644701</td>\n",
       "      <td>34.730121</td>\n",
       "      <td>39.597494</td>\n",
       "      <td>34.290441</td>\n",
       "      <td>35.099334</td>\n",
       "      <td>40.518126</td>\n",
       "      <td>38.807324</td>\n",
       "      <td>54.716522</td>\n",
       "      <td>25.0</td>\n",
       "    </tr>\n",
       "  </tbody>\n",
       "</table>\n",
       "<p>272 rows × 15 columns</p>\n",
       "</div>"
      ],
      "text/plain": [
       "     yhat  points  pred_points  pred_wins  pred_draws  pred_losses  \\\n",
       "0    46.0      42    46.089526  44.314731   55.338619    41.041964   \n",
       "1    44.0      46    44.349816  46.670355   54.387229    46.417631   \n",
       "2    45.0      44    45.219671  44.314731   53.435839    46.417631   \n",
       "4    90.0      78    84.363134  72.582218   55.338619    73.295966   \n",
       "5    83.0      90    78.274151  79.649090   52.484450    89.422967   \n",
       "..    ...     ...          ...        ...         ...          ...   \n",
       "331  42.0      36    42.610107  39.603484   55.338619    35.666297   \n",
       "332  43.0      42    43.479962  39.603484   49.630280    51.793298   \n",
       "333  36.0      43    37.390979  44.314731   54.387229    43.729797   \n",
       "336  40.0      38    40.870398  39.603484   53.435839    41.041964   \n",
       "337  25.0      40    27.822577  44.314731   57.241398    35.666297   \n",
       "\n",
       "     pred_goals_for  pred_goals_against  pred_goal_differential  pred_place  \\\n",
       "0         47.795041           33.642099               38.412073   36.841452   \n",
       "1         56.291642           33.642099               44.339175   54.698529   \n",
       "2         47.795041           40.170232               41.968335   47.045496   \n",
       "4         81.781445           60.842655               76.938236   72.555607   \n",
       "5         71.585524           78.251011               79.309077   75.106618   \n",
       "..              ...                 ...                     ...         ...   \n",
       "331       40.997761           20.585831               26.557869   36.841452   \n",
       "332       43.546741           40.170232               39.004784   36.841452   \n",
       "333       45.246061           39.082210               39.597494   39.392463   \n",
       "336       36.749460           45.610343               37.226653   39.392463   \n",
       "337       48.644701           34.730121               39.597494   34.290441   \n",
       "\n",
       "     pred_seasons_in_epl  pred_goal_percentage  pred_surpluss_goals  \\\n",
       "0              32.597701             39.393851            37.298893   \n",
       "1              32.597701             45.568149            44.086831   \n",
       "2              32.597701             42.257571            41.824185   \n",
       "4              65.118937             73.077840            77.272304   \n",
       "5              65.118937             81.650695            78.026519   \n",
       "..                   ...                   ...                  ...   \n",
       "331            42.604235             28.965231            23.723018   \n",
       "332            42.604235             38.670308            39.561539   \n",
       "333            42.604235             39.653299            38.807324   \n",
       "336            35.099334             34.590130            37.298893   \n",
       "337            35.099334             40.518126            38.807324   \n",
       "\n",
       "     pred_next_year  pred_yhat  \n",
       "0         54.896453       46.0  \n",
       "1         54.932439       44.0  \n",
       "2         54.968426       45.0  \n",
       "4         54.428633       90.0  \n",
       "5         54.464619       83.0  \n",
       "..              ...        ...  \n",
       "331       54.680536       42.0  \n",
       "332       54.716522       43.0  \n",
       "333       54.752509       36.0  \n",
       "336       54.680536       40.0  \n",
       "337       54.716522       25.0  \n",
       "\n",
       "[272 rows x 15 columns]"
      ]
     },
     "execution_count": 128,
     "metadata": {},
     "output_type": "execute_result"
    }
   ],
   "source": [
    "predictions"
   ]
  },
  {
   "cell_type": "code",
   "execution_count": 129,
   "metadata": {},
   "outputs": [
    {
     "data": {
      "text/plain": [
       "0.6062767347880587"
      ]
     },
     "execution_count": 129,
     "metadata": {},
     "output_type": "execute_result"
    }
   ],
   "source": [
    "lm.score(X, y)"
   ]
  },
  {
   "cell_type": "code",
   "execution_count": null,
   "metadata": {},
   "outputs": [],
   "source": []
  },
  {
   "cell_type": "code",
   "execution_count": null,
   "metadata": {},
   "outputs": [],
   "source": []
  },
  {
   "cell_type": "code",
   "execution_count": null,
   "metadata": {},
   "outputs": [],
   "source": []
  },
  {
   "cell_type": "code",
   "execution_count": 133,
   "metadata": {},
   "outputs": [],
   "source": [
    "features_for_modeling = df_pred.drop(columns=['team_name', 'games_played', 'year', 'next_season_points', 'finish', 'win_rate', 'points_rate', 'goals_per_loss', 'yhat', 'next_year']).columns"
   ]
  },
  {
   "cell_type": "code",
   "execution_count": 134,
   "metadata": {},
   "outputs": [
    {
     "data": {
      "text/plain": [
       "Index(['wins', 'draws', 'losses', 'goals_for', 'goals_against',\n",
       "       'goal_differential', 'points', 'place', 'seasons_in_epl',\n",
       "       'goal_percentage', 'surpluss_goals'],\n",
       "      dtype='object')"
      ]
     },
     "execution_count": 134,
     "metadata": {},
     "output_type": "execute_result"
    }
   ],
   "source": [
    "features_for_modeling"
   ]
  },
  {
   "cell_type": "code",
   "execution_count": 135,
   "metadata": {},
   "outputs": [],
   "source": [
    "for i in features_for_modeling:\n",
    "    X = df_pred[[i]]\n",
    "    y = df_pred[['next_season_points']]\n",
    "    lm.fit(X, y)\n",
    "    predictions[f'pred_{i}'] = lm.predict(X)"
   ]
  },
  {
   "cell_type": "code",
   "execution_count": 136,
   "metadata": {},
   "outputs": [
    {
     "data": {
      "text/html": [
       "<div>\n",
       "<style scoped>\n",
       "    .dataframe tbody tr th:only-of-type {\n",
       "        vertical-align: middle;\n",
       "    }\n",
       "\n",
       "    .dataframe tbody tr th {\n",
       "        vertical-align: top;\n",
       "    }\n",
       "\n",
       "    .dataframe thead th {\n",
       "        text-align: right;\n",
       "    }\n",
       "</style>\n",
       "<table border=\"1\" class=\"dataframe\">\n",
       "  <thead>\n",
       "    <tr style=\"text-align: right;\">\n",
       "      <th></th>\n",
       "      <th>yhat</th>\n",
       "      <th>points</th>\n",
       "      <th>pred_points</th>\n",
       "      <th>pred_wins</th>\n",
       "      <th>pred_draws</th>\n",
       "      <th>pred_losses</th>\n",
       "      <th>pred_goals_for</th>\n",
       "      <th>pred_goals_against</th>\n",
       "      <th>pred_goal_differential</th>\n",
       "      <th>pred_place</th>\n",
       "      <th>pred_seasons_in_epl</th>\n",
       "      <th>pred_goal_percentage</th>\n",
       "      <th>pred_surpluss_goals</th>\n",
       "      <th>pred_next_year</th>\n",
       "      <th>pred_yhat</th>\n",
       "    </tr>\n",
       "  </thead>\n",
       "  <tbody>\n",
       "    <tr>\n",
       "      <th>0</th>\n",
       "      <td>46.0</td>\n",
       "      <td>42</td>\n",
       "      <td>42.610107</td>\n",
       "      <td>44.314731</td>\n",
       "      <td>55.338619</td>\n",
       "      <td>41.041964</td>\n",
       "      <td>47.795041</td>\n",
       "      <td>33.642099</td>\n",
       "      <td>38.412073</td>\n",
       "      <td>36.841452</td>\n",
       "      <td>32.597701</td>\n",
       "      <td>39.393851</td>\n",
       "      <td>37.298893</td>\n",
       "      <td>54.896453</td>\n",
       "      <td>46.0</td>\n",
       "    </tr>\n",
       "    <tr>\n",
       "      <th>1</th>\n",
       "      <td>44.0</td>\n",
       "      <td>46</td>\n",
       "      <td>46.089526</td>\n",
       "      <td>46.670355</td>\n",
       "      <td>54.387229</td>\n",
       "      <td>46.417631</td>\n",
       "      <td>56.291642</td>\n",
       "      <td>33.642099</td>\n",
       "      <td>44.339175</td>\n",
       "      <td>54.698529</td>\n",
       "      <td>32.597701</td>\n",
       "      <td>45.568149</td>\n",
       "      <td>44.086831</td>\n",
       "      <td>54.932439</td>\n",
       "      <td>44.0</td>\n",
       "    </tr>\n",
       "    <tr>\n",
       "      <th>2</th>\n",
       "      <td>45.0</td>\n",
       "      <td>44</td>\n",
       "      <td>44.349816</td>\n",
       "      <td>44.314731</td>\n",
       "      <td>53.435839</td>\n",
       "      <td>46.417631</td>\n",
       "      <td>47.795041</td>\n",
       "      <td>40.170232</td>\n",
       "      <td>41.968335</td>\n",
       "      <td>47.045496</td>\n",
       "      <td>32.597701</td>\n",
       "      <td>42.257571</td>\n",
       "      <td>41.824185</td>\n",
       "      <td>54.968426</td>\n",
       "      <td>45.0</td>\n",
       "    </tr>\n",
       "    <tr>\n",
       "      <th>4</th>\n",
       "      <td>90.0</td>\n",
       "      <td>78</td>\n",
       "      <td>73.924877</td>\n",
       "      <td>72.582218</td>\n",
       "      <td>55.338619</td>\n",
       "      <td>73.295966</td>\n",
       "      <td>81.781445</td>\n",
       "      <td>60.842655</td>\n",
       "      <td>76.938236</td>\n",
       "      <td>72.555607</td>\n",
       "      <td>65.118937</td>\n",
       "      <td>73.077840</td>\n",
       "      <td>77.272304</td>\n",
       "      <td>54.428633</td>\n",
       "      <td>90.0</td>\n",
       "    </tr>\n",
       "    <tr>\n",
       "      <th>5</th>\n",
       "      <td>83.0</td>\n",
       "      <td>90</td>\n",
       "      <td>84.363134</td>\n",
       "      <td>79.649090</td>\n",
       "      <td>52.484450</td>\n",
       "      <td>89.422967</td>\n",
       "      <td>71.585524</td>\n",
       "      <td>78.251011</td>\n",
       "      <td>79.309077</td>\n",
       "      <td>75.106618</td>\n",
       "      <td>65.118937</td>\n",
       "      <td>81.650695</td>\n",
       "      <td>78.026519</td>\n",
       "      <td>54.464619</td>\n",
       "      <td>83.0</td>\n",
       "    </tr>\n",
       "    <tr>\n",
       "      <th>...</th>\n",
       "      <td>...</td>\n",
       "      <td>...</td>\n",
       "      <td>...</td>\n",
       "      <td>...</td>\n",
       "      <td>...</td>\n",
       "      <td>...</td>\n",
       "      <td>...</td>\n",
       "      <td>...</td>\n",
       "      <td>...</td>\n",
       "      <td>...</td>\n",
       "      <td>...</td>\n",
       "      <td>...</td>\n",
       "      <td>...</td>\n",
       "      <td>...</td>\n",
       "      <td>...</td>\n",
       "    </tr>\n",
       "    <tr>\n",
       "      <th>331</th>\n",
       "      <td>42.0</td>\n",
       "      <td>36</td>\n",
       "      <td>37.390979</td>\n",
       "      <td>39.603484</td>\n",
       "      <td>55.338619</td>\n",
       "      <td>35.666297</td>\n",
       "      <td>40.997761</td>\n",
       "      <td>20.585831</td>\n",
       "      <td>26.557869</td>\n",
       "      <td>36.841452</td>\n",
       "      <td>42.604235</td>\n",
       "      <td>28.965231</td>\n",
       "      <td>23.723018</td>\n",
       "      <td>54.680536</td>\n",
       "      <td>42.0</td>\n",
       "    </tr>\n",
       "    <tr>\n",
       "      <th>332</th>\n",
       "      <td>43.0</td>\n",
       "      <td>42</td>\n",
       "      <td>42.610107</td>\n",
       "      <td>39.603484</td>\n",
       "      <td>49.630280</td>\n",
       "      <td>51.793298</td>\n",
       "      <td>43.546741</td>\n",
       "      <td>40.170232</td>\n",
       "      <td>39.004784</td>\n",
       "      <td>36.841452</td>\n",
       "      <td>42.604235</td>\n",
       "      <td>38.670308</td>\n",
       "      <td>39.561539</td>\n",
       "      <td>54.716522</td>\n",
       "      <td>43.0</td>\n",
       "    </tr>\n",
       "    <tr>\n",
       "      <th>333</th>\n",
       "      <td>36.0</td>\n",
       "      <td>43</td>\n",
       "      <td>43.479962</td>\n",
       "      <td>44.314731</td>\n",
       "      <td>54.387229</td>\n",
       "      <td>43.729797</td>\n",
       "      <td>45.246061</td>\n",
       "      <td>39.082210</td>\n",
       "      <td>39.597494</td>\n",
       "      <td>39.392463</td>\n",
       "      <td>42.604235</td>\n",
       "      <td>39.653299</td>\n",
       "      <td>38.807324</td>\n",
       "      <td>54.752509</td>\n",
       "      <td>36.0</td>\n",
       "    </tr>\n",
       "    <tr>\n",
       "      <th>336</th>\n",
       "      <td>40.0</td>\n",
       "      <td>38</td>\n",
       "      <td>39.130688</td>\n",
       "      <td>39.603484</td>\n",
       "      <td>53.435839</td>\n",
       "      <td>41.041964</td>\n",
       "      <td>36.749460</td>\n",
       "      <td>45.610343</td>\n",
       "      <td>37.226653</td>\n",
       "      <td>39.392463</td>\n",
       "      <td>35.099334</td>\n",
       "      <td>34.590130</td>\n",
       "      <td>37.298893</td>\n",
       "      <td>54.680536</td>\n",
       "      <td>40.0</td>\n",
       "    </tr>\n",
       "    <tr>\n",
       "      <th>337</th>\n",
       "      <td>25.0</td>\n",
       "      <td>40</td>\n",
       "      <td>40.870398</td>\n",
       "      <td>44.314731</td>\n",
       "      <td>57.241398</td>\n",
       "      <td>35.666297</td>\n",
       "      <td>48.644701</td>\n",
       "      <td>34.730121</td>\n",
       "      <td>39.597494</td>\n",
       "      <td>34.290441</td>\n",
       "      <td>35.099334</td>\n",
       "      <td>40.518126</td>\n",
       "      <td>38.807324</td>\n",
       "      <td>54.716522</td>\n",
       "      <td>25.0</td>\n",
       "    </tr>\n",
       "  </tbody>\n",
       "</table>\n",
       "<p>272 rows × 15 columns</p>\n",
       "</div>"
      ],
      "text/plain": [
       "     yhat  points  pred_points  pred_wins  pred_draws  pred_losses  \\\n",
       "0    46.0      42    42.610107  44.314731   55.338619    41.041964   \n",
       "1    44.0      46    46.089526  46.670355   54.387229    46.417631   \n",
       "2    45.0      44    44.349816  44.314731   53.435839    46.417631   \n",
       "4    90.0      78    73.924877  72.582218   55.338619    73.295966   \n",
       "5    83.0      90    84.363134  79.649090   52.484450    89.422967   \n",
       "..    ...     ...          ...        ...         ...          ...   \n",
       "331  42.0      36    37.390979  39.603484   55.338619    35.666297   \n",
       "332  43.0      42    42.610107  39.603484   49.630280    51.793298   \n",
       "333  36.0      43    43.479962  44.314731   54.387229    43.729797   \n",
       "336  40.0      38    39.130688  39.603484   53.435839    41.041964   \n",
       "337  25.0      40    40.870398  44.314731   57.241398    35.666297   \n",
       "\n",
       "     pred_goals_for  pred_goals_against  pred_goal_differential  pred_place  \\\n",
       "0         47.795041           33.642099               38.412073   36.841452   \n",
       "1         56.291642           33.642099               44.339175   54.698529   \n",
       "2         47.795041           40.170232               41.968335   47.045496   \n",
       "4         81.781445           60.842655               76.938236   72.555607   \n",
       "5         71.585524           78.251011               79.309077   75.106618   \n",
       "..              ...                 ...                     ...         ...   \n",
       "331       40.997761           20.585831               26.557869   36.841452   \n",
       "332       43.546741           40.170232               39.004784   36.841452   \n",
       "333       45.246061           39.082210               39.597494   39.392463   \n",
       "336       36.749460           45.610343               37.226653   39.392463   \n",
       "337       48.644701           34.730121               39.597494   34.290441   \n",
       "\n",
       "     pred_seasons_in_epl  pred_goal_percentage  pred_surpluss_goals  \\\n",
       "0              32.597701             39.393851            37.298893   \n",
       "1              32.597701             45.568149            44.086831   \n",
       "2              32.597701             42.257571            41.824185   \n",
       "4              65.118937             73.077840            77.272304   \n",
       "5              65.118937             81.650695            78.026519   \n",
       "..                   ...                   ...                  ...   \n",
       "331            42.604235             28.965231            23.723018   \n",
       "332            42.604235             38.670308            39.561539   \n",
       "333            42.604235             39.653299            38.807324   \n",
       "336            35.099334             34.590130            37.298893   \n",
       "337            35.099334             40.518126            38.807324   \n",
       "\n",
       "     pred_next_year  pred_yhat  \n",
       "0         54.896453       46.0  \n",
       "1         54.932439       44.0  \n",
       "2         54.968426       45.0  \n",
       "4         54.428633       90.0  \n",
       "5         54.464619       83.0  \n",
       "..              ...        ...  \n",
       "331       54.680536       42.0  \n",
       "332       54.716522       43.0  \n",
       "333       54.752509       36.0  \n",
       "336       54.680536       40.0  \n",
       "337       54.716522       25.0  \n",
       "\n",
       "[272 rows x 15 columns]"
      ]
     },
     "execution_count": 136,
     "metadata": {},
     "output_type": "execute_result"
    }
   ],
   "source": [
    "predictions"
   ]
  },
  {
   "cell_type": "code",
   "execution_count": null,
   "metadata": {},
   "outputs": [],
   "source": [
    "predictions"
   ]
  }
 ],
 "metadata": {
  "kernelspec": {
   "display_name": "Python 3",
   "language": "python",
   "name": "python3"
  },
  "language_info": {
   "codemirror_mode": {
    "name": "ipython",
    "version": 3
   },
   "file_extension": ".py",
   "mimetype": "text/x-python",
   "name": "python",
   "nbconvert_exporter": "python",
   "pygments_lexer": "ipython3",
   "version": "3.7.4"
  }
 },
 "nbformat": 4,
 "nbformat_minor": 2
}
