{
 "cells": [
  {
   "cell_type": "code",
   "execution_count": 1,
   "metadata": {},
   "outputs": [],
   "source": [
    "import pandas as pd\n",
    "import numpy as np\n",
    "import matplotlib.pyplot as plt\n",
    "import seaborn as sns\n",
    "import datetime\n",
    "\n",
    "from wrangle import epl_aq_all\n",
    "%matplotlib inline\n",
    "\n",
    "import warnings\n",
    "warnings.filterwarnings(\"ignore\")\n",
    "\n",
    "import regex as re"
   ]
  },
  {
   "cell_type": "markdown",
   "metadata": {},
   "source": [
    "# Project Goals\n",
    "1. Create a regression of point differential in predicting future points\n",
    "2. Analyze the importance of draws in pythagorean expectations predictions\n",
    "3. Predict by placement (classification) especially on relegation side??"
   ]
  },
  {
   "cell_type": "markdown",
   "metadata": {},
   "source": [
    "# Wrangle Data\n",
    "Three functions acquiring and prepping data are all available in wrangle.py file.\n",
    "- 1. `epl_year_aq`: pulls in data frame from season\n",
    "- 2. `strip_team_name`: takes in season csv and splits and cleans team_name_column \n",
    "- 3. `epl_aq_all`: creates df of all seasons of epl\n",
    "- 4. `rename columns`: renamess columns explicitly\n",
    "- 5. `make_number_of_seasons`: makes a column for number of seasons"
   ]
  },
  {
   "cell_type": "code",
   "execution_count": 2,
   "metadata": {},
   "outputs": [],
   "source": [
    "df = epl_aq_all()"
   ]
  },
  {
   "cell_type": "code",
   "execution_count": 3,
   "metadata": {},
   "outputs": [],
   "source": [
    "# df.to_csv('epl_years.csv')"
   ]
  },
  {
   "cell_type": "code",
   "execution_count": 7,
   "metadata": {},
   "outputs": [],
   "source": [
    "df = df.reset_index()"
   ]
  },
  {
   "cell_type": "code",
   "execution_count": 14,
   "metadata": {},
   "outputs": [
    {
     "data": {
      "text/html": [
       "<div>\n",
       "<style scoped>\n",
       "    .dataframe tbody tr th:only-of-type {\n",
       "        vertical-align: middle;\n",
       "    }\n",
       "\n",
       "    .dataframe tbody tr th {\n",
       "        vertical-align: top;\n",
       "    }\n",
       "\n",
       "    .dataframe thead th {\n",
       "        text-align: right;\n",
       "    }\n",
       "</style>\n",
       "<table border=\"1\" class=\"dataframe\">\n",
       "  <thead>\n",
       "    <tr style=\"text-align: right;\">\n",
       "      <th></th>\n",
       "      <th>team_name</th>\n",
       "      <th>games_played</th>\n",
       "      <th>wins</th>\n",
       "      <th>draws</th>\n",
       "      <th>losses</th>\n",
       "      <th>goals_for</th>\n",
       "      <th>goals_against</th>\n",
       "      <th>goal_differential</th>\n",
       "      <th>points</th>\n",
       "      <th>year</th>\n",
       "      <th>place</th>\n",
       "      <th>seasons_in_epl</th>\n",
       "    </tr>\n",
       "  </thead>\n",
       "  <tbody>\n",
       "    <tr>\n",
       "      <th>1</th>\n",
       "      <td>AFC Bournemouth</td>\n",
       "      <td>38</td>\n",
       "      <td>12</td>\n",
       "      <td>10</td>\n",
       "      <td>16</td>\n",
       "      <td>55</td>\n",
       "      <td>67</td>\n",
       "      <td>-12</td>\n",
       "      <td>46</td>\n",
       "      <td>2016</td>\n",
       "      <td>9</td>\n",
       "      <td>4</td>\n",
       "    </tr>\n",
       "    <tr>\n",
       "      <th>2</th>\n",
       "      <td>AFC Bournemouth</td>\n",
       "      <td>38</td>\n",
       "      <td>11</td>\n",
       "      <td>11</td>\n",
       "      <td>16</td>\n",
       "      <td>45</td>\n",
       "      <td>61</td>\n",
       "      <td>-16</td>\n",
       "      <td>44</td>\n",
       "      <td>2017</td>\n",
       "      <td>12</td>\n",
       "      <td>4</td>\n",
       "    </tr>\n",
       "    <tr>\n",
       "      <th>3</th>\n",
       "      <td>AFC Bournemouth</td>\n",
       "      <td>38</td>\n",
       "      <td>13</td>\n",
       "      <td>6</td>\n",
       "      <td>19</td>\n",
       "      <td>56</td>\n",
       "      <td>70</td>\n",
       "      <td>-14</td>\n",
       "      <td>45</td>\n",
       "      <td>2018</td>\n",
       "      <td>14</td>\n",
       "      <td>4</td>\n",
       "    </tr>\n",
       "    <tr>\n",
       "      <th>5</th>\n",
       "      <td>Arsenal</td>\n",
       "      <td>38</td>\n",
       "      <td>26</td>\n",
       "      <td>12</td>\n",
       "      <td>0</td>\n",
       "      <td>73</td>\n",
       "      <td>26</td>\n",
       "      <td>47</td>\n",
       "      <td>90</td>\n",
       "      <td>2003</td>\n",
       "      <td>1</td>\n",
       "      <td>17</td>\n",
       "    </tr>\n",
       "    <tr>\n",
       "      <th>6</th>\n",
       "      <td>Arsenal</td>\n",
       "      <td>38</td>\n",
       "      <td>25</td>\n",
       "      <td>8</td>\n",
       "      <td>5</td>\n",
       "      <td>87</td>\n",
       "      <td>36</td>\n",
       "      <td>51</td>\n",
       "      <td>83</td>\n",
       "      <td>2004</td>\n",
       "      <td>2</td>\n",
       "      <td>17</td>\n",
       "    </tr>\n",
       "    <tr>\n",
       "      <th>...</th>\n",
       "      <td>...</td>\n",
       "      <td>...</td>\n",
       "      <td>...</td>\n",
       "      <td>...</td>\n",
       "      <td>...</td>\n",
       "      <td>...</td>\n",
       "      <td>...</td>\n",
       "      <td>...</td>\n",
       "      <td>...</td>\n",
       "      <td>...</td>\n",
       "      <td>...</td>\n",
       "      <td>...</td>\n",
       "    </tr>\n",
       "    <tr>\n",
       "      <th>335</th>\n",
       "      <td>Wigan Athletic</td>\n",
       "      <td>38</td>\n",
       "      <td>12</td>\n",
       "      <td>9</td>\n",
       "      <td>17</td>\n",
       "      <td>34</td>\n",
       "      <td>45</td>\n",
       "      <td>-11</td>\n",
       "      <td>45</td>\n",
       "      <td>2008</td>\n",
       "      <td>11</td>\n",
       "      <td>8</td>\n",
       "    </tr>\n",
       "    <tr>\n",
       "      <th>336</th>\n",
       "      <td>Wigan Athletic</td>\n",
       "      <td>38</td>\n",
       "      <td>9</td>\n",
       "      <td>9</td>\n",
       "      <td>20</td>\n",
       "      <td>37</td>\n",
       "      <td>79</td>\n",
       "      <td>-42</td>\n",
       "      <td>36</td>\n",
       "      <td>2009</td>\n",
       "      <td>16</td>\n",
       "      <td>8</td>\n",
       "    </tr>\n",
       "    <tr>\n",
       "      <th>337</th>\n",
       "      <td>Wigan Athletic</td>\n",
       "      <td>38</td>\n",
       "      <td>9</td>\n",
       "      <td>15</td>\n",
       "      <td>14</td>\n",
       "      <td>40</td>\n",
       "      <td>61</td>\n",
       "      <td>-21</td>\n",
       "      <td>42</td>\n",
       "      <td>2010</td>\n",
       "      <td>16</td>\n",
       "      <td>8</td>\n",
       "    </tr>\n",
       "    <tr>\n",
       "      <th>338</th>\n",
       "      <td>Wigan Athletic</td>\n",
       "      <td>38</td>\n",
       "      <td>11</td>\n",
       "      <td>10</td>\n",
       "      <td>17</td>\n",
       "      <td>42</td>\n",
       "      <td>62</td>\n",
       "      <td>-20</td>\n",
       "      <td>43</td>\n",
       "      <td>2011</td>\n",
       "      <td>15</td>\n",
       "      <td>8</td>\n",
       "    </tr>\n",
       "    <tr>\n",
       "      <th>339</th>\n",
       "      <td>Wigan Athletic</td>\n",
       "      <td>38</td>\n",
       "      <td>9</td>\n",
       "      <td>9</td>\n",
       "      <td>20</td>\n",
       "      <td>47</td>\n",
       "      <td>73</td>\n",
       "      <td>-26</td>\n",
       "      <td>36</td>\n",
       "      <td>2012</td>\n",
       "      <td>18</td>\n",
       "      <td>8</td>\n",
       "    </tr>\n",
       "  </tbody>\n",
       "</table>\n",
       "<p>272 rows × 12 columns</p>\n",
       "</div>"
      ],
      "text/plain": [
       "           team_name  games_played  wins  draws  losses  goals_for  \\\n",
       "1    AFC Bournemouth            38    12     10      16         55   \n",
       "2    AFC Bournemouth            38    11     11      16         45   \n",
       "3    AFC Bournemouth            38    13      6      19         56   \n",
       "5            Arsenal            38    26     12       0         73   \n",
       "6            Arsenal            38    25      8       5         87   \n",
       "..               ...           ...   ...    ...     ...        ...   \n",
       "335   Wigan Athletic            38    12      9      17         34   \n",
       "336   Wigan Athletic            38     9      9      20         37   \n",
       "337   Wigan Athletic            38     9     15      14         40   \n",
       "338   Wigan Athletic            38    11     10      17         42   \n",
       "339   Wigan Athletic            38     9      9      20         47   \n",
       "\n",
       "     goals_against  goal_differential  points  year  place  seasons_in_epl  \n",
       "1               67                -12      46  2016      9               4  \n",
       "2               61                -16      44  2017     12               4  \n",
       "3               70                -14      45  2018     14               4  \n",
       "5               26                 47      90  2003      1              17  \n",
       "6               36                 51      83  2004      2              17  \n",
       "..             ...                ...     ...   ...    ...             ...  \n",
       "335             45                -11      45  2008     11               8  \n",
       "336             79                -42      36  2009     16               8  \n",
       "337             61                -21      42  2010     16               8  \n",
       "338             62                -20      43  2011     15               8  \n",
       "339             73                -26      36  2012     18               8  \n",
       "\n",
       "[272 rows x 12 columns]"
      ]
     },
     "execution_count": 14,
     "metadata": {},
     "output_type": "execute_result"
    }
   ],
   "source": [
    "# get last seasons points\n",
    "df[df.year == (df.year.shift(1) + 1)]"
   ]
  },
  {
   "cell_type": "code",
   "execution_count": null,
   "metadata": {},
   "outputs": [],
   "source": [
    "# add to wrangle file\n",
    "def make_number_seasons(df):\n",
    "    \"\"\"makes column for number of seasons a team is in the epl\"\"\"\n",
    "    seasons_series = df.groupby('team_name').draws.count()\n",
    "    df2 = pd.DataFrame(seasons_series)\n",
    "    df2 = df2.rename(columns={'draws':'seasons_in_epl'})\n",
    "    df = df.set_index('team_name').join(df2)\n",
    "    return df"
   ]
  },
  {
   "cell_type": "code",
   "execution_count": null,
   "metadata": {},
   "outputs": [],
   "source": [
    "df = make_number_seasons(df"
   ]
  },
  {
   "cell_type": "markdown",
   "metadata": {},
   "source": [
    "#### Overview of the dataframe"
   ]
  },
  {
   "cell_type": "code",
   "execution_count": null,
   "metadata": {},
   "outputs": [],
   "source": [
    "print(df.shape)\n",
    "print(df.info())\n",
    "df.head(2)"
   ]
  },
  {
   "cell_type": "code",
   "execution_count": null,
   "metadata": {},
   "outputs": [],
   "source": [
    "df.describe()"
   ]
  },
  {
   "cell_type": "markdown",
   "metadata": {},
   "source": [
    "# Explore"
   ]
  },
  {
   "cell_type": "markdown",
   "metadata": {},
   "source": [
    "### Team Results"
   ]
  },
  {
   "cell_type": "code",
   "execution_count": null,
   "metadata": {},
   "outputs": [],
   "source": [
    "df.groupby('team_name').points.plot()\n",
    "plt.title('Team Points by Year')\n",
    "plt.show()"
   ]
  },
  {
   "cell_type": "markdown",
   "metadata": {},
   "source": [
    "**Takeaways** At the top of the viz, you can see that there are a couple teams that have stayed at the top of the table, but as you get further towards the middle, the data becomes a lot more muddled"
   ]
  },
  {
   "cell_type": "code",
   "execution_count": null,
   "metadata": {},
   "outputs": [],
   "source": [
    "df.points.hist(bins=5)\n",
    "plt.title(\"Distribution of Points by Team-Season\")\n",
    "plt.show()"
   ]
  },
  {
   "cell_type": "markdown",
   "metadata": {},
   "source": [
    "**Takeaways** Looks like a poisson distribution."
   ]
  },
  {
   "cell_type": "code",
   "execution_count": null,
   "metadata": {},
   "outputs": [],
   "source": [
    "df.draws.hist(bins=5)\n",
    "plt.title(\"Distribution of Draws by Team-Season\")\n",
    "plt.show()"
   ]
  },
  {
   "cell_type": "markdown",
   "metadata": {},
   "source": [
    "**Takeaways** Normal distribution around 9-10 draws per season"
   ]
  },
  {
   "cell_type": "code",
   "execution_count": null,
   "metadata": {},
   "outputs": [],
   "source": [
    "df.draws.describe()"
   ]
  },
  {
   "cell_type": "markdown",
   "metadata": {},
   "source": [
    "Average number of draws per year is 9.5"
   ]
  },
  {
   "cell_type": "markdown",
   "metadata": {},
   "source": [
    "### Exploring Draws a little more closely"
   ]
  },
  {
   "cell_type": "code",
   "execution_count": null,
   "metadata": {},
   "outputs": [],
   "source": [
    "df.groupby('place').draws.mean().plot.bar(color='green')\n",
    "plt.title('Is There a Pattern for Draws by Table Place?')"
   ]
  },
  {
   "cell_type": "markdown",
   "metadata": {},
   "source": [
    "**Takeaways** Number of draws tend to be higher at the middle of the table"
   ]
  },
  {
   "cell_type": "code",
   "execution_count": null,
   "metadata": {},
   "outputs": [],
   "source": [
    "df.groupby('year').draws.mean().plot.bar(color='red')\n",
    "plt.title('Is There a Pattern of Draws by Year?')\n",
    "plt.show()"
   ]
  },
  {
   "cell_type": "markdown",
   "metadata": {},
   "source": [
    "**Takeaways** Not really, there is a pretty significant difference between certain years, but no noticeable trends\n",
    "**Furtherwork** Some hypothesis testing and statistical analysis"
   ]
  },
  {
   "cell_type": "code",
   "execution_count": null,
   "metadata": {},
   "outputs": [],
   "source": [
    "plt.figure(figsize=(16,5))\n",
    "df.groupby('team_name').draws.mean().plot.bar(color='purple')\n",
    "plt.title('Is There a Pattern of Draws by Team?')\n",
    "plt.show()"
   ]
  },
  {
   "cell_type": "markdown",
   "metadata": {},
   "source": [
    "**Takeaways** Likely, but not immediately evident."
   ]
  },
  {
   "cell_type": "code",
   "execution_count": null,
   "metadata": {},
   "outputs": [],
   "source": [
    "plt.figure(figsize=(16,5))\n",
    "df.groupby('team_name').draws.count().sort_values(ascending=False).plot.bar(color='orange')\n",
    "plt.title('Because of Relegation, How Many Seasons Has Each Team Played?')"
   ]
  },
  {
   "cell_type": "markdown",
   "metadata": {},
   "source": [
    "### Just for fun , lets look at scatter plots of number of seasons and average number of points and draws!"
   ]
  },
  {
   "cell_type": "code",
   "execution_count": null,
   "metadata": {},
   "outputs": [],
   "source": [
    "df_temp = df.groupby('team_name').draws.agg(['count', 'mean'])\n",
    "sns.scatterplot(x='count', y='mean', data=df_temp)\n",
    "plt.xlabel('Number of Seasons')\n",
    "plt.ylabel('Average Number of Draws')\n",
    "plt.title('What is the Relationship between No of Seasons in EPL and Avg No of Draws')"
   ]
  },
  {
   "cell_type": "code",
   "execution_count": null,
   "metadata": {},
   "outputs": [],
   "source": [
    "df_temp = df.groupby('team_name').points.agg(['count', 'mean'])\n",
    "sns.lmplot(x='count', y='mean', data=df_temp)\n",
    "plt.xlabel('Number of Seasons')\n",
    "plt.ylabel('Average Number of Points')\n",
    "plt.title('What is the Relationship between No of Seasons in EPL and Avg Points')"
   ]
  },
  {
   "cell_type": "markdown",
   "metadata": {},
   "source": [
    "**Takeaways:** Seems to be a pretty clear linear relationship between number of seasons in the Premier League and the Average number of Points"
   ]
  },
  {
   "cell_type": "code",
   "execution_count": null,
   "metadata": {},
   "outputs": [],
   "source": [
    "df"
   ]
  },
  {
   "cell_type": "code",
   "execution_count": null,
   "metadata": {},
   "outputs": [],
   "source": [
    "sns.lmplot(x='points', y = 'goal_differential', data = df)\n",
    "plt.title('What is the relationship between points and goal differential')"
   ]
  },
  {
   "cell_type": "code",
   "execution_count": null,
   "metadata": {},
   "outputs": [],
   "source": [
    "sns.lmplot(x='place', y = 'goal_differential', data = df)\n",
    "plt.title('What is the relationship between points and place')"
   ]
  },
  {
   "cell_type": "code",
   "execution_count": null,
   "metadata": {},
   "outputs": [],
   "source": [
    "def assessing_post_season(df):\n",
    "    if df.place <= 4:\n",
    "        df['post_season'] = 'champions_league'\n",
    "    elif df.place <= 8:\n",
    "        df['post_season'] = 'europa_league'\n",
    "    elif df.place <= 14:\n",
    "        df['post_season'] = 'mid_table'\n",
    "    elif df.place <= 17:\n",
    "        df['post_season'] = 'relegation_battle'\n",
    "    else:\n",
    "        df['post_season'] = 'relegation'\n",
    "    return df"
   ]
  },
  {
   "cell_type": "code",
   "execution_count": null,
   "metadata": {},
   "outputs": [],
   "source": [
    "assessing_post_season(df)"
   ]
  },
  {
   "cell_type": "code",
   "execution_count": null,
   "metadata": {},
   "outputs": [],
   "source": []
  }
 ],
 "metadata": {
  "kernelspec": {
   "display_name": "Python 3",
   "language": "python",
   "name": "python3"
  },
  "language_info": {
   "codemirror_mode": {
    "name": "ipython",
    "version": 3
   },
   "file_extension": ".py",
   "mimetype": "text/x-python",
   "name": "python",
   "nbconvert_exporter": "python",
   "pygments_lexer": "ipython3",
   "version": "3.7.4"
  }
 },
 "nbformat": 4,
 "nbformat_minor": 2
}
