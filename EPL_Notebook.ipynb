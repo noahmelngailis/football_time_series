{
 "cells": [
  {
   "cell_type": "code",
   "execution_count": 1,
   "metadata": {},
   "outputs": [],
   "source": [
    "import pandas as pd\n",
    "import numpy as np\n",
    "import matplotlib.pyplot as plt\n",
    "import seaborn as sns\n",
    "import datetime\n",
    "\n",
    "from wrangle import epl_aq_all\n",
    "%matplotlib inline\n",
    "\n",
    "import warnings\n",
    "warnings.filterwarnings(\"ignore\")\n",
    "\n",
    "import regex as re\n",
    "\n",
    "from sklearn.metrics import mean_squared_error, explained_variance_score\n",
    "from sklearn.linear_model import LinearRegression\n",
    "from sklearn.feature_selection import RFE"
   ]
  },
  {
   "cell_type": "code",
   "execution_count": 2,
   "metadata": {},
   "outputs": [],
   "source": [
    "from preprocessing import preprocessing_script"
   ]
  },
  {
   "cell_type": "code",
   "execution_count": 3,
   "metadata": {},
   "outputs": [],
   "source": [
    "import sklearn.metrics as m\n",
    "from sklearn.model_selection import cross_val_score"
   ]
  },
  {
   "cell_type": "markdown",
   "metadata": {},
   "source": [
    "# Project Goals\n",
    "1. Create a regression of point differential in predicting future points\n",
    "2. Analyze the importance of draws in pythagorean expectations predictions\n",
    "3. Predict by placement (classification) especially on relegation side??"
   ]
  },
  {
   "cell_type": "markdown",
   "metadata": {},
   "source": [
    "# Wrangle Data\n",
    "Three functions acquiring and prepping data are all available in wrangle.py file.\n",
    "- 1. `epl_year_aq`: pulls in data frame from season\n",
    "- 2. `strip_team_name`: takes in season csv and splits and cleans team_name_column \n",
    "- 3. `epl_aq_all`: creates df of all seasons of epl\n",
    "- 4. `rename columns`: renamess columns explicitly\n",
    "- 5. `make_number_of_seasons`: makes a column for number of seasons"
   ]
  },
  {
   "cell_type": "code",
   "execution_count": null,
   "metadata": {},
   "outputs": [],
   "source": [
    "df = epl_aq_all()"
   ]
  },
  {
   "cell_type": "code",
   "execution_count": null,
   "metadata": {},
   "outputs": [],
   "source": [
    "print(df.shape)\n",
    "df.info()"
   ]
  },
  {
   "cell_type": "code",
   "execution_count": null,
   "metadata": {},
   "outputs": [],
   "source": [
    "df = preprocessing_script(df)"
   ]
  },
  {
   "cell_type": "code",
   "execution_count": null,
   "metadata": {},
   "outputs": [],
   "source": [
    "df"
   ]
  },
  {
   "cell_type": "code",
   "execution_count": null,
   "metadata": {},
   "outputs": [],
   "source": [
    "df['next_year'] = df.year.shift(-1)"
   ]
  },
  {
   "cell_type": "code",
   "execution_count": null,
   "metadata": {},
   "outputs": [],
   "source": [
    "(df[['points', 'goal_differential', 'next_season_points', \n",
    "     'wins', 'goals_for', 'goals_against', 'place', 'losses', \n",
    "     'goal_percentage', 'win_rate', 'surpluss_goals', 'points_rate',\n",
    "    'goals_per_loss', 'seasons_in_epl']]\n",
    "     .dropna().corr().next_season_points)"
   ]
  },
  {
   "cell_type": "markdown",
   "metadata": {},
   "source": [
    "#### Overview of the dataframe"
   ]
  },
  {
   "cell_type": "code",
   "execution_count": null,
   "metadata": {},
   "outputs": [],
   "source": [
    "print(df.shape)\n",
    "print(df.info())\n",
    "df.head(2)"
   ]
  },
  {
   "cell_type": "code",
   "execution_count": null,
   "metadata": {},
   "outputs": [],
   "source": [
    "df.describe()"
   ]
  },
  {
   "cell_type": "markdown",
   "metadata": {},
   "source": [
    "# Explore"
   ]
  },
  {
   "cell_type": "markdown",
   "metadata": {},
   "source": [
    "### Team Results"
   ]
  },
  {
   "cell_type": "code",
   "execution_count": null,
   "metadata": {},
   "outputs": [],
   "source": [
    "df.set_index('year').groupby('team_name').points.plot()\n",
    "plt.title('Team Points by Year')\n",
    "plt.show()"
   ]
  },
  {
   "cell_type": "markdown",
   "metadata": {},
   "source": [
    "**Takeaways** At the top of the viz, you can see that there are a couple teams that have stayed at the top of the table, but as you get further towards the middle, the data becomes a lot more muddled"
   ]
  },
  {
   "cell_type": "code",
   "execution_count": null,
   "metadata": {},
   "outputs": [],
   "source": [
    "df.points.hist(bins=5)\n",
    "plt.title(\"Distribution of Points by Team-Season\")\n",
    "plt.show()"
   ]
  },
  {
   "cell_type": "markdown",
   "metadata": {},
   "source": [
    "**Takeaways** Looks like a poisson distribution."
   ]
  },
  {
   "cell_type": "code",
   "execution_count": null,
   "metadata": {},
   "outputs": [],
   "source": [
    "df.draws.hist(bins=5)\n",
    "plt.title(\"Distribution of Draws by Team-Season\")\n",
    "plt.show()"
   ]
  },
  {
   "cell_type": "markdown",
   "metadata": {},
   "source": [
    "**Takeaways** Normal distribution around 9-10 draws per season"
   ]
  },
  {
   "cell_type": "code",
   "execution_count": null,
   "metadata": {},
   "outputs": [],
   "source": [
    "df.draws.describe()"
   ]
  },
  {
   "cell_type": "markdown",
   "metadata": {},
   "source": [
    "Average number of draws per year is 9.5"
   ]
  },
  {
   "cell_type": "markdown",
   "metadata": {},
   "source": [
    "### Exploring Draws a little more closely"
   ]
  },
  {
   "cell_type": "code",
   "execution_count": null,
   "metadata": {},
   "outputs": [],
   "source": [
    "df.groupby('place').draws.mean().plot.bar(color='green')\n",
    "plt.title('Is There a Pattern for Draws by Table Place?')"
   ]
  },
  {
   "cell_type": "markdown",
   "metadata": {},
   "source": [
    "**Takeaways** Number of draws tend to be higher at the middle of the table"
   ]
  },
  {
   "cell_type": "code",
   "execution_count": null,
   "metadata": {},
   "outputs": [],
   "source": [
    "df.groupby('year').draws.mean().plot.bar(color='red')\n",
    "plt.title('Is There a Pattern of Draws by Year?')\n",
    "plt.show()"
   ]
  },
  {
   "cell_type": "markdown",
   "metadata": {},
   "source": [
    "**Takeaways** Not really, there is a pretty significant difference between certain years, but no noticeable trends\n",
    "**Furtherwork** Some hypothesis testing and statistical analysis"
   ]
  },
  {
   "cell_type": "code",
   "execution_count": null,
   "metadata": {},
   "outputs": [],
   "source": [
    "plt.figure(figsize=(16,5))\n",
    "df.groupby('team_name').draws.mean().plot.bar(color='purple')\n",
    "plt.title('Is There a Pattern of Draws by Team?')\n",
    "plt.show()"
   ]
  },
  {
   "cell_type": "markdown",
   "metadata": {},
   "source": [
    "**Takeaways** Likely, but not immediately evident."
   ]
  },
  {
   "cell_type": "code",
   "execution_count": null,
   "metadata": {},
   "outputs": [],
   "source": [
    "plt.figure(figsize=(16,5))\n",
    "df.groupby('team_name').draws.count().sort_values(ascending=False).plot.bar(color='orange')\n",
    "plt.title('Because of Relegation, How Many Seasons Has Each Team Played?')"
   ]
  },
  {
   "cell_type": "markdown",
   "metadata": {},
   "source": [
    "### Just for fun , lets look at scatter plots of number of seasons and average number of points and draws!"
   ]
  },
  {
   "cell_type": "code",
   "execution_count": null,
   "metadata": {},
   "outputs": [],
   "source": [
    "df_temp = df.groupby('team_name').draws.agg(['count', 'mean'])\n",
    "sns.scatterplot(x='count', y='mean', data=df_temp)\n",
    "plt.xlabel('Number of Seasons')\n",
    "plt.ylabel('Average Number of Draws')\n",
    "plt.title('What is the Relationship between No of Seasons in EPL and Avg No of Draws')"
   ]
  },
  {
   "cell_type": "code",
   "execution_count": null,
   "metadata": {},
   "outputs": [],
   "source": [
    "df_temp = df.groupby('team_name').points.agg(['count', 'mean'])\n",
    "sns.lmplot(x='count', y='mean', data=df_temp)\n",
    "plt.xlabel('Number of Seasons')\n",
    "plt.ylabel('Average Number of Points')\n",
    "plt.title('What is the Relationship between No of Seasons in EPL and Avg Points')"
   ]
  },
  {
   "cell_type": "markdown",
   "metadata": {},
   "source": [
    "**Takeaways:** Seems to be a pretty clear linear relationship between number of seasons in the Premier League and the Average number of Points"
   ]
  },
  {
   "cell_type": "code",
   "execution_count": null,
   "metadata": {},
   "outputs": [],
   "source": [
    "sns.lmplot(x='points', y = 'goal_differential', data = df)\n",
    "plt.title('What is the relationship between points and goal differential')"
   ]
  },
  {
   "cell_type": "code",
   "execution_count": null,
   "metadata": {},
   "outputs": [],
   "source": [
    "sns.lmplot(x='place', y = 'goal_differential', data = df)\n",
    "plt.title('What is the relationship between points and place')"
   ]
  },
  {
   "cell_type": "markdown",
   "metadata": {},
   "source": [
    "### Is it better to win or avoid a loss?"
   ]
  },
  {
   "cell_type": "code",
   "execution_count": null,
   "metadata": {},
   "outputs": [],
   "source": [
    "df[['wins', 'losses', 'points']].corr().points[0:2].abs().plot.bar(color='indigo')\n",
    "plt.title(\"Absolute value of Points to Wins and Losses\")\n",
    "plt.ylabel('Absolute value of correlation')"
   ]
  },
  {
   "cell_type": "markdown",
   "metadata": {},
   "source": [
    "**Takeaways:** Although there is a high absolute correlation to both.  It appears that winning is more important than avoiding losses."
   ]
  },
  {
   "cell_type": "code",
   "execution_count": null,
   "metadata": {},
   "outputs": [],
   "source": [
    "df[df.place <= 4][['wins', 'losses', 'points']].corr().points[0:2].abs().plot.bar(color='indigo')\n",
    "plt.title(\"Absolute value of Points to Wins and Losses for Champions League Places\")\n",
    "plt.ylabel('Absolute value of correlation')"
   ]
  },
  {
   "cell_type": "code",
   "execution_count": null,
   "metadata": {},
   "outputs": [],
   "source": [
    "df[df.place >= 18][['wins', 'losses', 'points']].corr().points[0:2].abs().plot.bar(color='indigo')\n",
    "plt.title(\"Absolute value of Points to Wins and Losses for Champions League Places\")\n",
    "plt.ylabel('Absolute value of correlation')"
   ]
  },
  {
   "cell_type": "markdown",
   "metadata": {},
   "source": [
    "# Modeling"
   ]
  },
  {
   "cell_type": "code",
   "execution_count": null,
   "metadata": {},
   "outputs": [],
   "source": [
    "df.head()"
   ]
  },
  {
   "cell_type": "code",
   "execution_count": null,
   "metadata": {},
   "outputs": [],
   "source": [
    "\n",
    "\n",
    "\n",
    "df_pred = df[(df.year - (df.next_year - 1)) == 0]"
   ]
  },
  {
   "cell_type": "code",
   "execution_count": null,
   "metadata": {},
   "outputs": [],
   "source": [
    "print(df_pred.shape)\n",
    "df_pred.info()"
   ]
  },
  {
   "cell_type": "code",
   "execution_count": null,
   "metadata": {},
   "outputs": [],
   "source": [
    "predictions = pd.DataFrame({\n",
    "    'yhat': df_pred['next_season_points']\n",
    "})"
   ]
  },
  {
   "cell_type": "code",
   "execution_count": null,
   "metadata": {},
   "outputs": [],
   "source": [
    "lm = LinearRegression()"
   ]
  },
  {
   "cell_type": "code",
   "execution_count": null,
   "metadata": {},
   "outputs": [],
   "source": [
    "X = df_pred[['points']]\n",
    "y = df_pred[['next_season_points']]"
   ]
  },
  {
   "cell_type": "code",
   "execution_count": null,
   "metadata": {},
   "outputs": [],
   "source": [
    "lm.fit(X, y)"
   ]
  },
  {
   "cell_type": "code",
   "execution_count": 148,
   "metadata": {},
   "outputs": [],
   "source": [
    "predictions['pred_points'] = lm.predict(y)"
   ]
  },
  {
   "cell_type": "code",
   "execution_count": 149,
   "metadata": {},
   "outputs": [
    {
     "data": {
      "text/html": [
       "<div>\n",
       "<style scoped>\n",
       "    .dataframe tbody tr th:only-of-type {\n",
       "        vertical-align: middle;\n",
       "    }\n",
       "\n",
       "    .dataframe tbody tr th {\n",
       "        vertical-align: top;\n",
       "    }\n",
       "\n",
       "    .dataframe thead th {\n",
       "        text-align: right;\n",
       "    }\n",
       "</style>\n",
       "<table border=\"1\" class=\"dataframe\">\n",
       "  <thead>\n",
       "    <tr style=\"text-align: right;\">\n",
       "      <th></th>\n",
       "      <th>yhat</th>\n",
       "      <th>pred_points</th>\n",
       "    </tr>\n",
       "  </thead>\n",
       "  <tbody>\n",
       "    <tr>\n",
       "      <th>0</th>\n",
       "      <td>46.0</td>\n",
       "      <td>46.089526</td>\n",
       "    </tr>\n",
       "    <tr>\n",
       "      <th>1</th>\n",
       "      <td>44.0</td>\n",
       "      <td>44.349816</td>\n",
       "    </tr>\n",
       "    <tr>\n",
       "      <th>2</th>\n",
       "      <td>45.0</td>\n",
       "      <td>45.219671</td>\n",
       "    </tr>\n",
       "    <tr>\n",
       "      <th>4</th>\n",
       "      <td>90.0</td>\n",
       "      <td>84.363134</td>\n",
       "    </tr>\n",
       "    <tr>\n",
       "      <th>5</th>\n",
       "      <td>83.0</td>\n",
       "      <td>78.274151</td>\n",
       "    </tr>\n",
       "    <tr>\n",
       "      <th>...</th>\n",
       "      <td>...</td>\n",
       "      <td>...</td>\n",
       "    </tr>\n",
       "    <tr>\n",
       "      <th>331</th>\n",
       "      <td>42.0</td>\n",
       "      <td>42.610107</td>\n",
       "    </tr>\n",
       "    <tr>\n",
       "      <th>332</th>\n",
       "      <td>43.0</td>\n",
       "      <td>43.479962</td>\n",
       "    </tr>\n",
       "    <tr>\n",
       "      <th>333</th>\n",
       "      <td>36.0</td>\n",
       "      <td>37.390979</td>\n",
       "    </tr>\n",
       "    <tr>\n",
       "      <th>336</th>\n",
       "      <td>40.0</td>\n",
       "      <td>40.870398</td>\n",
       "    </tr>\n",
       "    <tr>\n",
       "      <th>337</th>\n",
       "      <td>25.0</td>\n",
       "      <td>27.822577</td>\n",
       "    </tr>\n",
       "  </tbody>\n",
       "</table>\n",
       "<p>272 rows × 2 columns</p>\n",
       "</div>"
      ],
      "text/plain": [
       "     yhat  pred_points\n",
       "0    46.0    46.089526\n",
       "1    44.0    44.349816\n",
       "2    45.0    45.219671\n",
       "4    90.0    84.363134\n",
       "5    83.0    78.274151\n",
       "..    ...          ...\n",
       "331  42.0    42.610107\n",
       "332  43.0    43.479962\n",
       "333  36.0    37.390979\n",
       "336  40.0    40.870398\n",
       "337  25.0    27.822577\n",
       "\n",
       "[272 rows x 2 columns]"
      ]
     },
     "execution_count": 149,
     "metadata": {},
     "output_type": "execute_result"
    }
   ],
   "source": [
    "predictions"
   ]
  },
  {
   "cell_type": "code",
   "execution_count": 150,
   "metadata": {},
   "outputs": [
    {
     "data": {
      "text/plain": [
       "0.6062767347880587"
      ]
     },
     "execution_count": 150,
     "metadata": {},
     "output_type": "execute_result"
    }
   ],
   "source": [
    "lm.score(X, y)"
   ]
  },
  {
   "cell_type": "code",
   "execution_count": null,
   "metadata": {},
   "outputs": [],
   "source": []
  },
  {
   "cell_type": "code",
   "execution_count": null,
   "metadata": {},
   "outputs": [],
   "source": []
  },
  {
   "cell_type": "code",
   "execution_count": null,
   "metadata": {},
   "outputs": [],
   "source": []
  },
  {
   "cell_type": "code",
   "execution_count": 175,
   "metadata": {},
   "outputs": [],
   "source": [
    "features_for_modeling = df_pred.drop(columns=['team_name', 'games_played', 'year', 'next_season_points', 'finish', 'win_rate', 'points_rate', 'goals_per_loss', 'next_year']).columns"
   ]
  },
  {
   "cell_type": "code",
   "execution_count": 176,
   "metadata": {},
   "outputs": [
    {
     "data": {
      "text/plain": [
       "Index(['wins', 'draws', 'losses', 'goals_for', 'goals_against',\n",
       "       'goal_differential', 'points', 'place', 'seasons_in_epl',\n",
       "       'goal_percentage', 'surpluss_goals', 'yhat'],\n",
       "      dtype='object')"
      ]
     },
     "execution_count": 176,
     "metadata": {},
     "output_type": "execute_result"
    }
   ],
   "source": [
    "features_for_modeling"
   ]
  },
  {
   "cell_type": "code",
   "execution_count": 177,
   "metadata": {},
   "outputs": [],
   "source": [
    "for i in features_for_modeling:\n",
    "    X = df_pred[[i]]\n",
    "    y = df_pred[['next_season_points']]\n",
    "    lm.fit(X, y)\n",
    "    predictions[f'pred_{i}'] = lm.predict(X)"
   ]
  },
  {
   "cell_type": "code",
   "execution_count": 178,
   "metadata": {},
   "outputs": [
    {
     "data": {
      "text/html": [
       "<div>\n",
       "<style scoped>\n",
       "    .dataframe tbody tr th:only-of-type {\n",
       "        vertical-align: middle;\n",
       "    }\n",
       "\n",
       "    .dataframe tbody tr th {\n",
       "        vertical-align: top;\n",
       "    }\n",
       "\n",
       "    .dataframe thead th {\n",
       "        text-align: right;\n",
       "    }\n",
       "</style>\n",
       "<table border=\"1\" class=\"dataframe\">\n",
       "  <thead>\n",
       "    <tr style=\"text-align: right;\">\n",
       "      <th></th>\n",
       "      <th>yhat</th>\n",
       "      <th>pred_points</th>\n",
       "      <th>pred_wins</th>\n",
       "      <th>pred_draws</th>\n",
       "      <th>pred_losses</th>\n",
       "      <th>pred_goals_for</th>\n",
       "      <th>pred_goals_against</th>\n",
       "      <th>pred_goal_differential</th>\n",
       "      <th>pred_place</th>\n",
       "      <th>pred_seasons_in_epl</th>\n",
       "      <th>pred_goal_percentage</th>\n",
       "      <th>pred_surpluss_goals</th>\n",
       "      <th>pred_yhat</th>\n",
       "    </tr>\n",
       "  </thead>\n",
       "  <tbody>\n",
       "    <tr>\n",
       "      <th>0</th>\n",
       "      <td>46.0</td>\n",
       "      <td>42.610107</td>\n",
       "      <td>44.314731</td>\n",
       "      <td>55.338619</td>\n",
       "      <td>41.041964</td>\n",
       "      <td>47.795041</td>\n",
       "      <td>33.642099</td>\n",
       "      <td>38.412073</td>\n",
       "      <td>36.841452</td>\n",
       "      <td>32.597701</td>\n",
       "      <td>39.393851</td>\n",
       "      <td>37.298893</td>\n",
       "      <td>46.0</td>\n",
       "    </tr>\n",
       "    <tr>\n",
       "      <th>1</th>\n",
       "      <td>44.0</td>\n",
       "      <td>46.089526</td>\n",
       "      <td>46.670355</td>\n",
       "      <td>54.387229</td>\n",
       "      <td>46.417631</td>\n",
       "      <td>56.291642</td>\n",
       "      <td>33.642099</td>\n",
       "      <td>44.339175</td>\n",
       "      <td>54.698529</td>\n",
       "      <td>32.597701</td>\n",
       "      <td>45.568149</td>\n",
       "      <td>44.086831</td>\n",
       "      <td>44.0</td>\n",
       "    </tr>\n",
       "    <tr>\n",
       "      <th>2</th>\n",
       "      <td>45.0</td>\n",
       "      <td>44.349816</td>\n",
       "      <td>44.314731</td>\n",
       "      <td>53.435839</td>\n",
       "      <td>46.417631</td>\n",
       "      <td>47.795041</td>\n",
       "      <td>40.170232</td>\n",
       "      <td>41.968335</td>\n",
       "      <td>47.045496</td>\n",
       "      <td>32.597701</td>\n",
       "      <td>42.257571</td>\n",
       "      <td>41.824185</td>\n",
       "      <td>45.0</td>\n",
       "    </tr>\n",
       "    <tr>\n",
       "      <th>4</th>\n",
       "      <td>90.0</td>\n",
       "      <td>73.924877</td>\n",
       "      <td>72.582218</td>\n",
       "      <td>55.338619</td>\n",
       "      <td>73.295966</td>\n",
       "      <td>81.781445</td>\n",
       "      <td>60.842655</td>\n",
       "      <td>76.938236</td>\n",
       "      <td>72.555607</td>\n",
       "      <td>65.118937</td>\n",
       "      <td>73.077840</td>\n",
       "      <td>77.272304</td>\n",
       "      <td>90.0</td>\n",
       "    </tr>\n",
       "    <tr>\n",
       "      <th>5</th>\n",
       "      <td>83.0</td>\n",
       "      <td>84.363134</td>\n",
       "      <td>79.649090</td>\n",
       "      <td>52.484450</td>\n",
       "      <td>89.422967</td>\n",
       "      <td>71.585524</td>\n",
       "      <td>78.251011</td>\n",
       "      <td>79.309077</td>\n",
       "      <td>75.106618</td>\n",
       "      <td>65.118937</td>\n",
       "      <td>81.650695</td>\n",
       "      <td>78.026519</td>\n",
       "      <td>83.0</td>\n",
       "    </tr>\n",
       "    <tr>\n",
       "      <th>...</th>\n",
       "      <td>...</td>\n",
       "      <td>...</td>\n",
       "      <td>...</td>\n",
       "      <td>...</td>\n",
       "      <td>...</td>\n",
       "      <td>...</td>\n",
       "      <td>...</td>\n",
       "      <td>...</td>\n",
       "      <td>...</td>\n",
       "      <td>...</td>\n",
       "      <td>...</td>\n",
       "      <td>...</td>\n",
       "      <td>...</td>\n",
       "    </tr>\n",
       "    <tr>\n",
       "      <th>331</th>\n",
       "      <td>42.0</td>\n",
       "      <td>37.390979</td>\n",
       "      <td>39.603484</td>\n",
       "      <td>55.338619</td>\n",
       "      <td>35.666297</td>\n",
       "      <td>40.997761</td>\n",
       "      <td>20.585831</td>\n",
       "      <td>26.557869</td>\n",
       "      <td>36.841452</td>\n",
       "      <td>42.604235</td>\n",
       "      <td>28.965231</td>\n",
       "      <td>23.723018</td>\n",
       "      <td>42.0</td>\n",
       "    </tr>\n",
       "    <tr>\n",
       "      <th>332</th>\n",
       "      <td>43.0</td>\n",
       "      <td>42.610107</td>\n",
       "      <td>39.603484</td>\n",
       "      <td>49.630280</td>\n",
       "      <td>51.793298</td>\n",
       "      <td>43.546741</td>\n",
       "      <td>40.170232</td>\n",
       "      <td>39.004784</td>\n",
       "      <td>36.841452</td>\n",
       "      <td>42.604235</td>\n",
       "      <td>38.670308</td>\n",
       "      <td>39.561539</td>\n",
       "      <td>43.0</td>\n",
       "    </tr>\n",
       "    <tr>\n",
       "      <th>333</th>\n",
       "      <td>36.0</td>\n",
       "      <td>43.479962</td>\n",
       "      <td>44.314731</td>\n",
       "      <td>54.387229</td>\n",
       "      <td>43.729797</td>\n",
       "      <td>45.246061</td>\n",
       "      <td>39.082210</td>\n",
       "      <td>39.597494</td>\n",
       "      <td>39.392463</td>\n",
       "      <td>42.604235</td>\n",
       "      <td>39.653299</td>\n",
       "      <td>38.807324</td>\n",
       "      <td>36.0</td>\n",
       "    </tr>\n",
       "    <tr>\n",
       "      <th>336</th>\n",
       "      <td>40.0</td>\n",
       "      <td>39.130688</td>\n",
       "      <td>39.603484</td>\n",
       "      <td>53.435839</td>\n",
       "      <td>41.041964</td>\n",
       "      <td>36.749460</td>\n",
       "      <td>45.610343</td>\n",
       "      <td>37.226653</td>\n",
       "      <td>39.392463</td>\n",
       "      <td>35.099334</td>\n",
       "      <td>34.590130</td>\n",
       "      <td>37.298893</td>\n",
       "      <td>40.0</td>\n",
       "    </tr>\n",
       "    <tr>\n",
       "      <th>337</th>\n",
       "      <td>25.0</td>\n",
       "      <td>40.870398</td>\n",
       "      <td>44.314731</td>\n",
       "      <td>57.241398</td>\n",
       "      <td>35.666297</td>\n",
       "      <td>48.644701</td>\n",
       "      <td>34.730121</td>\n",
       "      <td>39.597494</td>\n",
       "      <td>34.290441</td>\n",
       "      <td>35.099334</td>\n",
       "      <td>40.518126</td>\n",
       "      <td>38.807324</td>\n",
       "      <td>25.0</td>\n",
       "    </tr>\n",
       "  </tbody>\n",
       "</table>\n",
       "<p>272 rows × 13 columns</p>\n",
       "</div>"
      ],
      "text/plain": [
       "     yhat  pred_points  pred_wins  pred_draws  pred_losses  pred_goals_for  \\\n",
       "0    46.0    42.610107  44.314731   55.338619    41.041964       47.795041   \n",
       "1    44.0    46.089526  46.670355   54.387229    46.417631       56.291642   \n",
       "2    45.0    44.349816  44.314731   53.435839    46.417631       47.795041   \n",
       "4    90.0    73.924877  72.582218   55.338619    73.295966       81.781445   \n",
       "5    83.0    84.363134  79.649090   52.484450    89.422967       71.585524   \n",
       "..    ...          ...        ...         ...          ...             ...   \n",
       "331  42.0    37.390979  39.603484   55.338619    35.666297       40.997761   \n",
       "332  43.0    42.610107  39.603484   49.630280    51.793298       43.546741   \n",
       "333  36.0    43.479962  44.314731   54.387229    43.729797       45.246061   \n",
       "336  40.0    39.130688  39.603484   53.435839    41.041964       36.749460   \n",
       "337  25.0    40.870398  44.314731   57.241398    35.666297       48.644701   \n",
       "\n",
       "     pred_goals_against  pred_goal_differential  pred_place  \\\n",
       "0             33.642099               38.412073   36.841452   \n",
       "1             33.642099               44.339175   54.698529   \n",
       "2             40.170232               41.968335   47.045496   \n",
       "4             60.842655               76.938236   72.555607   \n",
       "5             78.251011               79.309077   75.106618   \n",
       "..                  ...                     ...         ...   \n",
       "331           20.585831               26.557869   36.841452   \n",
       "332           40.170232               39.004784   36.841452   \n",
       "333           39.082210               39.597494   39.392463   \n",
       "336           45.610343               37.226653   39.392463   \n",
       "337           34.730121               39.597494   34.290441   \n",
       "\n",
       "     pred_seasons_in_epl  pred_goal_percentage  pred_surpluss_goals  pred_yhat  \n",
       "0              32.597701             39.393851            37.298893       46.0  \n",
       "1              32.597701             45.568149            44.086831       44.0  \n",
       "2              32.597701             42.257571            41.824185       45.0  \n",
       "4              65.118937             73.077840            77.272304       90.0  \n",
       "5              65.118937             81.650695            78.026519       83.0  \n",
       "..                   ...                   ...                  ...        ...  \n",
       "331            42.604235             28.965231            23.723018       42.0  \n",
       "332            42.604235             38.670308            39.561539       43.0  \n",
       "333            42.604235             39.653299            38.807324       36.0  \n",
       "336            35.099334             34.590130            37.298893       40.0  \n",
       "337            35.099334             40.518126            38.807324       25.0  \n",
       "\n",
       "[272 rows x 13 columns]"
      ]
     },
     "execution_count": 178,
     "metadata": {},
     "output_type": "execute_result"
    }
   ],
   "source": [
    "predictions"
   ]
  },
  {
   "cell_type": "code",
   "execution_count": 181,
   "metadata": {},
   "outputs": [],
   "source": [
    "prediction_features = predictions.drop(columns=('yhat')).columns"
   ]
  },
  {
   "cell_type": "code",
   "execution_count": 182,
   "metadata": {},
   "outputs": [],
   "source": [
    "#determining rmse\n",
    "score = []\n",
    "for i in prediction_features:\n",
    "    name = i\n",
    "    rmse = ((predictions.yhat - predictions[i])**2).mean()**.5\n",
    "    score.append(rmse)"
   ]
  },
  {
   "cell_type": "code",
   "execution_count": 183,
   "metadata": {},
   "outputs": [
    {
     "data": {
      "text/html": [
       "<div>\n",
       "<style scoped>\n",
       "    .dataframe tbody tr th:only-of-type {\n",
       "        vertical-align: middle;\n",
       "    }\n",
       "\n",
       "    .dataframe tbody tr th {\n",
       "        vertical-align: top;\n",
       "    }\n",
       "\n",
       "    .dataframe thead th {\n",
       "        text-align: right;\n",
       "    }\n",
       "</style>\n",
       "<table border=\"1\" class=\"dataframe\">\n",
       "  <thead>\n",
       "    <tr style=\"text-align: right;\">\n",
       "      <th></th>\n",
       "      <th>feature</th>\n",
       "      <th>rmse</th>\n",
       "    </tr>\n",
       "  </thead>\n",
       "  <tbody>\n",
       "    <tr>\n",
       "      <th>0</th>\n",
       "      <td>pred_points</td>\n",
       "      <td>1.081966e+01</td>\n",
       "    </tr>\n",
       "    <tr>\n",
       "      <th>1</th>\n",
       "      <td>pred_wins</td>\n",
       "      <td>1.134833e+01</td>\n",
       "    </tr>\n",
       "    <tr>\n",
       "      <th>2</th>\n",
       "      <td>pred_draws</td>\n",
       "      <td>1.703742e+01</td>\n",
       "    </tr>\n",
       "    <tr>\n",
       "      <th>3</th>\n",
       "      <td>pred_losses</td>\n",
       "      <td>1.117788e+01</td>\n",
       "    </tr>\n",
       "    <tr>\n",
       "      <th>4</th>\n",
       "      <td>pred_goals_for</td>\n",
       "      <td>1.170327e+01</td>\n",
       "    </tr>\n",
       "    <tr>\n",
       "      <th>5</th>\n",
       "      <td>pred_goals_against</td>\n",
       "      <td>1.221890e+01</td>\n",
       "    </tr>\n",
       "    <tr>\n",
       "      <th>6</th>\n",
       "      <td>pred_goal_differential</td>\n",
       "      <td>1.023833e+01</td>\n",
       "    </tr>\n",
       "    <tr>\n",
       "      <th>7</th>\n",
       "      <td>pred_place</td>\n",
       "      <td>1.188042e+01</td>\n",
       "    </tr>\n",
       "    <tr>\n",
       "      <th>8</th>\n",
       "      <td>pred_seasons_in_epl</td>\n",
       "      <td>1.330266e+01</td>\n",
       "    </tr>\n",
       "    <tr>\n",
       "      <th>9</th>\n",
       "      <td>pred_goal_percentage</td>\n",
       "      <td>1.007790e+01</td>\n",
       "    </tr>\n",
       "    <tr>\n",
       "      <th>10</th>\n",
       "      <td>pred_surpluss_goals</td>\n",
       "      <td>1.031175e+01</td>\n",
       "    </tr>\n",
       "    <tr>\n",
       "      <th>11</th>\n",
       "      <td>pred_yhat</td>\n",
       "      <td>1.038246e-14</td>\n",
       "    </tr>\n",
       "  </tbody>\n",
       "</table>\n",
       "</div>"
      ],
      "text/plain": [
       "                   feature          rmse\n",
       "0              pred_points  1.081966e+01\n",
       "1                pred_wins  1.134833e+01\n",
       "2               pred_draws  1.703742e+01\n",
       "3              pred_losses  1.117788e+01\n",
       "4           pred_goals_for  1.170327e+01\n",
       "5       pred_goals_against  1.221890e+01\n",
       "6   pred_goal_differential  1.023833e+01\n",
       "7               pred_place  1.188042e+01\n",
       "8      pred_seasons_in_epl  1.330266e+01\n",
       "9     pred_goal_percentage  1.007790e+01\n",
       "10     pred_surpluss_goals  1.031175e+01\n",
       "11               pred_yhat  1.038246e-14"
      ]
     },
     "execution_count": 183,
     "metadata": {},
     "output_type": "execute_result"
    }
   ],
   "source": [
    "pd.DataFrame({\n",
    "    'feature': list(prediction_features),\n",
    "    'rmse': score\n",
    "})"
   ]
  },
  {
   "cell_type": "markdown",
   "metadata": {},
   "source": [
    "## Cross Validation"
   ]
  },
  {
   "cell_type": "code",
   "execution_count": 185,
   "metadata": {},
   "outputs": [],
   "source": [
    "import sklearn.metrics as m\n",
    "from sklearn.model_selection import cross_val_score"
   ]
  },
  {
   "cell_type": "code",
   "execution_count": 197,
   "metadata": {},
   "outputs": [
    {
     "name": "stdout",
     "output_type": "stream",
     "text": [
      "wins is [nan nan]\n",
      "draws is [nan nan]\n",
      "losses is [nan nan]\n",
      "goals_for is [nan nan]\n",
      "goals_against is [nan nan]\n",
      "goal_differential is [nan nan]\n",
      "points is [nan nan]\n",
      "place is [nan nan]\n",
      "seasons_in_epl is [nan nan]\n",
      "goal_percentage is [nan nan]\n",
      "surpluss_goals is [nan nan]\n",
      "yhat is [nan nan]\n"
     ]
    }
   ],
   "source": [
    "for i in features_for_modeling:\n",
    "    X = df_pred[i]\n",
    "    y = df_pred['points']\n",
    "    print(f'{i} is {cross_val_score(lm, X, y, cv=2)}')"
   ]
  },
  {
   "cell_type": "code",
   "execution_count": 190,
   "metadata": {},
   "outputs": [
    {
     "data": {
      "text/html": [
       "<div>\n",
       "<style scoped>\n",
       "    .dataframe tbody tr th:only-of-type {\n",
       "        vertical-align: middle;\n",
       "    }\n",
       "\n",
       "    .dataframe tbody tr th {\n",
       "        vertical-align: top;\n",
       "    }\n",
       "\n",
       "    .dataframe thead th {\n",
       "        text-align: right;\n",
       "    }\n",
       "</style>\n",
       "<table border=\"1\" class=\"dataframe\">\n",
       "  <thead>\n",
       "    <tr style=\"text-align: right;\">\n",
       "      <th></th>\n",
       "      <th>team_name</th>\n",
       "      <th>games_played</th>\n",
       "      <th>wins</th>\n",
       "      <th>draws</th>\n",
       "      <th>losses</th>\n",
       "      <th>goals_for</th>\n",
       "      <th>goals_against</th>\n",
       "      <th>goal_differential</th>\n",
       "      <th>points</th>\n",
       "      <th>year</th>\n",
       "      <th>...</th>\n",
       "      <th>seasons_in_epl</th>\n",
       "      <th>finish</th>\n",
       "      <th>next_season_points</th>\n",
       "      <th>goal_percentage</th>\n",
       "      <th>win_rate</th>\n",
       "      <th>surpluss_goals</th>\n",
       "      <th>points_rate</th>\n",
       "      <th>goals_per_loss</th>\n",
       "      <th>next_year</th>\n",
       "      <th>yhat</th>\n",
       "    </tr>\n",
       "  </thead>\n",
       "  <tbody>\n",
       "    <tr>\n",
       "      <th>0</th>\n",
       "      <td>AFC Bournemouth</td>\n",
       "      <td>38</td>\n",
       "      <td>11</td>\n",
       "      <td>9</td>\n",
       "      <td>18</td>\n",
       "      <td>45</td>\n",
       "      <td>67</td>\n",
       "      <td>-22</td>\n",
       "      <td>42</td>\n",
       "      <td>2015</td>\n",
       "      <td>...</td>\n",
       "      <td>4</td>\n",
       "      <td>relegation_battle</td>\n",
       "      <td>46.0</td>\n",
       "      <td>0.401786</td>\n",
       "      <td>0.611111</td>\n",
       "      <td>-33</td>\n",
       "      <td>1.111111</td>\n",
       "      <td>2.500000</td>\n",
       "      <td>2016.0</td>\n",
       "      <td>46.0</td>\n",
       "    </tr>\n",
       "    <tr>\n",
       "      <th>1</th>\n",
       "      <td>AFC Bournemouth</td>\n",
       "      <td>38</td>\n",
       "      <td>12</td>\n",
       "      <td>10</td>\n",
       "      <td>16</td>\n",
       "      <td>55</td>\n",
       "      <td>67</td>\n",
       "      <td>-12</td>\n",
       "      <td>46</td>\n",
       "      <td>2016</td>\n",
       "      <td>...</td>\n",
       "      <td>4</td>\n",
       "      <td>mid_table</td>\n",
       "      <td>44.0</td>\n",
       "      <td>0.450820</td>\n",
       "      <td>0.750000</td>\n",
       "      <td>-24</td>\n",
       "      <td>1.375000</td>\n",
       "      <td>3.437500</td>\n",
       "      <td>2017.0</td>\n",
       "      <td>44.0</td>\n",
       "    </tr>\n",
       "    <tr>\n",
       "      <th>2</th>\n",
       "      <td>AFC Bournemouth</td>\n",
       "      <td>38</td>\n",
       "      <td>11</td>\n",
       "      <td>11</td>\n",
       "      <td>16</td>\n",
       "      <td>45</td>\n",
       "      <td>61</td>\n",
       "      <td>-16</td>\n",
       "      <td>44</td>\n",
       "      <td>2017</td>\n",
       "      <td>...</td>\n",
       "      <td>4</td>\n",
       "      <td>mid_table</td>\n",
       "      <td>45.0</td>\n",
       "      <td>0.424528</td>\n",
       "      <td>0.687500</td>\n",
       "      <td>-27</td>\n",
       "      <td>1.375000</td>\n",
       "      <td>2.812500</td>\n",
       "      <td>2018.0</td>\n",
       "      <td>45.0</td>\n",
       "    </tr>\n",
       "    <tr>\n",
       "      <th>4</th>\n",
       "      <td>Arsenal</td>\n",
       "      <td>38</td>\n",
       "      <td>23</td>\n",
       "      <td>9</td>\n",
       "      <td>6</td>\n",
       "      <td>85</td>\n",
       "      <td>42</td>\n",
       "      <td>43</td>\n",
       "      <td>78</td>\n",
       "      <td>2002</td>\n",
       "      <td>...</td>\n",
       "      <td>17</td>\n",
       "      <td>champions_league</td>\n",
       "      <td>90.0</td>\n",
       "      <td>0.669291</td>\n",
       "      <td>3.833333</td>\n",
       "      <td>20</td>\n",
       "      <td>5.333333</td>\n",
       "      <td>14.166667</td>\n",
       "      <td>2003.0</td>\n",
       "      <td>90.0</td>\n",
       "    </tr>\n",
       "    <tr>\n",
       "      <th>5</th>\n",
       "      <td>Arsenal</td>\n",
       "      <td>38</td>\n",
       "      <td>26</td>\n",
       "      <td>12</td>\n",
       "      <td>0</td>\n",
       "      <td>73</td>\n",
       "      <td>26</td>\n",
       "      <td>47</td>\n",
       "      <td>90</td>\n",
       "      <td>2003</td>\n",
       "      <td>...</td>\n",
       "      <td>17</td>\n",
       "      <td>champions_league</td>\n",
       "      <td>83.0</td>\n",
       "      <td>0.737374</td>\n",
       "      <td>inf</td>\n",
       "      <td>21</td>\n",
       "      <td>inf</td>\n",
       "      <td>inf</td>\n",
       "      <td>2004.0</td>\n",
       "      <td>83.0</td>\n",
       "    </tr>\n",
       "    <tr>\n",
       "      <th>...</th>\n",
       "      <td>...</td>\n",
       "      <td>...</td>\n",
       "      <td>...</td>\n",
       "      <td>...</td>\n",
       "      <td>...</td>\n",
       "      <td>...</td>\n",
       "      <td>...</td>\n",
       "      <td>...</td>\n",
       "      <td>...</td>\n",
       "      <td>...</td>\n",
       "      <td>...</td>\n",
       "      <td>...</td>\n",
       "      <td>...</td>\n",
       "      <td>...</td>\n",
       "      <td>...</td>\n",
       "      <td>...</td>\n",
       "      <td>...</td>\n",
       "      <td>...</td>\n",
       "      <td>...</td>\n",
       "      <td>...</td>\n",
       "      <td>...</td>\n",
       "    </tr>\n",
       "    <tr>\n",
       "      <th>331</th>\n",
       "      <td>Wigan Athletic</td>\n",
       "      <td>38</td>\n",
       "      <td>9</td>\n",
       "      <td>9</td>\n",
       "      <td>20</td>\n",
       "      <td>37</td>\n",
       "      <td>79</td>\n",
       "      <td>-42</td>\n",
       "      <td>36</td>\n",
       "      <td>2009</td>\n",
       "      <td>...</td>\n",
       "      <td>8</td>\n",
       "      <td>relegation_battle</td>\n",
       "      <td>42.0</td>\n",
       "      <td>0.318966</td>\n",
       "      <td>0.450000</td>\n",
       "      <td>-51</td>\n",
       "      <td>0.900000</td>\n",
       "      <td>1.850000</td>\n",
       "      <td>2010.0</td>\n",
       "      <td>42.0</td>\n",
       "    </tr>\n",
       "    <tr>\n",
       "      <th>332</th>\n",
       "      <td>Wigan Athletic</td>\n",
       "      <td>38</td>\n",
       "      <td>9</td>\n",
       "      <td>15</td>\n",
       "      <td>14</td>\n",
       "      <td>40</td>\n",
       "      <td>61</td>\n",
       "      <td>-21</td>\n",
       "      <td>42</td>\n",
       "      <td>2010</td>\n",
       "      <td>...</td>\n",
       "      <td>8</td>\n",
       "      <td>relegation_battle</td>\n",
       "      <td>43.0</td>\n",
       "      <td>0.396040</td>\n",
       "      <td>0.642857</td>\n",
       "      <td>-30</td>\n",
       "      <td>1.714286</td>\n",
       "      <td>2.857143</td>\n",
       "      <td>2011.0</td>\n",
       "      <td>43.0</td>\n",
       "    </tr>\n",
       "    <tr>\n",
       "      <th>333</th>\n",
       "      <td>Wigan Athletic</td>\n",
       "      <td>38</td>\n",
       "      <td>11</td>\n",
       "      <td>10</td>\n",
       "      <td>17</td>\n",
       "      <td>42</td>\n",
       "      <td>62</td>\n",
       "      <td>-20</td>\n",
       "      <td>43</td>\n",
       "      <td>2011</td>\n",
       "      <td>...</td>\n",
       "      <td>8</td>\n",
       "      <td>relegation_battle</td>\n",
       "      <td>36.0</td>\n",
       "      <td>0.403846</td>\n",
       "      <td>0.647059</td>\n",
       "      <td>-31</td>\n",
       "      <td>1.235294</td>\n",
       "      <td>2.470588</td>\n",
       "      <td>2012.0</td>\n",
       "      <td>36.0</td>\n",
       "    </tr>\n",
       "    <tr>\n",
       "      <th>336</th>\n",
       "      <td>Wolverhampton Wanderers</td>\n",
       "      <td>38</td>\n",
       "      <td>9</td>\n",
       "      <td>11</td>\n",
       "      <td>18</td>\n",
       "      <td>32</td>\n",
       "      <td>56</td>\n",
       "      <td>-24</td>\n",
       "      <td>38</td>\n",
       "      <td>2009</td>\n",
       "      <td>...</td>\n",
       "      <td>5</td>\n",
       "      <td>relegation_battle</td>\n",
       "      <td>40.0</td>\n",
       "      <td>0.363636</td>\n",
       "      <td>0.500000</td>\n",
       "      <td>-33</td>\n",
       "      <td>1.111111</td>\n",
       "      <td>1.777778</td>\n",
       "      <td>2010.0</td>\n",
       "      <td>40.0</td>\n",
       "    </tr>\n",
       "    <tr>\n",
       "      <th>337</th>\n",
       "      <td>Wolverhampton Wanderers</td>\n",
       "      <td>38</td>\n",
       "      <td>11</td>\n",
       "      <td>7</td>\n",
       "      <td>20</td>\n",
       "      <td>46</td>\n",
       "      <td>66</td>\n",
       "      <td>-20</td>\n",
       "      <td>40</td>\n",
       "      <td>2010</td>\n",
       "      <td>...</td>\n",
       "      <td>5</td>\n",
       "      <td>relegation_battle</td>\n",
       "      <td>25.0</td>\n",
       "      <td>0.410714</td>\n",
       "      <td>0.550000</td>\n",
       "      <td>-31</td>\n",
       "      <td>0.900000</td>\n",
       "      <td>2.300000</td>\n",
       "      <td>2011.0</td>\n",
       "      <td>25.0</td>\n",
       "    </tr>\n",
       "  </tbody>\n",
       "</table>\n",
       "<p>272 rows × 21 columns</p>\n",
       "</div>"
      ],
      "text/plain": [
       "                   team_name  games_played  wins  draws  losses  goals_for  \\\n",
       "0            AFC Bournemouth            38    11      9      18         45   \n",
       "1            AFC Bournemouth            38    12     10      16         55   \n",
       "2            AFC Bournemouth            38    11     11      16         45   \n",
       "4                    Arsenal            38    23      9       6         85   \n",
       "5                    Arsenal            38    26     12       0         73   \n",
       "..                       ...           ...   ...    ...     ...        ...   \n",
       "331           Wigan Athletic            38     9      9      20         37   \n",
       "332           Wigan Athletic            38     9     15      14         40   \n",
       "333           Wigan Athletic            38    11     10      17         42   \n",
       "336  Wolverhampton Wanderers            38     9     11      18         32   \n",
       "337  Wolverhampton Wanderers            38    11      7      20         46   \n",
       "\n",
       "     goals_against  goal_differential  points  year  ...  seasons_in_epl  \\\n",
       "0               67                -22      42  2015  ...               4   \n",
       "1               67                -12      46  2016  ...               4   \n",
       "2               61                -16      44  2017  ...               4   \n",
       "4               42                 43      78  2002  ...              17   \n",
       "5               26                 47      90  2003  ...              17   \n",
       "..             ...                ...     ...   ...  ...             ...   \n",
       "331             79                -42      36  2009  ...               8   \n",
       "332             61                -21      42  2010  ...               8   \n",
       "333             62                -20      43  2011  ...               8   \n",
       "336             56                -24      38  2009  ...               5   \n",
       "337             66                -20      40  2010  ...               5   \n",
       "\n",
       "                finish next_season_points  goal_percentage  win_rate  \\\n",
       "0    relegation_battle               46.0         0.401786  0.611111   \n",
       "1            mid_table               44.0         0.450820  0.750000   \n",
       "2            mid_table               45.0         0.424528  0.687500   \n",
       "4     champions_league               90.0         0.669291  3.833333   \n",
       "5     champions_league               83.0         0.737374       inf   \n",
       "..                 ...                ...              ...       ...   \n",
       "331  relegation_battle               42.0         0.318966  0.450000   \n",
       "332  relegation_battle               43.0         0.396040  0.642857   \n",
       "333  relegation_battle               36.0         0.403846  0.647059   \n",
       "336  relegation_battle               40.0         0.363636  0.500000   \n",
       "337  relegation_battle               25.0         0.410714  0.550000   \n",
       "\n",
       "     surpluss_goals  points_rate  goals_per_loss  next_year  yhat  \n",
       "0               -33     1.111111        2.500000     2016.0  46.0  \n",
       "1               -24     1.375000        3.437500     2017.0  44.0  \n",
       "2               -27     1.375000        2.812500     2018.0  45.0  \n",
       "4                20     5.333333       14.166667     2003.0  90.0  \n",
       "5                21          inf             inf     2004.0  83.0  \n",
       "..              ...          ...             ...        ...   ...  \n",
       "331             -51     0.900000        1.850000     2010.0  42.0  \n",
       "332             -30     1.714286        2.857143     2011.0  43.0  \n",
       "333             -31     1.235294        2.470588     2012.0  36.0  \n",
       "336             -33     1.111111        1.777778     2010.0  40.0  \n",
       "337             -31     0.900000        2.300000     2011.0  25.0  \n",
       "\n",
       "[272 rows x 21 columns]"
      ]
     },
     "execution_count": 190,
     "metadata": {},
     "output_type": "execute_result"
    }
   ],
   "source": [
    "df_pred"
   ]
  },
  {
   "cell_type": "code",
   "execution_count": null,
   "metadata": {},
   "outputs": [],
   "source": []
  }
 ],
 "metadata": {
  "kernelspec": {
   "display_name": "Python 3",
   "language": "python",
   "name": "python3"
  },
  "language_info": {
   "codemirror_mode": {
    "name": "ipython",
    "version": 3
   },
   "file_extension": ".py",
   "mimetype": "text/x-python",
   "name": "python",
   "nbconvert_exporter": "python",
   "pygments_lexer": "ipython3",
   "version": "3.7.4"
  }
 },
 "nbformat": 4,
 "nbformat_minor": 2
}
