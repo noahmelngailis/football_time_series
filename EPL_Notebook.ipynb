{
 "cells": [
  {
   "cell_type": "code",
   "execution_count": 1,
   "metadata": {},
   "outputs": [],
   "source": [
    "import pandas as pd\n",
    "import numpy as np\n",
    "import matplotlib.pyplot as plt\n",
    "import seaborn as sns\n",
    "import datetime\n",
    "\n",
    "from wrangle import epl_aq_all\n",
    "%matplotlib inline\n",
    "\n",
    "import warnings\n",
    "warnings.filterwarnings(\"ignore\")\n",
    "\n",
    "import regex as re\n",
    "\n",
    "from sklearn.metrics import mean_squared_error, explained_variance_score\n",
    "from sklearn.linear_model import LinearRegression\n",
    "from sklearn.feature_selection import RFE"
   ]
  },
  {
   "cell_type": "code",
   "execution_count": 2,
   "metadata": {},
   "outputs": [],
   "source": [
    "from preprocessing import preprocessing_script"
   ]
  },
  {
   "cell_type": "code",
   "execution_count": 3,
   "metadata": {},
   "outputs": [],
   "source": [
    "import sklearn.metrics as m\n",
    "from sklearn.model_selection import cross_val_score"
   ]
  },
  {
   "cell_type": "markdown",
   "metadata": {},
   "source": [
    "# Project Goals\n",
    "1. Create a regression of point differential in predicting future points\n",
    "2. Analyze the importance of draws in pythagorean expectations predictions\n",
    "3. Predict by placement (classification) especially on relegation side??"
   ]
  },
  {
   "cell_type": "markdown",
   "metadata": {},
   "source": [
    "# Wrangle Data\n",
    "Three functions acquiring and prepping data are all available in wrangle.py file.\n",
    "- 1. `epl_year_aq`: pulls in data frame from season\n",
    "- 2. `strip_team_name`: takes in season csv and splits and cleans team_name_column \n",
    "- 3. `epl_aq_all`: creates df of all seasons of epl\n",
    "- 4. `rename columns`: renamess columns explicitly\n",
    "- 5. `make_number_of_seasons`: makes a column for number of seasons"
   ]
  },
  {
   "cell_type": "code",
   "execution_count": 4,
   "metadata": {},
   "outputs": [],
   "source": [
    "df = epl_aq_all()"
   ]
  },
  {
   "cell_type": "code",
   "execution_count": 5,
   "metadata": {},
   "outputs": [
    {
     "name": "stdout",
     "output_type": "stream",
     "text": [
      "(360, 12)\n",
      "<class 'pandas.core.frame.DataFrame'>\n",
      "RangeIndex: 360 entries, 0 to 359\n",
      "Data columns (total 12 columns):\n",
      " #   Column             Non-Null Count  Dtype \n",
      "---  ------             --------------  ----- \n",
      " 0   team_name          360 non-null    object\n",
      " 1   games_played       360 non-null    int64 \n",
      " 2   wins               360 non-null    int64 \n",
      " 3   draws              360 non-null    int64 \n",
      " 4   losses             360 non-null    int64 \n",
      " 5   goals_for          360 non-null    int64 \n",
      " 6   goals_against      360 non-null    int64 \n",
      " 7   goal_differential  360 non-null    int64 \n",
      " 8   points             360 non-null    int64 \n",
      " 9   year               360 non-null    int64 \n",
      " 10  place              360 non-null    int64 \n",
      " 11  seasons_in_epl     360 non-null    int64 \n",
      "dtypes: int64(11), object(1)\n",
      "memory usage: 33.9+ KB\n"
     ]
    }
   ],
   "source": [
    "print(df.shape)\n",
    "df.info()"
   ]
  },
  {
   "cell_type": "code",
   "execution_count": 6,
   "metadata": {},
   "outputs": [],
   "source": [
    "df = preprocessing_script(df)"
   ]
  },
  {
   "cell_type": "code",
   "execution_count": 7,
   "metadata": {},
   "outputs": [
    {
     "data": {
      "text/html": [
       "<div>\n",
       "<style scoped>\n",
       "    .dataframe tbody tr th:only-of-type {\n",
       "        vertical-align: middle;\n",
       "    }\n",
       "\n",
       "    .dataframe tbody tr th {\n",
       "        vertical-align: top;\n",
       "    }\n",
       "\n",
       "    .dataframe thead th {\n",
       "        text-align: right;\n",
       "    }\n",
       "</style>\n",
       "<table border=\"1\" class=\"dataframe\">\n",
       "  <thead>\n",
       "    <tr style=\"text-align: right;\">\n",
       "      <th></th>\n",
       "      <th>team_name</th>\n",
       "      <th>games_played</th>\n",
       "      <th>wins</th>\n",
       "      <th>draws</th>\n",
       "      <th>losses</th>\n",
       "      <th>goals_for</th>\n",
       "      <th>goals_against</th>\n",
       "      <th>goal_differential</th>\n",
       "      <th>points</th>\n",
       "      <th>year</th>\n",
       "      <th>place</th>\n",
       "      <th>seasons_in_epl</th>\n",
       "      <th>finish</th>\n",
       "      <th>next_season_points</th>\n",
       "      <th>goal_percentage</th>\n",
       "      <th>win_rate</th>\n",
       "      <th>surpluss_goals</th>\n",
       "      <th>points_rate</th>\n",
       "      <th>goals_per_loss</th>\n",
       "    </tr>\n",
       "  </thead>\n",
       "  <tbody>\n",
       "    <tr>\n",
       "      <th>0</th>\n",
       "      <td>AFC Bournemouth</td>\n",
       "      <td>38</td>\n",
       "      <td>11</td>\n",
       "      <td>9</td>\n",
       "      <td>18</td>\n",
       "      <td>45</td>\n",
       "      <td>67</td>\n",
       "      <td>-22</td>\n",
       "      <td>42</td>\n",
       "      <td>2015</td>\n",
       "      <td>16</td>\n",
       "      <td>5</td>\n",
       "      <td>relegation_battle</td>\n",
       "      <td>46.0</td>\n",
       "      <td>0.401786</td>\n",
       "      <td>0.611111</td>\n",
       "      <td>-33</td>\n",
       "      <td>1.111111</td>\n",
       "      <td>2.500000</td>\n",
       "    </tr>\n",
       "    <tr>\n",
       "      <th>1</th>\n",
       "      <td>AFC Bournemouth</td>\n",
       "      <td>38</td>\n",
       "      <td>12</td>\n",
       "      <td>10</td>\n",
       "      <td>16</td>\n",
       "      <td>55</td>\n",
       "      <td>67</td>\n",
       "      <td>-12</td>\n",
       "      <td>46</td>\n",
       "      <td>2016</td>\n",
       "      <td>9</td>\n",
       "      <td>5</td>\n",
       "      <td>mid_table</td>\n",
       "      <td>44.0</td>\n",
       "      <td>0.450820</td>\n",
       "      <td>0.750000</td>\n",
       "      <td>-24</td>\n",
       "      <td>1.375000</td>\n",
       "      <td>3.437500</td>\n",
       "    </tr>\n",
       "    <tr>\n",
       "      <th>2</th>\n",
       "      <td>AFC Bournemouth</td>\n",
       "      <td>38</td>\n",
       "      <td>11</td>\n",
       "      <td>11</td>\n",
       "      <td>16</td>\n",
       "      <td>45</td>\n",
       "      <td>61</td>\n",
       "      <td>-16</td>\n",
       "      <td>44</td>\n",
       "      <td>2017</td>\n",
       "      <td>12</td>\n",
       "      <td>5</td>\n",
       "      <td>mid_table</td>\n",
       "      <td>45.0</td>\n",
       "      <td>0.424528</td>\n",
       "      <td>0.687500</td>\n",
       "      <td>-27</td>\n",
       "      <td>1.375000</td>\n",
       "      <td>2.812500</td>\n",
       "    </tr>\n",
       "    <tr>\n",
       "      <th>3</th>\n",
       "      <td>AFC Bournemouth</td>\n",
       "      <td>38</td>\n",
       "      <td>13</td>\n",
       "      <td>6</td>\n",
       "      <td>19</td>\n",
       "      <td>56</td>\n",
       "      <td>70</td>\n",
       "      <td>-14</td>\n",
       "      <td>45</td>\n",
       "      <td>2018</td>\n",
       "      <td>14</td>\n",
       "      <td>5</td>\n",
       "      <td>mid_table</td>\n",
       "      <td>34.0</td>\n",
       "      <td>0.444444</td>\n",
       "      <td>0.684211</td>\n",
       "      <td>-27</td>\n",
       "      <td>1.000000</td>\n",
       "      <td>2.947368</td>\n",
       "    </tr>\n",
       "    <tr>\n",
       "      <th>4</th>\n",
       "      <td>AFC Bournemouth</td>\n",
       "      <td>38</td>\n",
       "      <td>9</td>\n",
       "      <td>7</td>\n",
       "      <td>22</td>\n",
       "      <td>40</td>\n",
       "      <td>65</td>\n",
       "      <td>-25</td>\n",
       "      <td>34</td>\n",
       "      <td>2019</td>\n",
       "      <td>18</td>\n",
       "      <td>5</td>\n",
       "      <td>relegation</td>\n",
       "      <td>NaN</td>\n",
       "      <td>0.380952</td>\n",
       "      <td>0.409091</td>\n",
       "      <td>-34</td>\n",
       "      <td>0.727273</td>\n",
       "      <td>1.818182</td>\n",
       "    </tr>\n",
       "    <tr>\n",
       "      <th>...</th>\n",
       "      <td>...</td>\n",
       "      <td>...</td>\n",
       "      <td>...</td>\n",
       "      <td>...</td>\n",
       "      <td>...</td>\n",
       "      <td>...</td>\n",
       "      <td>...</td>\n",
       "      <td>...</td>\n",
       "      <td>...</td>\n",
       "      <td>...</td>\n",
       "      <td>...</td>\n",
       "      <td>...</td>\n",
       "      <td>...</td>\n",
       "      <td>...</td>\n",
       "      <td>...</td>\n",
       "      <td>...</td>\n",
       "      <td>...</td>\n",
       "      <td>...</td>\n",
       "      <td>...</td>\n",
       "    </tr>\n",
       "    <tr>\n",
       "      <th>355</th>\n",
       "      <td>Wolverhampton Wanderers</td>\n",
       "      <td>38</td>\n",
       "      <td>9</td>\n",
       "      <td>11</td>\n",
       "      <td>18</td>\n",
       "      <td>32</td>\n",
       "      <td>56</td>\n",
       "      <td>-24</td>\n",
       "      <td>38</td>\n",
       "      <td>2009</td>\n",
       "      <td>15</td>\n",
       "      <td>6</td>\n",
       "      <td>relegation_battle</td>\n",
       "      <td>40.0</td>\n",
       "      <td>0.363636</td>\n",
       "      <td>0.500000</td>\n",
       "      <td>-33</td>\n",
       "      <td>1.111111</td>\n",
       "      <td>1.777778</td>\n",
       "    </tr>\n",
       "    <tr>\n",
       "      <th>356</th>\n",
       "      <td>Wolverhampton Wanderers</td>\n",
       "      <td>38</td>\n",
       "      <td>11</td>\n",
       "      <td>7</td>\n",
       "      <td>20</td>\n",
       "      <td>46</td>\n",
       "      <td>66</td>\n",
       "      <td>-20</td>\n",
       "      <td>40</td>\n",
       "      <td>2010</td>\n",
       "      <td>17</td>\n",
       "      <td>6</td>\n",
       "      <td>relegation_battle</td>\n",
       "      <td>25.0</td>\n",
       "      <td>0.410714</td>\n",
       "      <td>0.550000</td>\n",
       "      <td>-31</td>\n",
       "      <td>0.900000</td>\n",
       "      <td>2.300000</td>\n",
       "    </tr>\n",
       "    <tr>\n",
       "      <th>357</th>\n",
       "      <td>Wolverhampton Wanderers</td>\n",
       "      <td>38</td>\n",
       "      <td>5</td>\n",
       "      <td>10</td>\n",
       "      <td>23</td>\n",
       "      <td>40</td>\n",
       "      <td>82</td>\n",
       "      <td>-42</td>\n",
       "      <td>25</td>\n",
       "      <td>2011</td>\n",
       "      <td>20</td>\n",
       "      <td>6</td>\n",
       "      <td>relegation</td>\n",
       "      <td>57.0</td>\n",
       "      <td>0.327869</td>\n",
       "      <td>0.217391</td>\n",
       "      <td>-47</td>\n",
       "      <td>0.652174</td>\n",
       "      <td>1.739130</td>\n",
       "    </tr>\n",
       "    <tr>\n",
       "      <th>358</th>\n",
       "      <td>Wolverhampton Wanderers</td>\n",
       "      <td>38</td>\n",
       "      <td>16</td>\n",
       "      <td>9</td>\n",
       "      <td>13</td>\n",
       "      <td>47</td>\n",
       "      <td>46</td>\n",
       "      <td>1</td>\n",
       "      <td>57</td>\n",
       "      <td>2018</td>\n",
       "      <td>7</td>\n",
       "      <td>6</td>\n",
       "      <td>europa_league</td>\n",
       "      <td>59.0</td>\n",
       "      <td>0.505376</td>\n",
       "      <td>1.230769</td>\n",
       "      <td>-15</td>\n",
       "      <td>1.923077</td>\n",
       "      <td>3.615385</td>\n",
       "    </tr>\n",
       "    <tr>\n",
       "      <th>359</th>\n",
       "      <td>Wolverhampton Wanderers</td>\n",
       "      <td>38</td>\n",
       "      <td>15</td>\n",
       "      <td>14</td>\n",
       "      <td>9</td>\n",
       "      <td>51</td>\n",
       "      <td>40</td>\n",
       "      <td>11</td>\n",
       "      <td>59</td>\n",
       "      <td>2019</td>\n",
       "      <td>7</td>\n",
       "      <td>6</td>\n",
       "      <td>europa_league</td>\n",
       "      <td>NaN</td>\n",
       "      <td>0.560440</td>\n",
       "      <td>1.666667</td>\n",
       "      <td>-4</td>\n",
       "      <td>3.222222</td>\n",
       "      <td>5.666667</td>\n",
       "    </tr>\n",
       "  </tbody>\n",
       "</table>\n",
       "<p>360 rows × 19 columns</p>\n",
       "</div>"
      ],
      "text/plain": [
       "                   team_name  games_played  wins  draws  losses  goals_for  \\\n",
       "0            AFC Bournemouth            38    11      9      18         45   \n",
       "1            AFC Bournemouth            38    12     10      16         55   \n",
       "2            AFC Bournemouth            38    11     11      16         45   \n",
       "3            AFC Bournemouth            38    13      6      19         56   \n",
       "4            AFC Bournemouth            38     9      7      22         40   \n",
       "..                       ...           ...   ...    ...     ...        ...   \n",
       "355  Wolverhampton Wanderers            38     9     11      18         32   \n",
       "356  Wolverhampton Wanderers            38    11      7      20         46   \n",
       "357  Wolverhampton Wanderers            38     5     10      23         40   \n",
       "358  Wolverhampton Wanderers            38    16      9      13         47   \n",
       "359  Wolverhampton Wanderers            38    15     14       9         51   \n",
       "\n",
       "     goals_against  goal_differential  points  year  place  seasons_in_epl  \\\n",
       "0               67                -22      42  2015     16               5   \n",
       "1               67                -12      46  2016      9               5   \n",
       "2               61                -16      44  2017     12               5   \n",
       "3               70                -14      45  2018     14               5   \n",
       "4               65                -25      34  2019     18               5   \n",
       "..             ...                ...     ...   ...    ...             ...   \n",
       "355             56                -24      38  2009     15               6   \n",
       "356             66                -20      40  2010     17               6   \n",
       "357             82                -42      25  2011     20               6   \n",
       "358             46                  1      57  2018      7               6   \n",
       "359             40                 11      59  2019      7               6   \n",
       "\n",
       "                finish  next_season_points  goal_percentage  win_rate  \\\n",
       "0    relegation_battle                46.0         0.401786  0.611111   \n",
       "1            mid_table                44.0         0.450820  0.750000   \n",
       "2            mid_table                45.0         0.424528  0.687500   \n",
       "3            mid_table                34.0         0.444444  0.684211   \n",
       "4           relegation                 NaN         0.380952  0.409091   \n",
       "..                 ...                 ...              ...       ...   \n",
       "355  relegation_battle                40.0         0.363636  0.500000   \n",
       "356  relegation_battle                25.0         0.410714  0.550000   \n",
       "357         relegation                57.0         0.327869  0.217391   \n",
       "358      europa_league                59.0         0.505376  1.230769   \n",
       "359      europa_league                 NaN         0.560440  1.666667   \n",
       "\n",
       "     surpluss_goals  points_rate  goals_per_loss  \n",
       "0               -33     1.111111        2.500000  \n",
       "1               -24     1.375000        3.437500  \n",
       "2               -27     1.375000        2.812500  \n",
       "3               -27     1.000000        2.947368  \n",
       "4               -34     0.727273        1.818182  \n",
       "..              ...          ...             ...  \n",
       "355             -33     1.111111        1.777778  \n",
       "356             -31     0.900000        2.300000  \n",
       "357             -47     0.652174        1.739130  \n",
       "358             -15     1.923077        3.615385  \n",
       "359              -4     3.222222        5.666667  \n",
       "\n",
       "[360 rows x 19 columns]"
      ]
     },
     "execution_count": 7,
     "metadata": {},
     "output_type": "execute_result"
    }
   ],
   "source": [
    "df"
   ]
  },
  {
   "cell_type": "code",
   "execution_count": 8,
   "metadata": {},
   "outputs": [],
   "source": [
    "df['next_year'] = df.year.shift(-1)"
   ]
  },
  {
   "cell_type": "code",
   "execution_count": 9,
   "metadata": {},
   "outputs": [
    {
     "data": {
      "text/plain": [
       "points                0.786692\n",
       "goal_differential     0.808888\n",
       "next_season_points    1.000000\n",
       "wins                  0.762256\n",
       "goals_for             0.750810\n",
       "goals_against        -0.707387\n",
       "place                -0.728315\n",
       "losses               -0.775132\n",
       "goal_percentage       0.816199\n",
       "win_rate              0.559267\n",
       "surpluss_goals        0.806492\n",
       "points_rate           0.558556\n",
       "goals_per_loss        0.580155\n",
       "seasons_in_epl        0.638168\n",
       "Name: next_season_points, dtype: float64"
      ]
     },
     "execution_count": 9,
     "metadata": {},
     "output_type": "execute_result"
    }
   ],
   "source": [
    "(df[['points', 'goal_differential', 'next_season_points', \n",
    "     'wins', 'goals_for', 'goals_against', 'place', 'losses', \n",
    "     'goal_percentage', 'win_rate', 'surpluss_goals', 'points_rate',\n",
    "    'goals_per_loss', 'seasons_in_epl']]\n",
    "     .dropna().corr().next_season_points)"
   ]
  },
  {
   "cell_type": "markdown",
   "metadata": {},
   "source": [
    "#### Overview of the dataframe"
   ]
  },
  {
   "cell_type": "code",
   "execution_count": 10,
   "metadata": {},
   "outputs": [
    {
     "name": "stdout",
     "output_type": "stream",
     "text": [
      "(360, 20)\n",
      "<class 'pandas.core.frame.DataFrame'>\n",
      "RangeIndex: 360 entries, 0 to 359\n",
      "Data columns (total 20 columns):\n",
      " #   Column              Non-Null Count  Dtype  \n",
      "---  ------              --------------  -----  \n",
      " 0   team_name           360 non-null    object \n",
      " 1   games_played        360 non-null    int64  \n",
      " 2   wins                360 non-null    int64  \n",
      " 3   draws               360 non-null    int64  \n",
      " 4   losses              360 non-null    int64  \n",
      " 5   goals_for           360 non-null    int64  \n",
      " 6   goals_against       360 non-null    int64  \n",
      " 7   goal_differential   360 non-null    int64  \n",
      " 8   points              360 non-null    int64  \n",
      " 9   year                360 non-null    int64  \n",
      " 10  place               360 non-null    int64  \n",
      " 11  seasons_in_epl      360 non-null    int64  \n",
      " 12  finish              360 non-null    object \n",
      " 13  next_season_points  320 non-null    float64\n",
      " 14  goal_percentage     360 non-null    float64\n",
      " 15  win_rate            360 non-null    float64\n",
      " 16  surpluss_goals      360 non-null    int64  \n",
      " 17  points_rate         360 non-null    float64\n",
      " 18  goals_per_loss      360 non-null    float64\n",
      " 19  next_year           359 non-null    float64\n",
      "dtypes: float64(6), int64(12), object(2)\n",
      "memory usage: 56.4+ KB\n",
      "None\n"
     ]
    },
    {
     "data": {
      "text/html": [
       "<div>\n",
       "<style scoped>\n",
       "    .dataframe tbody tr th:only-of-type {\n",
       "        vertical-align: middle;\n",
       "    }\n",
       "\n",
       "    .dataframe tbody tr th {\n",
       "        vertical-align: top;\n",
       "    }\n",
       "\n",
       "    .dataframe thead th {\n",
       "        text-align: right;\n",
       "    }\n",
       "</style>\n",
       "<table border=\"1\" class=\"dataframe\">\n",
       "  <thead>\n",
       "    <tr style=\"text-align: right;\">\n",
       "      <th></th>\n",
       "      <th>team_name</th>\n",
       "      <th>games_played</th>\n",
       "      <th>wins</th>\n",
       "      <th>draws</th>\n",
       "      <th>losses</th>\n",
       "      <th>goals_for</th>\n",
       "      <th>goals_against</th>\n",
       "      <th>goal_differential</th>\n",
       "      <th>points</th>\n",
       "      <th>year</th>\n",
       "      <th>place</th>\n",
       "      <th>seasons_in_epl</th>\n",
       "      <th>finish</th>\n",
       "      <th>next_season_points</th>\n",
       "      <th>goal_percentage</th>\n",
       "      <th>win_rate</th>\n",
       "      <th>surpluss_goals</th>\n",
       "      <th>points_rate</th>\n",
       "      <th>goals_per_loss</th>\n",
       "      <th>next_year</th>\n",
       "    </tr>\n",
       "  </thead>\n",
       "  <tbody>\n",
       "    <tr>\n",
       "      <th>0</th>\n",
       "      <td>AFC Bournemouth</td>\n",
       "      <td>38</td>\n",
       "      <td>11</td>\n",
       "      <td>9</td>\n",
       "      <td>18</td>\n",
       "      <td>45</td>\n",
       "      <td>67</td>\n",
       "      <td>-22</td>\n",
       "      <td>42</td>\n",
       "      <td>2015</td>\n",
       "      <td>16</td>\n",
       "      <td>5</td>\n",
       "      <td>relegation_battle</td>\n",
       "      <td>46.0</td>\n",
       "      <td>0.401786</td>\n",
       "      <td>0.611111</td>\n",
       "      <td>-33</td>\n",
       "      <td>1.111111</td>\n",
       "      <td>2.5000</td>\n",
       "      <td>2016.0</td>\n",
       "    </tr>\n",
       "    <tr>\n",
       "      <th>1</th>\n",
       "      <td>AFC Bournemouth</td>\n",
       "      <td>38</td>\n",
       "      <td>12</td>\n",
       "      <td>10</td>\n",
       "      <td>16</td>\n",
       "      <td>55</td>\n",
       "      <td>67</td>\n",
       "      <td>-12</td>\n",
       "      <td>46</td>\n",
       "      <td>2016</td>\n",
       "      <td>9</td>\n",
       "      <td>5</td>\n",
       "      <td>mid_table</td>\n",
       "      <td>44.0</td>\n",
       "      <td>0.450820</td>\n",
       "      <td>0.750000</td>\n",
       "      <td>-24</td>\n",
       "      <td>1.375000</td>\n",
       "      <td>3.4375</td>\n",
       "      <td>2017.0</td>\n",
       "    </tr>\n",
       "  </tbody>\n",
       "</table>\n",
       "</div>"
      ],
      "text/plain": [
       "         team_name  games_played  wins  draws  losses  goals_for  \\\n",
       "0  AFC Bournemouth            38    11      9      18         45   \n",
       "1  AFC Bournemouth            38    12     10      16         55   \n",
       "\n",
       "   goals_against  goal_differential  points  year  place  seasons_in_epl  \\\n",
       "0             67                -22      42  2015     16               5   \n",
       "1             67                -12      46  2016      9               5   \n",
       "\n",
       "              finish  next_season_points  goal_percentage  win_rate  \\\n",
       "0  relegation_battle                46.0         0.401786  0.611111   \n",
       "1          mid_table                44.0         0.450820  0.750000   \n",
       "\n",
       "   surpluss_goals  points_rate  goals_per_loss  next_year  \n",
       "0             -33     1.111111          2.5000     2016.0  \n",
       "1             -24     1.375000          3.4375     2017.0  "
      ]
     },
     "execution_count": 10,
     "metadata": {},
     "output_type": "execute_result"
    }
   ],
   "source": [
    "print(df.shape)\n",
    "print(df.info())\n",
    "df.head(2)"
   ]
  },
  {
   "cell_type": "code",
   "execution_count": 11,
   "metadata": {},
   "outputs": [
    {
     "data": {
      "text/html": [
       "<div>\n",
       "<style scoped>\n",
       "    .dataframe tbody tr th:only-of-type {\n",
       "        vertical-align: middle;\n",
       "    }\n",
       "\n",
       "    .dataframe tbody tr th {\n",
       "        vertical-align: top;\n",
       "    }\n",
       "\n",
       "    .dataframe thead th {\n",
       "        text-align: right;\n",
       "    }\n",
       "</style>\n",
       "<table border=\"1\" class=\"dataframe\">\n",
       "  <thead>\n",
       "    <tr style=\"text-align: right;\">\n",
       "      <th></th>\n",
       "      <th>games_played</th>\n",
       "      <th>wins</th>\n",
       "      <th>draws</th>\n",
       "      <th>losses</th>\n",
       "      <th>goals_for</th>\n",
       "      <th>goals_against</th>\n",
       "      <th>goal_differential</th>\n",
       "      <th>points</th>\n",
       "      <th>year</th>\n",
       "      <th>place</th>\n",
       "      <th>seasons_in_epl</th>\n",
       "      <th>next_season_points</th>\n",
       "      <th>goal_percentage</th>\n",
       "      <th>win_rate</th>\n",
       "      <th>surpluss_goals</th>\n",
       "      <th>points_rate</th>\n",
       "      <th>goals_per_loss</th>\n",
       "      <th>next_year</th>\n",
       "    </tr>\n",
       "  </thead>\n",
       "  <tbody>\n",
       "    <tr>\n",
       "      <th>count</th>\n",
       "      <td>360.0</td>\n",
       "      <td>360.000000</td>\n",
       "      <td>360.000000</td>\n",
       "      <td>360.000000</td>\n",
       "      <td>360.000000</td>\n",
       "      <td>360.000000</td>\n",
       "      <td>360.000000</td>\n",
       "      <td>360.000000</td>\n",
       "      <td>360.000000</td>\n",
       "      <td>360.000000</td>\n",
       "      <td>360.000000</td>\n",
       "      <td>320.000000</td>\n",
       "      <td>360.000000</td>\n",
       "      <td>360.000000</td>\n",
       "      <td>360.000000</td>\n",
       "      <td>360.000000</td>\n",
       "      <td>360.000000</td>\n",
       "      <td>359.000000</td>\n",
       "    </tr>\n",
       "    <tr>\n",
       "      <th>mean</th>\n",
       "      <td>38.0</td>\n",
       "      <td>14.244444</td>\n",
       "      <td>9.511111</td>\n",
       "      <td>14.244444</td>\n",
       "      <td>50.811111</td>\n",
       "      <td>50.811111</td>\n",
       "      <td>0.000000</td>\n",
       "      <td>52.219444</td>\n",
       "      <td>2010.500000</td>\n",
       "      <td>10.500000</td>\n",
       "      <td>12.511111</td>\n",
       "      <td>53.146875</td>\n",
       "      <td>0.496806</td>\n",
       "      <td>inf</td>\n",
       "      <td>-14.244444</td>\n",
       "      <td>inf</td>\n",
       "      <td>inf</td>\n",
       "      <td>2010.487465</td>\n",
       "    </tr>\n",
       "    <tr>\n",
       "      <th>std</th>\n",
       "      <td>0.0</td>\n",
       "      <td>6.033446</td>\n",
       "      <td>2.842160</td>\n",
       "      <td>5.590105</td>\n",
       "      <td>15.665653</td>\n",
       "      <td>13.099699</td>\n",
       "      <td>26.046348</td>\n",
       "      <td>17.246667</td>\n",
       "      <td>5.195348</td>\n",
       "      <td>5.774307</td>\n",
       "      <td>5.161988</td>\n",
       "      <td>17.326307</td>\n",
       "      <td>0.123009</td>\n",
       "      <td>NaN</td>\n",
       "      <td>20.415222</td>\n",
       "      <td>NaN</td>\n",
       "      <td>NaN</td>\n",
       "      <td>5.197145</td>\n",
       "    </tr>\n",
       "    <tr>\n",
       "      <th>min</th>\n",
       "      <td>38.0</td>\n",
       "      <td>1.000000</td>\n",
       "      <td>2.000000</td>\n",
       "      <td>0.000000</td>\n",
       "      <td>20.000000</td>\n",
       "      <td>15.000000</td>\n",
       "      <td>-69.000000</td>\n",
       "      <td>11.000000</td>\n",
       "      <td>2002.000000</td>\n",
       "      <td>1.000000</td>\n",
       "      <td>1.000000</td>\n",
       "      <td>15.000000</td>\n",
       "      <td>0.183486</td>\n",
       "      <td>0.034483</td>\n",
       "      <td>-70.000000</td>\n",
       "      <td>0.310345</td>\n",
       "      <td>0.689655</td>\n",
       "      <td>2002.000000</td>\n",
       "    </tr>\n",
       "    <tr>\n",
       "      <th>25%</th>\n",
       "      <td>38.0</td>\n",
       "      <td>10.000000</td>\n",
       "      <td>7.000000</td>\n",
       "      <td>10.000000</td>\n",
       "      <td>40.000000</td>\n",
       "      <td>41.000000</td>\n",
       "      <td>-19.000000</td>\n",
       "      <td>40.000000</td>\n",
       "      <td>2006.000000</td>\n",
       "      <td>5.750000</td>\n",
       "      <td>8.000000</td>\n",
       "      <td>41.000000</td>\n",
       "      <td>0.407407</td>\n",
       "      <td>0.554167</td>\n",
       "      <td>-28.250000</td>\n",
       "      <td>1.111111</td>\n",
       "      <td>2.280952</td>\n",
       "      <td>2006.000000</td>\n",
       "    </tr>\n",
       "    <tr>\n",
       "      <th>50%</th>\n",
       "      <td>38.0</td>\n",
       "      <td>13.000000</td>\n",
       "      <td>9.000000</td>\n",
       "      <td>15.000000</td>\n",
       "      <td>47.000000</td>\n",
       "      <td>51.000000</td>\n",
       "      <td>-7.000000</td>\n",
       "      <td>48.000000</td>\n",
       "      <td>2010.500000</td>\n",
       "      <td>10.500000</td>\n",
       "      <td>13.000000</td>\n",
       "      <td>49.000000</td>\n",
       "      <td>0.465231</td>\n",
       "      <td>0.812500</td>\n",
       "      <td>-19.000000</td>\n",
       "      <td>1.533333</td>\n",
       "      <td>3.000000</td>\n",
       "      <td>2010.000000</td>\n",
       "    </tr>\n",
       "    <tr>\n",
       "      <th>75%</th>\n",
       "      <td>38.0</td>\n",
       "      <td>18.000000</td>\n",
       "      <td>11.000000</td>\n",
       "      <td>18.000000</td>\n",
       "      <td>59.000000</td>\n",
       "      <td>59.000000</td>\n",
       "      <td>15.250000</td>\n",
       "      <td>63.000000</td>\n",
       "      <td>2015.000000</td>\n",
       "      <td>15.250000</td>\n",
       "      <td>18.000000</td>\n",
       "      <td>64.000000</td>\n",
       "      <td>0.582647</td>\n",
       "      <td>1.727273</td>\n",
       "      <td>-1.000000</td>\n",
       "      <td>2.800000</td>\n",
       "      <td>5.694231</td>\n",
       "      <td>2015.000000</td>\n",
       "    </tr>\n",
       "    <tr>\n",
       "      <th>max</th>\n",
       "      <td>38.0</td>\n",
       "      <td>32.000000</td>\n",
       "      <td>17.000000</td>\n",
       "      <td>29.000000</td>\n",
       "      <td>106.000000</td>\n",
       "      <td>89.000000</td>\n",
       "      <td>79.000000</td>\n",
       "      <td>100.000000</td>\n",
       "      <td>2019.000000</td>\n",
       "      <td>20.000000</td>\n",
       "      <td>18.000000</td>\n",
       "      <td>100.000000</td>\n",
       "      <td>0.827586</td>\n",
       "      <td>inf</td>\n",
       "      <td>47.000000</td>\n",
       "      <td>inf</td>\n",
       "      <td>inf</td>\n",
       "      <td>2019.000000</td>\n",
       "    </tr>\n",
       "  </tbody>\n",
       "</table>\n",
       "</div>"
      ],
      "text/plain": [
       "       games_played        wins       draws      losses   goals_for  \\\n",
       "count         360.0  360.000000  360.000000  360.000000  360.000000   \n",
       "mean           38.0   14.244444    9.511111   14.244444   50.811111   \n",
       "std             0.0    6.033446    2.842160    5.590105   15.665653   \n",
       "min            38.0    1.000000    2.000000    0.000000   20.000000   \n",
       "25%            38.0   10.000000    7.000000   10.000000   40.000000   \n",
       "50%            38.0   13.000000    9.000000   15.000000   47.000000   \n",
       "75%            38.0   18.000000   11.000000   18.000000   59.000000   \n",
       "max            38.0   32.000000   17.000000   29.000000  106.000000   \n",
       "\n",
       "       goals_against  goal_differential      points         year       place  \\\n",
       "count     360.000000         360.000000  360.000000   360.000000  360.000000   \n",
       "mean       50.811111           0.000000   52.219444  2010.500000   10.500000   \n",
       "std        13.099699          26.046348   17.246667     5.195348    5.774307   \n",
       "min        15.000000         -69.000000   11.000000  2002.000000    1.000000   \n",
       "25%        41.000000         -19.000000   40.000000  2006.000000    5.750000   \n",
       "50%        51.000000          -7.000000   48.000000  2010.500000   10.500000   \n",
       "75%        59.000000          15.250000   63.000000  2015.000000   15.250000   \n",
       "max        89.000000          79.000000  100.000000  2019.000000   20.000000   \n",
       "\n",
       "       seasons_in_epl  next_season_points  goal_percentage    win_rate  \\\n",
       "count      360.000000          320.000000       360.000000  360.000000   \n",
       "mean        12.511111           53.146875         0.496806         inf   \n",
       "std          5.161988           17.326307         0.123009         NaN   \n",
       "min          1.000000           15.000000         0.183486    0.034483   \n",
       "25%          8.000000           41.000000         0.407407    0.554167   \n",
       "50%         13.000000           49.000000         0.465231    0.812500   \n",
       "75%         18.000000           64.000000         0.582647    1.727273   \n",
       "max         18.000000          100.000000         0.827586         inf   \n",
       "\n",
       "       surpluss_goals  points_rate  goals_per_loss    next_year  \n",
       "count      360.000000   360.000000      360.000000   359.000000  \n",
       "mean       -14.244444          inf             inf  2010.487465  \n",
       "std         20.415222          NaN             NaN     5.197145  \n",
       "min        -70.000000     0.310345        0.689655  2002.000000  \n",
       "25%        -28.250000     1.111111        2.280952  2006.000000  \n",
       "50%        -19.000000     1.533333        3.000000  2010.000000  \n",
       "75%         -1.000000     2.800000        5.694231  2015.000000  \n",
       "max         47.000000          inf             inf  2019.000000  "
      ]
     },
     "execution_count": 11,
     "metadata": {},
     "output_type": "execute_result"
    }
   ],
   "source": [
    "df.describe()"
   ]
  },
  {
   "cell_type": "markdown",
   "metadata": {},
   "source": [
    "# Explore"
   ]
  },
  {
   "cell_type": "markdown",
   "metadata": {},
   "source": [
    "## Are goals per game increasing over time?"
   ]
  },
  {
   "cell_type": "code",
   "execution_count": 12,
   "metadata": {},
   "outputs": [
    {
     "data": {
      "text/plain": [
       "<matplotlib.axes._subplots.AxesSubplot at 0x129ce5710>"
      ]
     },
     "execution_count": 12,
     "metadata": {},
     "output_type": "execute_result"
    },
    {
     "data": {
      "image/png": "[encoded data removed]",
      "text/plain": [
       "<Figure size 432x288 with 1 Axes>"
      ]
     },
     "metadata": {
      "needs_background": "light"
     },
     "output_type": "display_data"
    }
   ],
   "source": [
    "(df.groupby('year').goals_for.mean()/38).plot()"
   ]
  },
  {
   "cell_type": "code",
   "execution_count": 13,
   "metadata": {},
   "outputs": [
    {
     "data": {
      "text/plain": [
       "<seaborn.axisgrid.FacetGrid at 0x12be3bb10>"
      ]
     },
     "execution_count": 13,
     "metadata": {},
     "output_type": "execute_result"
    },
    {
     "data": {
      "image/png": "[encoded data removed]",
      "text/plain": [
       "<Figure size 360x360 with 1 Axes>"
      ]
     },
     "metadata": {
      "needs_background": "light"
     },
     "output_type": "display_data"
    }
   ],
   "source": [
    "sns.lmplot(x='year', y='goals_for', data=df)"
   ]
  },
  {
   "cell_type": "code",
   "execution_count": 14,
   "metadata": {},
   "outputs": [
    {
     "data": {
      "text/plain": [
       "<matplotlib.axes._subplots.AxesSubplot at 0x12bfb2d90>"
      ]
     },
     "execution_count": 14,
     "metadata": {},
     "output_type": "execute_result"
    },
    {
     "data": {
      "image/png": "[encoded data removed]",
      "text/plain": [
       "<Figure size 432x288 with 1 Axes>"
      ]
     },
     "metadata": {
      "needs_background": "light"
     },
     "output_type": "display_data"
    }
   ],
   "source": [
    "sns.lineplot(x ='year', y ='goal_differential', data=df, hue='place')"
   ]
  },
  {
   "cell_type": "code",
   "execution_count": 15,
   "metadata": {},
   "outputs": [
    {
     "data": {
      "text/plain": [
       "<matplotlib.axes._subplots.AxesSubplot at 0x12c177190>"
      ]
     },
     "execution_count": 15,
     "metadata": {},
     "output_type": "execute_result"
    },
    {
     "data": {
      "image/png": "[encoded data removed]",
      "text/plain": [
       "<Figure size 432x288 with 1 Axes>"
      ]
     },
     "metadata": {
      "needs_background": "light"
     },
     "output_type": "display_data"
    }
   ],
   "source": [
    "(df.groupby('year').goals_against.mean()/38).plot()"
   ]
  },
  {
   "cell_type": "markdown",
   "metadata": {},
   "source": [
    "### Team Results"
   ]
  },
  {
   "cell_type": "code",
   "execution_count": 16,
   "metadata": {},
   "outputs": [
    {
     "data": {
      "image/png": "[encoded data removed]",
      "text/plain": [
       "<Figure size 432x288 with 1 Axes>"
      ]
     },
     "metadata": {
      "needs_background": "light"
     },
     "output_type": "display_data"
    }
   ],
   "source": [
    "df.set_index('year').groupby('team_name').points.plot()\n",
    "plt.title('Team Points by Year')\n",
    "plt.show()"
   ]
  },
  {
   "cell_type": "markdown",
   "metadata": {},
   "source": [
    "**Takeaways** At the top of the viz, you can see that there are a couple teams that have stayed at the top of the table, but as you get further towards the middle, the data becomes a lot more muddled"
   ]
  },
  {
   "cell_type": "code",
   "execution_count": 17,
   "metadata": {},
   "outputs": [
    {
     "data": {
      "image/png": "[encoded data removed]",
      "text/plain": [
       "<Figure size 432x288 with 1 Axes>"
      ]
     },
     "metadata": {
      "needs_background": "light"
     },
     "output_type": "display_data"
    }
   ],
   "source": [
    "df.points.hist(bins=5)\n",
    "plt.title(\"Distribution of Points by Team-Season\")\n",
    "plt.show()"
   ]
  },
  {
   "cell_type": "markdown",
   "metadata": {},
   "source": [
    "**Takeaways** Looks like a poisson distribution."
   ]
  },
  {
   "cell_type": "code",
   "execution_count": 18,
   "metadata": {},
   "outputs": [
    {
     "data": {
      "image/png": "[encoded data removed]",
      "text/plain": [
       "<Figure size 432x288 with 1 Axes>"
      ]
     },
     "metadata": {
      "needs_background": "light"
     },
     "output_type": "display_data"
    }
   ],
   "source": [
    "df.draws.hist(bins=5)\n",
    "plt.title(\"Distribution of Draws by Team-Season\")\n",
    "plt.show()"
   ]
  },
  {
   "cell_type": "markdown",
   "metadata": {},
   "source": [
    "**Takeaways** Normal distribution around 9-10 draws per season"
   ]
  },
  {
   "cell_type": "code",
   "execution_count": 19,
   "metadata": {},
   "outputs": [
    {
     "data": {
      "text/plain": [
       "count    360.000000\n",
       "mean       9.511111\n",
       "std        2.842160\n",
       "min        2.000000\n",
       "25%        7.000000\n",
       "50%        9.000000\n",
       "75%       11.000000\n",
       "max       17.000000\n",
       "Name: draws, dtype: float64"
      ]
     },
     "execution_count": 19,
     "metadata": {},
     "output_type": "execute_result"
    }
   ],
   "source": [
    "df.draws.describe()"
   ]
  },
  {
   "cell_type": "markdown",
   "metadata": {},
   "source": [
    "Average number of draws per year is 9.5"
   ]
  },
  {
   "cell_type": "markdown",
   "metadata": {},
   "source": [
    "### Exploring Draws a little more closely"
   ]
  },
  {
   "cell_type": "code",
   "execution_count": 20,
   "metadata": {},
   "outputs": [
    {
     "data": {
      "text/plain": [
       "Text(0.5, 1.0, 'Is There a Pattern for Draws by Table Place?')"
      ]
     },
     "execution_count": 20,
     "metadata": {},
     "output_type": "execute_result"
    },
    {
     "data": {
      "image/png": "[encoded data removed]",
      "text/plain": [
       "<Figure size 432x288 with 1 Axes>"
      ]
     },
     "metadata": {
      "needs_background": "light"
     },
     "output_type": "display_data"
    }
   ],
   "source": [
    "df.groupby('place').draws.mean().plot.bar(color='green')\n",
    "plt.title('Is There a Pattern for Draws by Table Place?')"
   ]
  },
  {
   "cell_type": "markdown",
   "metadata": {},
   "source": [
    "**Takeaways** Number of draws tend to be higher at the middle of the table"
   ]
  },
  {
   "cell_type": "code",
   "execution_count": 21,
   "metadata": {},
   "outputs": [
    {
     "data": {
      "image/png": "[encoded data removed]",
      "text/plain": [
       "<Figure size 432x288 with 1 Axes>"
      ]
     },
     "metadata": {
      "needs_background": "light"
     },
     "output_type": "display_data"
    }
   ],
   "source": [
    "df.groupby('year').draws.mean().plot.bar(color='red')\n",
    "plt.title('Is There a Pattern of Draws by Year?')\n",
    "plt.show()"
   ]
  },
  {
   "cell_type": "markdown",
   "metadata": {},
   "source": [
    "**Takeaways** Not really, there is a pretty significant difference between certain years, but no noticeable trends\n",
    "**Furtherwork** Some hypothesis testing and statistical analysis"
   ]
  },
  {
   "cell_type": "code",
   "execution_count": 22,
   "metadata": {},
   "outputs": [
    {
     "data": {
      "image/png": "[encoded data removed]",
      "text/plain": [
       "<Figure size 1152x360 with 1 Axes>"
      ]
     },
     "metadata": {
      "needs_background": "light"
     },
     "output_type": "display_data"
    }
   ],
   "source": [
    "plt.figure(figsize=(16,5))\n",
    "df.groupby('team_name').draws.mean().plot.bar(color='purple')\n",
    "plt.title('Is There a Pattern of Draws by Team?')\n",
    "plt.show()"
   ]
  },
  {
   "cell_type": "markdown",
   "metadata": {},
   "source": [
    "**Takeaways** Likely, but not immediately evident."
   ]
  },
  {
   "cell_type": "code",
   "execution_count": 23,
   "metadata": {},
   "outputs": [
    {
     "data": {
      "text/plain": [
       "Text(0.5, 1.0, 'Because of Relegation, How Many Seasons Has Each Team Played?')"
      ]
     },
     "execution_count": 23,
     "metadata": {},
     "output_type": "execute_result"
    },
    {
     "data": {
      "image/png": "[encoded data removed]",
      "text/plain": [
       "<Figure size 1152x360 with 1 Axes>"
      ]
     },
     "metadata": {
      "needs_background": "light"
     },
     "output_type": "display_data"
    }
   ],
   "source": [
    "plt.figure(figsize=(16,5))\n",
    "df.groupby('team_name').draws.count().sort_values(ascending=False).plot.bar(color='orange')\n",
    "plt.title('Because of Relegation, How Many Seasons Has Each Team Played?')"
   ]
  },
  {
   "cell_type": "markdown",
   "metadata": {},
   "source": [
    "### Just for fun , lets look at scatter plots of number of seasons and average number of points and draws!"
   ]
  },
  {
   "cell_type": "code",
   "execution_count": 24,
   "metadata": {},
   "outputs": [
    {
     "data": {
      "text/plain": [
       "Text(0.5, 1.0, 'What is the Relationship between No of Seasons in EPL and Avg No of Draws')"
      ]
     },
     "execution_count": 24,
     "metadata": {},
     "output_type": "execute_result"
    },
    {
     "data": {
      "image/png": "[encoded data removed]",
      "text/plain": [
       "<Figure size 432x288 with 1 Axes>"
      ]
     },
     "metadata": {
      "needs_background": "light"
     },
     "output_type": "display_data"
    }
   ],
   "source": [
    "df_temp = df.groupby('team_name').draws.agg(['count', 'mean'])\n",
    "sns.scatterplot(x='count', y='mean', data=df_temp)\n",
    "plt.xlabel('Number of Seasons')\n",
    "plt.ylabel('Average Number of Draws')\n",
    "plt.title('What is the Relationship between No of Seasons in EPL and Avg No of Draws')"
   ]
  },
  {
   "cell_type": "code",
   "execution_count": 25,
   "metadata": {},
   "outputs": [
    {
     "data": {
      "text/plain": [
       "Text(0.5, 1.0, 'What is the Relationship between No of Seasons in EPL and Avg Points')"
      ]
     },
     "execution_count": 25,
     "metadata": {},
     "output_type": "execute_result"
    },
    {
     "data": {
      "image/png": "[encoded data removed]",
      "text/plain": [
       "<Figure size 360x360 with 1 Axes>"
      ]
     },
     "metadata": {
      "needs_background": "light"
     },
     "output_type": "display_data"
    }
   ],
   "source": [
    "df_temp = df.groupby('team_name').points.agg(['count', 'mean'])\n",
    "sns.lmplot(x='count', y='mean', data=df_temp)\n",
    "plt.xlabel('Number of Seasons')\n",
    "plt.ylabel('Average Number of Points')\n",
    "plt.title('What is the Relationship between No of Seasons in EPL and Avg Points')"
   ]
  },
  {
   "cell_type": "markdown",
   "metadata": {},
   "source": [
    "**Takeaways:** Seems to be a pretty clear linear relationship between number of seasons in the Premier League and the Average number of Points"
   ]
  },
  {
   "cell_type": "code",
   "execution_count": 26,
   "metadata": {},
   "outputs": [
    {
     "data": {
      "text/plain": [
       "Text(0.5, 1.0, 'What is the relationship between points and goal differential')"
      ]
     },
     "execution_count": 26,
     "metadata": {},
     "output_type": "execute_result"
    },
    {
     "data": {
      "image/png": "[encoded data removed]",
      "text/plain": [
       "<Figure size 360x360 with 1 Axes>"
      ]
     },
     "metadata": {
      "needs_background": "light"
     },
     "output_type": "display_data"
    }
   ],
   "source": [
    "sns.lmplot(x='points', y = 'goal_differential', data = df)\n",
    "plt.title('What is the relationship between points and goal differential')"
   ]
  },
  {
   "cell_type": "code",
   "execution_count": 27,
   "metadata": {},
   "outputs": [
    {
     "data": {
      "text/plain": [
       "Text(0.5, 1.0, 'What is the relationship between points and place')"
      ]
     },
     "execution_count": 27,
     "metadata": {},
     "output_type": "execute_result"
    },
    {
     "data": {
      "image/png": "[encoded data removed]",
      "text/plain": [
       "<Figure size 360x360 with 1 Axes>"
      ]
     },
     "metadata": {
      "needs_background": "light"
     },
     "output_type": "display_data"
    }
   ],
   "source": [
    "sns.lmplot(x='place', y = 'goal_differential', data = df)\n",
    "plt.title('What is the relationship between points and place')"
   ]
  },
  {
   "cell_type": "markdown",
   "metadata": {},
   "source": [
    "### Is it better to win or avoid a loss?"
   ]
  },
  {
   "cell_type": "code",
   "execution_count": 28,
   "metadata": {},
   "outputs": [
    {
     "data": {
      "text/plain": [
       "Text(0, 0.5, 'Absolute value of correlation')"
      ]
     },
     "execution_count": 28,
     "metadata": {},
     "output_type": "execute_result"
    },
    {
     "data": {
      "image/png": "[encoded data removed]",
      "text/plain": [
       "<Figure size 432x288 with 1 Axes>"
      ]
     },
     "metadata": {
      "needs_background": "light"
     },
     "output_type": "display_data"
    }
   ],
   "source": [
    "df[['wins', 'losses', 'points']].corr().points[0:2].abs().plot.bar(color='indigo')\n",
    "plt.title(\"Absolute value of Points to Wins and Losses\")\n",
    "plt.ylabel('Absolute value of correlation')"
   ]
  },
  {
   "cell_type": "markdown",
   "metadata": {},
   "source": [
    "**Takeaways:** Although there is a high absolute correlation to both.  It appears that winning is more important than avoiding losses."
   ]
  },
  {
   "cell_type": "code",
   "execution_count": 29,
   "metadata": {},
   "outputs": [
    {
     "data": {
      "text/plain": [
       "Text(0, 0.5, 'Absolute value of correlation')"
      ]
     },
     "execution_count": 29,
     "metadata": {},
     "output_type": "execute_result"
    },
    {
     "data": {
      "image/png": "[encoded data removed]",
      "text/plain": [
       "<Figure size 432x288 with 1 Axes>"
      ]
     },
     "metadata": {
      "needs_background": "light"
     },
     "output_type": "display_data"
    }
   ],
   "source": [
    "df[df.place <= 4][['wins', 'losses', 'points']].corr().points[0:2].abs().plot.bar(color='indigo')\n",
    "plt.title(\"Absolute value of Points to Wins and Losses for Champions League Places\")\n",
    "plt.ylabel('Absolute value of correlation')"
   ]
  },
  {
   "cell_type": "code",
   "execution_count": 30,
   "metadata": {},
   "outputs": [
    {
     "data": {
      "text/plain": [
       "Text(0, 0.5, 'Absolute value of correlation')"
      ]
     },
     "execution_count": 30,
     "metadata": {},
     "output_type": "execute_result"
    },
    {
     "data": {
      "image/png": "[encoded data removed]",
      "text/plain": [
       "<Figure size 432x288 with 1 Axes>"
      ]
     },
     "metadata": {
      "needs_background": "light"
     },
     "output_type": "display_data"
    }
   ],
   "source": [
    "df[df.place >= 18][['wins', 'losses', 'points']].corr().points[0:2].abs().plot.bar(color='indigo')\n",
    "plt.title(\"Absolute value of Points to Wins and Losses for Champions League Places\")\n",
    "plt.ylabel('Absolute value of correlation')"
   ]
  },
  {
   "cell_type": "markdown",
   "metadata": {},
   "source": [
    "# Modeling"
   ]
  },
  {
   "cell_type": "code",
   "execution_count": 31,
   "metadata": {},
   "outputs": [
    {
     "data": {
      "text/html": [
       "<div>\n",
       "<style scoped>\n",
       "    .dataframe tbody tr th:only-of-type {\n",
       "        vertical-align: middle;\n",
       "    }\n",
       "\n",
       "    .dataframe tbody tr th {\n",
       "        vertical-align: top;\n",
       "    }\n",
       "\n",
       "    .dataframe thead th {\n",
       "        text-align: right;\n",
       "    }\n",
       "</style>\n",
       "<table border=\"1\" class=\"dataframe\">\n",
       "  <thead>\n",
       "    <tr style=\"text-align: right;\">\n",
       "      <th></th>\n",
       "      <th>team_name</th>\n",
       "      <th>games_played</th>\n",
       "      <th>wins</th>\n",
       "      <th>draws</th>\n",
       "      <th>losses</th>\n",
       "      <th>goals_for</th>\n",
       "      <th>goals_against</th>\n",
       "      <th>goal_differential</th>\n",
       "      <th>points</th>\n",
       "      <th>year</th>\n",
       "      <th>place</th>\n",
       "      <th>seasons_in_epl</th>\n",
       "      <th>finish</th>\n",
       "      <th>next_season_points</th>\n",
       "      <th>goal_percentage</th>\n",
       "      <th>win_rate</th>\n",
       "      <th>surpluss_goals</th>\n",
       "      <th>points_rate</th>\n",
       "      <th>goals_per_loss</th>\n",
       "      <th>next_year</th>\n",
       "    </tr>\n",
       "  </thead>\n",
       "  <tbody>\n",
       "    <tr>\n",
       "      <th>0</th>\n",
       "      <td>AFC Bournemouth</td>\n",
       "      <td>38</td>\n",
       "      <td>11</td>\n",
       "      <td>9</td>\n",
       "      <td>18</td>\n",
       "      <td>45</td>\n",
       "      <td>67</td>\n",
       "      <td>-22</td>\n",
       "      <td>42</td>\n",
       "      <td>2015</td>\n",
       "      <td>16</td>\n",
       "      <td>5</td>\n",
       "      <td>relegation_battle</td>\n",
       "      <td>46.0</td>\n",
       "      <td>0.401786</td>\n",
       "      <td>0.611111</td>\n",
       "      <td>-33</td>\n",
       "      <td>1.111111</td>\n",
       "      <td>2.500000</td>\n",
       "      <td>2016.0</td>\n",
       "    </tr>\n",
       "    <tr>\n",
       "      <th>1</th>\n",
       "      <td>AFC Bournemouth</td>\n",
       "      <td>38</td>\n",
       "      <td>12</td>\n",
       "      <td>10</td>\n",
       "      <td>16</td>\n",
       "      <td>55</td>\n",
       "      <td>67</td>\n",
       "      <td>-12</td>\n",
       "      <td>46</td>\n",
       "      <td>2016</td>\n",
       "      <td>9</td>\n",
       "      <td>5</td>\n",
       "      <td>mid_table</td>\n",
       "      <td>44.0</td>\n",
       "      <td>0.450820</td>\n",
       "      <td>0.750000</td>\n",
       "      <td>-24</td>\n",
       "      <td>1.375000</td>\n",
       "      <td>3.437500</td>\n",
       "      <td>2017.0</td>\n",
       "    </tr>\n",
       "    <tr>\n",
       "      <th>2</th>\n",
       "      <td>AFC Bournemouth</td>\n",
       "      <td>38</td>\n",
       "      <td>11</td>\n",
       "      <td>11</td>\n",
       "      <td>16</td>\n",
       "      <td>45</td>\n",
       "      <td>61</td>\n",
       "      <td>-16</td>\n",
       "      <td>44</td>\n",
       "      <td>2017</td>\n",
       "      <td>12</td>\n",
       "      <td>5</td>\n",
       "      <td>mid_table</td>\n",
       "      <td>45.0</td>\n",
       "      <td>0.424528</td>\n",
       "      <td>0.687500</td>\n",
       "      <td>-27</td>\n",
       "      <td>1.375000</td>\n",
       "      <td>2.812500</td>\n",
       "      <td>2018.0</td>\n",
       "    </tr>\n",
       "    <tr>\n",
       "      <th>3</th>\n",
       "      <td>AFC Bournemouth</td>\n",
       "      <td>38</td>\n",
       "      <td>13</td>\n",
       "      <td>6</td>\n",
       "      <td>19</td>\n",
       "      <td>56</td>\n",
       "      <td>70</td>\n",
       "      <td>-14</td>\n",
       "      <td>45</td>\n",
       "      <td>2018</td>\n",
       "      <td>14</td>\n",
       "      <td>5</td>\n",
       "      <td>mid_table</td>\n",
       "      <td>34.0</td>\n",
       "      <td>0.444444</td>\n",
       "      <td>0.684211</td>\n",
       "      <td>-27</td>\n",
       "      <td>1.000000</td>\n",
       "      <td>2.947368</td>\n",
       "      <td>2019.0</td>\n",
       "    </tr>\n",
       "    <tr>\n",
       "      <th>4</th>\n",
       "      <td>AFC Bournemouth</td>\n",
       "      <td>38</td>\n",
       "      <td>9</td>\n",
       "      <td>7</td>\n",
       "      <td>22</td>\n",
       "      <td>40</td>\n",
       "      <td>65</td>\n",
       "      <td>-25</td>\n",
       "      <td>34</td>\n",
       "      <td>2019</td>\n",
       "      <td>18</td>\n",
       "      <td>5</td>\n",
       "      <td>relegation</td>\n",
       "      <td>NaN</td>\n",
       "      <td>0.380952</td>\n",
       "      <td>0.409091</td>\n",
       "      <td>-34</td>\n",
       "      <td>0.727273</td>\n",
       "      <td>1.818182</td>\n",
       "      <td>2002.0</td>\n",
       "    </tr>\n",
       "  </tbody>\n",
       "</table>\n",
       "</div>"
      ],
      "text/plain": [
       "         team_name  games_played  wins  draws  losses  goals_for  \\\n",
       "0  AFC Bournemouth            38    11      9      18         45   \n",
       "1  AFC Bournemouth            38    12     10      16         55   \n",
       "2  AFC Bournemouth            38    11     11      16         45   \n",
       "3  AFC Bournemouth            38    13      6      19         56   \n",
       "4  AFC Bournemouth            38     9      7      22         40   \n",
       "\n",
       "   goals_against  goal_differential  points  year  place  seasons_in_epl  \\\n",
       "0             67                -22      42  2015     16               5   \n",
       "1             67                -12      46  2016      9               5   \n",
       "2             61                -16      44  2017     12               5   \n",
       "3             70                -14      45  2018     14               5   \n",
       "4             65                -25      34  2019     18               5   \n",
       "\n",
       "              finish  next_season_points  goal_percentage  win_rate  \\\n",
       "0  relegation_battle                46.0         0.401786  0.611111   \n",
       "1          mid_table                44.0         0.450820  0.750000   \n",
       "2          mid_table                45.0         0.424528  0.687500   \n",
       "3          mid_table                34.0         0.444444  0.684211   \n",
       "4         relegation                 NaN         0.380952  0.409091   \n",
       "\n",
       "   surpluss_goals  points_rate  goals_per_loss  next_year  \n",
       "0             -33     1.111111        2.500000     2016.0  \n",
       "1             -24     1.375000        3.437500     2017.0  \n",
       "2             -27     1.375000        2.812500     2018.0  \n",
       "3             -27     1.000000        2.947368     2019.0  \n",
       "4             -34     0.727273        1.818182     2002.0  "
      ]
     },
     "execution_count": 31,
     "metadata": {},
     "output_type": "execute_result"
    }
   ],
   "source": [
    "df.head()"
   ]
  },
  {
   "cell_type": "code",
   "execution_count": 32,
   "metadata": {},
   "outputs": [],
   "source": [
    "\n",
    "\n",
    "\n",
    "df_pred = df[(df.year - (df.next_year - 1)) == 0]"
   ]
  },
  {
   "cell_type": "code",
   "execution_count": 33,
   "metadata": {},
   "outputs": [
    {
     "name": "stdout",
     "output_type": "stream",
     "text": [
      "(289, 20)\n",
      "<class 'pandas.core.frame.DataFrame'>\n",
      "Int64Index: 289 entries, 0 to 358\n",
      "Data columns (total 20 columns):\n",
      " #   Column              Non-Null Count  Dtype  \n",
      "---  ------              --------------  -----  \n",
      " 0   team_name           289 non-null    object \n",
      " 1   games_played        289 non-null    int64  \n",
      " 2   wins                289 non-null    int64  \n",
      " 3   draws               289 non-null    int64  \n",
      " 4   losses              289 non-null    int64  \n",
      " 5   goals_for           289 non-null    int64  \n",
      " 6   goals_against       289 non-null    int64  \n",
      " 7   goal_differential   289 non-null    int64  \n",
      " 8   points              289 non-null    int64  \n",
      " 9   year                289 non-null    int64  \n",
      " 10  place               289 non-null    int64  \n",
      " 11  seasons_in_epl      289 non-null    int64  \n",
      " 12  finish              289 non-null    object \n",
      " 13  next_season_points  289 non-null    float64\n",
      " 14  goal_percentage     289 non-null    float64\n",
      " 15  win_rate            289 non-null    float64\n",
      " 16  surpluss_goals      289 non-null    int64  \n",
      " 17  points_rate         289 non-null    float64\n",
      " 18  goals_per_loss      289 non-null    float64\n",
      " 19  next_year           289 non-null    float64\n",
      "dtypes: float64(6), int64(12), object(2)\n",
      "memory usage: 47.4+ KB\n"
     ]
    }
   ],
   "source": [
    "print(df_pred.shape)\n",
    "df_pred.info()"
   ]
  },
  {
   "cell_type": "code",
   "execution_count": 34,
   "metadata": {},
   "outputs": [],
   "source": [
    "predictions = pd.DataFrame({\n",
    "    'yhat': df_pred['next_season_points']\n",
    "})"
   ]
  },
  {
   "cell_type": "code",
   "execution_count": 35,
   "metadata": {},
   "outputs": [],
   "source": [
    "lm = LinearRegression()"
   ]
  },
  {
   "cell_type": "code",
   "execution_count": 36,
   "metadata": {},
   "outputs": [],
   "source": [
    "X = df_pred[['points']]\n",
    "y = df_pred[['next_season_points']]"
   ]
  },
  {
   "cell_type": "code",
   "execution_count": 37,
   "metadata": {},
   "outputs": [
    {
     "data": {
      "text/plain": [
       "LinearRegression(copy_X=True, fit_intercept=True, n_jobs=None, normalize=False)"
      ]
     },
     "execution_count": 37,
     "metadata": {},
     "output_type": "execute_result"
    }
   ],
   "source": [
    "lm.fit(X, y)"
   ]
  },
  {
   "cell_type": "code",
   "execution_count": 38,
   "metadata": {},
   "outputs": [],
   "source": [
    "predictions['pred_points'] = lm.predict(y)"
   ]
  },
  {
   "cell_type": "code",
   "execution_count": 39,
   "metadata": {},
   "outputs": [
    {
     "data": {
      "text/html": [
       "<div>\n",
       "<style scoped>\n",
       "    .dataframe tbody tr th:only-of-type {\n",
       "        vertical-align: middle;\n",
       "    }\n",
       "\n",
       "    .dataframe tbody tr th {\n",
       "        vertical-align: top;\n",
       "    }\n",
       "\n",
       "    .dataframe thead th {\n",
       "        text-align: right;\n",
       "    }\n",
       "</style>\n",
       "<table border=\"1\" class=\"dataframe\">\n",
       "  <thead>\n",
       "    <tr style=\"text-align: right;\">\n",
       "      <th></th>\n",
       "      <th>yhat</th>\n",
       "      <th>pred_points</th>\n",
       "    </tr>\n",
       "  </thead>\n",
       "  <tbody>\n",
       "    <tr>\n",
       "      <th>0</th>\n",
       "      <td>46.0</td>\n",
       "      <td>46.072398</td>\n",
       "    </tr>\n",
       "    <tr>\n",
       "      <th>1</th>\n",
       "      <td>44.0</td>\n",
       "      <td>44.349299</td>\n",
       "    </tr>\n",
       "    <tr>\n",
       "      <th>2</th>\n",
       "      <td>45.0</td>\n",
       "      <td>45.210848</td>\n",
       "    </tr>\n",
       "    <tr>\n",
       "      <th>3</th>\n",
       "      <td>34.0</td>\n",
       "      <td>35.733808</td>\n",
       "    </tr>\n",
       "    <tr>\n",
       "      <th>5</th>\n",
       "      <td>90.0</td>\n",
       "      <td>83.980559</td>\n",
       "    </tr>\n",
       "    <tr>\n",
       "      <th>...</th>\n",
       "      <td>...</td>\n",
       "      <td>...</td>\n",
       "    </tr>\n",
       "    <tr>\n",
       "      <th>351</th>\n",
       "      <td>43.0</td>\n",
       "      <td>43.487750</td>\n",
       "    </tr>\n",
       "    <tr>\n",
       "      <th>352</th>\n",
       "      <td>36.0</td>\n",
       "      <td>37.456906</td>\n",
       "    </tr>\n",
       "    <tr>\n",
       "      <th>355</th>\n",
       "      <td>40.0</td>\n",
       "      <td>40.903103</td>\n",
       "    </tr>\n",
       "    <tr>\n",
       "      <th>356</th>\n",
       "      <td>25.0</td>\n",
       "      <td>27.979866</td>\n",
       "    </tr>\n",
       "    <tr>\n",
       "      <th>358</th>\n",
       "      <td>59.0</td>\n",
       "      <td>57.272536</td>\n",
       "    </tr>\n",
       "  </tbody>\n",
       "</table>\n",
       "<p>289 rows × 2 columns</p>\n",
       "</div>"
      ],
      "text/plain": [
       "     yhat  pred_points\n",
       "0    46.0    46.072398\n",
       "1    44.0    44.349299\n",
       "2    45.0    45.210848\n",
       "3    34.0    35.733808\n",
       "5    90.0    83.980559\n",
       "..    ...          ...\n",
       "351  43.0    43.487750\n",
       "352  36.0    37.456906\n",
       "355  40.0    40.903103\n",
       "356  25.0    27.979866\n",
       "358  59.0    57.272536\n",
       "\n",
       "[289 rows x 2 columns]"
      ]
     },
     "execution_count": 39,
     "metadata": {},
     "output_type": "execute_result"
    }
   ],
   "source": [
    "predictions"
   ]
  },
  {
   "cell_type": "code",
   "execution_count": 40,
   "metadata": {},
   "outputs": [
    {
     "data": {
      "text/plain": [
       "0.610911455020295"
      ]
     },
     "execution_count": 40,
     "metadata": {},
     "output_type": "execute_result"
    }
   ],
   "source": [
    "lm.score(X, y)"
   ]
  },
  {
   "cell_type": "code",
   "execution_count": null,
   "metadata": {},
   "outputs": [],
   "source": []
  },
  {
   "cell_type": "code",
   "execution_count": 43,
   "metadata": {},
   "outputs": [],
   "source": [
    "features_for_modeling = df_pred.drop(columns=['team_name', 'games_played', 'year', 'next_season_points', 'finish', 'win_rate', 'points_rate', 'goals_per_loss', 'next_year']).columns"
   ]
  },
  {
   "cell_type": "code",
   "execution_count": 44,
   "metadata": {},
   "outputs": [
    {
     "data": {
      "text/plain": [
       "Index(['wins', 'draws', 'losses', 'goals_for', 'goals_against',\n",
       "       'goal_differential', 'points', 'place', 'seasons_in_epl',\n",
       "       'goal_percentage', 'surpluss_goals'],\n",
       "      dtype='object')"
      ]
     },
     "execution_count": 44,
     "metadata": {},
     "output_type": "execute_result"
    }
   ],
   "source": [
    "features_for_modeling"
   ]
  },
  {
   "cell_type": "code",
   "execution_count": 45,
   "metadata": {},
   "outputs": [],
   "source": [
    "for i in features_for_modeling:\n",
    "    X = df_pred[[i]]\n",
    "    y = df_pred[['next_season_points']]\n",
    "    lm.fit(X, y)\n",
    "    predictions[f'pred_{i}'] = lm.predict(X)"
   ]
  },
  {
   "cell_type": "code",
   "execution_count": 46,
   "metadata": {},
   "outputs": [
    {
     "data": {
      "text/html": [
       "<div>\n",
       "<style scoped>\n",
       "    .dataframe tbody tr th:only-of-type {\n",
       "        vertical-align: middle;\n",
       "    }\n",
       "\n",
       "    .dataframe tbody tr th {\n",
       "        vertical-align: top;\n",
       "    }\n",
       "\n",
       "    .dataframe thead th {\n",
       "        text-align: right;\n",
       "    }\n",
       "</style>\n",
       "<table border=\"1\" class=\"dataframe\">\n",
       "  <thead>\n",
       "    <tr style=\"text-align: right;\">\n",
       "      <th></th>\n",
       "      <th>yhat</th>\n",
       "      <th>pred_points</th>\n",
       "      <th>pred_wins</th>\n",
       "      <th>pred_draws</th>\n",
       "      <th>pred_losses</th>\n",
       "      <th>pred_goals_for</th>\n",
       "      <th>pred_goals_against</th>\n",
       "      <th>pred_goal_differential</th>\n",
       "      <th>pred_place</th>\n",
       "      <th>pred_seasons_in_epl</th>\n",
       "      <th>pred_goal_percentage</th>\n",
       "      <th>pred_surpluss_goals</th>\n",
       "    </tr>\n",
       "  </thead>\n",
       "  <tbody>\n",
       "    <tr>\n",
       "      <th>0</th>\n",
       "      <td>46.0</td>\n",
       "      <td>42.626201</td>\n",
       "      <td>44.259742</td>\n",
       "      <td>55.245444</td>\n",
       "      <td>41.181354</td>\n",
       "      <td>47.648017</td>\n",
       "      <td>33.995594</td>\n",
       "      <td>38.545292</td>\n",
       "      <td>36.887543</td>\n",
       "      <td>35.336762</td>\n",
       "      <td>39.452364</td>\n",
       "      <td>37.448435</td>\n",
       "    </tr>\n",
       "    <tr>\n",
       "      <th>1</th>\n",
       "      <td>44.0</td>\n",
       "      <td>46.072398</td>\n",
       "      <td>46.584827</td>\n",
       "      <td>54.284333</td>\n",
       "      <td>46.554845</td>\n",
       "      <td>56.077037</td>\n",
       "      <td>33.995594</td>\n",
       "      <td>44.402519</td>\n",
       "      <td>54.726644</td>\n",
       "      <td>35.336762</td>\n",
       "      <td>45.581741</td>\n",
       "      <td>44.173053</td>\n",
       "    </tr>\n",
       "    <tr>\n",
       "      <th>2</th>\n",
       "      <td>45.0</td>\n",
       "      <td>44.349299</td>\n",
       "      <td>44.259742</td>\n",
       "      <td>53.323222</td>\n",
       "      <td>46.554845</td>\n",
       "      <td>47.648017</td>\n",
       "      <td>40.464487</td>\n",
       "      <td>42.059628</td>\n",
       "      <td>47.081315</td>\n",
       "      <td>35.336762</td>\n",
       "      <td>42.295249</td>\n",
       "      <td>41.931514</td>\n",
       "    </tr>\n",
       "    <tr>\n",
       "      <th>3</th>\n",
       "      <td>34.0</td>\n",
       "      <td>45.210848</td>\n",
       "      <td>48.909911</td>\n",
       "      <td>58.128778</td>\n",
       "      <td>38.494608</td>\n",
       "      <td>56.919939</td>\n",
       "      <td>30.761147</td>\n",
       "      <td>43.231074</td>\n",
       "      <td>41.984429</td>\n",
       "      <td>35.336762</td>\n",
       "      <td>44.784820</td>\n",
       "      <td>41.931514</td>\n",
       "    </tr>\n",
       "    <tr>\n",
       "      <th>5</th>\n",
       "      <td>90.0</td>\n",
       "      <td>73.641969</td>\n",
       "      <td>72.160752</td>\n",
       "      <td>55.245444</td>\n",
       "      <td>73.422305</td>\n",
       "      <td>81.364094</td>\n",
       "      <td>60.949316</td>\n",
       "      <td>76.617273</td>\n",
       "      <td>72.565744</td>\n",
       "      <td>65.278309</td>\n",
       "      <td>72.891292</td>\n",
       "      <td>77.048962</td>\n",
       "    </tr>\n",
       "    <tr>\n",
       "      <th>...</th>\n",
       "      <td>...</td>\n",
       "      <td>...</td>\n",
       "      <td>...</td>\n",
       "      <td>...</td>\n",
       "      <td>...</td>\n",
       "      <td>...</td>\n",
       "      <td>...</td>\n",
       "      <td>...</td>\n",
       "      <td>...</td>\n",
       "      <td>...</td>\n",
       "      <td>...</td>\n",
       "      <td>...</td>\n",
       "    </tr>\n",
       "    <tr>\n",
       "      <th>351</th>\n",
       "      <td>43.0</td>\n",
       "      <td>42.626201</td>\n",
       "      <td>39.609574</td>\n",
       "      <td>49.478776</td>\n",
       "      <td>51.928337</td>\n",
       "      <td>43.433508</td>\n",
       "      <td>40.464487</td>\n",
       "      <td>39.131014</td>\n",
       "      <td>36.887543</td>\n",
       "      <td>42.246350</td>\n",
       "      <td>38.734084</td>\n",
       "      <td>39.689974</td>\n",
       "    </tr>\n",
       "    <tr>\n",
       "      <th>352</th>\n",
       "      <td>36.0</td>\n",
       "      <td>43.487750</td>\n",
       "      <td>44.259742</td>\n",
       "      <td>54.284333</td>\n",
       "      <td>43.868100</td>\n",
       "      <td>45.119312</td>\n",
       "      <td>39.386338</td>\n",
       "      <td>39.716737</td>\n",
       "      <td>39.435986</td>\n",
       "      <td>42.246350</td>\n",
       "      <td>39.709924</td>\n",
       "      <td>38.942795</td>\n",
       "    </tr>\n",
       "    <tr>\n",
       "      <th>355</th>\n",
       "      <td>40.0</td>\n",
       "      <td>39.180005</td>\n",
       "      <td>39.609574</td>\n",
       "      <td>53.323222</td>\n",
       "      <td>41.181354</td>\n",
       "      <td>36.690293</td>\n",
       "      <td>45.855232</td>\n",
       "      <td>37.373846</td>\n",
       "      <td>39.435986</td>\n",
       "      <td>37.639958</td>\n",
       "      <td>34.683591</td>\n",
       "      <td>37.448435</td>\n",
       "    </tr>\n",
       "    <tr>\n",
       "      <th>356</th>\n",
       "      <td>25.0</td>\n",
       "      <td>40.903103</td>\n",
       "      <td>44.259742</td>\n",
       "      <td>57.167667</td>\n",
       "      <td>35.807862</td>\n",
       "      <td>48.490919</td>\n",
       "      <td>35.073743</td>\n",
       "      <td>39.716737</td>\n",
       "      <td>34.339100</td>\n",
       "      <td>37.639958</td>\n",
       "      <td>40.568459</td>\n",
       "      <td>38.942795</td>\n",
       "    </tr>\n",
       "    <tr>\n",
       "      <th>358</th>\n",
       "      <td>59.0</td>\n",
       "      <td>55.549438</td>\n",
       "      <td>55.885163</td>\n",
       "      <td>55.245444</td>\n",
       "      <td>54.615083</td>\n",
       "      <td>49.333821</td>\n",
       "      <td>56.636721</td>\n",
       "      <td>52.016916</td>\n",
       "      <td>59.823529</td>\n",
       "      <td>37.639958</td>\n",
       "      <td>52.401473</td>\n",
       "      <td>50.897671</td>\n",
       "    </tr>\n",
       "  </tbody>\n",
       "</table>\n",
       "<p>289 rows × 12 columns</p>\n",
       "</div>"
      ],
      "text/plain": [
       "     yhat  pred_points  pred_wins  pred_draws  pred_losses  pred_goals_for  \\\n",
       "0    46.0    42.626201  44.259742   55.245444    41.181354       47.648017   \n",
       "1    44.0    46.072398  46.584827   54.284333    46.554845       56.077037   \n",
       "2    45.0    44.349299  44.259742   53.323222    46.554845       47.648017   \n",
       "3    34.0    45.210848  48.909911   58.128778    38.494608       56.919939   \n",
       "5    90.0    73.641969  72.160752   55.245444    73.422305       81.364094   \n",
       "..    ...          ...        ...         ...          ...             ...   \n",
       "351  43.0    42.626201  39.609574   49.478776    51.928337       43.433508   \n",
       "352  36.0    43.487750  44.259742   54.284333    43.868100       45.119312   \n",
       "355  40.0    39.180005  39.609574   53.323222    41.181354       36.690293   \n",
       "356  25.0    40.903103  44.259742   57.167667    35.807862       48.490919   \n",
       "358  59.0    55.549438  55.885163   55.245444    54.615083       49.333821   \n",
       "\n",
       "     pred_goals_against  pred_goal_differential  pred_place  \\\n",
       "0             33.995594               38.545292   36.887543   \n",
       "1             33.995594               44.402519   54.726644   \n",
       "2             40.464487               42.059628   47.081315   \n",
       "3             30.761147               43.231074   41.984429   \n",
       "5             60.949316               76.617273   72.565744   \n",
       "..                  ...                     ...         ...   \n",
       "351           40.464487               39.131014   36.887543   \n",
       "352           39.386338               39.716737   39.435986   \n",
       "355           45.855232               37.373846   39.435986   \n",
       "356           35.073743               39.716737   34.339100   \n",
       "358           56.636721               52.016916   59.823529   \n",
       "\n",
       "     pred_seasons_in_epl  pred_goal_percentage  pred_surpluss_goals  \n",
       "0              35.336762             39.452364            37.448435  \n",
       "1              35.336762             45.581741            44.173053  \n",
       "2              35.336762             42.295249            41.931514  \n",
       "3              35.336762             44.784820            41.931514  \n",
       "5              65.278309             72.891292            77.048962  \n",
       "..                   ...                   ...                  ...  \n",
       "351            42.246350             38.734084            39.689974  \n",
       "352            42.246350             39.709924            38.942795  \n",
       "355            37.639958             34.683591            37.448435  \n",
       "356            37.639958             40.568459            38.942795  \n",
       "358            37.639958             52.401473            50.897671  \n",
       "\n",
       "[289 rows x 12 columns]"
      ]
     },
     "execution_count": 46,
     "metadata": {},
     "output_type": "execute_result"
    }
   ],
   "source": [
    "predictions"
   ]
  },
  {
   "cell_type": "code",
   "execution_count": 47,
   "metadata": {},
   "outputs": [],
   "source": [
    "prediction_features = predictions.drop(columns=('yhat')).columns"
   ]
  },
  {
   "cell_type": "code",
   "execution_count": 48,
   "metadata": {},
   "outputs": [],
   "source": [
    "#determining rmse\n",
    "score = []\n",
    "for i in prediction_features:\n",
    "    name = i\n",
    "    rmse = ((predictions.yhat - predictions[i])**2).mean()**.5\n",
    "    score.append(rmse)"
   ]
  },
  {
   "cell_type": "code",
   "execution_count": 49,
   "metadata": {},
   "outputs": [
    {
     "data": {
      "text/html": [
       "<div>\n",
       "<style scoped>\n",
       "    .dataframe tbody tr th:only-of-type {\n",
       "        vertical-align: middle;\n",
       "    }\n",
       "\n",
       "    .dataframe tbody tr th {\n",
       "        vertical-align: top;\n",
       "    }\n",
       "\n",
       "    .dataframe thead th {\n",
       "        text-align: right;\n",
       "    }\n",
       "</style>\n",
       "<table border=\"1\" class=\"dataframe\">\n",
       "  <thead>\n",
       "    <tr style=\"text-align: right;\">\n",
       "      <th></th>\n",
       "      <th>feature</th>\n",
       "      <th>rmse</th>\n",
       "    </tr>\n",
       "  </thead>\n",
       "  <tbody>\n",
       "    <tr>\n",
       "      <th>0</th>\n",
       "      <td>pred_points</td>\n",
       "      <td>10.726305</td>\n",
       "    </tr>\n",
       "    <tr>\n",
       "      <th>1</th>\n",
       "      <td>pred_wins</td>\n",
       "      <td>11.281287</td>\n",
       "    </tr>\n",
       "    <tr>\n",
       "      <th>2</th>\n",
       "      <td>pred_draws</td>\n",
       "      <td>16.980857</td>\n",
       "    </tr>\n",
       "    <tr>\n",
       "      <th>3</th>\n",
       "      <td>pred_losses</td>\n",
       "      <td>11.028013</td>\n",
       "    </tr>\n",
       "    <tr>\n",
       "      <th>4</th>\n",
       "      <td>pred_goals_for</td>\n",
       "      <td>11.667521</td>\n",
       "    </tr>\n",
       "    <tr>\n",
       "      <th>5</th>\n",
       "      <td>pred_goals_against</td>\n",
       "      <td>12.109638</td>\n",
       "    </tr>\n",
       "    <tr>\n",
       "      <th>6</th>\n",
       "      <td>pred_goal_differential</td>\n",
       "      <td>10.190177</td>\n",
       "    </tr>\n",
       "    <tr>\n",
       "      <th>7</th>\n",
       "      <td>pred_place</td>\n",
       "      <td>11.825011</td>\n",
       "    </tr>\n",
       "    <tr>\n",
       "      <th>8</th>\n",
       "      <td>pred_seasons_in_epl</td>\n",
       "      <td>13.254679</td>\n",
       "    </tr>\n",
       "    <tr>\n",
       "      <th>9</th>\n",
       "      <td>pred_goal_percentage</td>\n",
       "      <td>10.028581</td>\n",
       "    </tr>\n",
       "    <tr>\n",
       "      <th>10</th>\n",
       "      <td>pred_surpluss_goals</td>\n",
       "      <td>10.250827</td>\n",
       "    </tr>\n",
       "  </tbody>\n",
       "</table>\n",
       "</div>"
      ],
      "text/plain": [
       "                   feature       rmse\n",
       "0              pred_points  10.726305\n",
       "1                pred_wins  11.281287\n",
       "2               pred_draws  16.980857\n",
       "3              pred_losses  11.028013\n",
       "4           pred_goals_for  11.667521\n",
       "5       pred_goals_against  12.109638\n",
       "6   pred_goal_differential  10.190177\n",
       "7               pred_place  11.825011\n",
       "8      pred_seasons_in_epl  13.254679\n",
       "9     pred_goal_percentage  10.028581\n",
       "10     pred_surpluss_goals  10.250827"
      ]
     },
     "execution_count": 49,
     "metadata": {},
     "output_type": "execute_result"
    }
   ],
   "source": [
    "pd.DataFrame({\n",
    "    'feature': list(prediction_features),\n",
    "    'rmse': score\n",
    "})"
   ]
  },
  {
   "cell_type": "markdown",
   "metadata": {},
   "source": [
    "## Cross Validation"
   ]
  },
  {
   "cell_type": "code",
   "execution_count": 50,
   "metadata": {},
   "outputs": [],
   "source": [
    "import sklearn.metrics as m\n",
    "from sklearn.model_selection import cross_val_score"
   ]
  },
  {
   "cell_type": "code",
   "execution_count": 51,
   "metadata": {},
   "outputs": [
    {
     "name": "stdout",
     "output_type": "stream",
     "text": [
      "wins is [nan nan]\n",
      "draws is [nan nan]\n",
      "losses is [nan nan]\n",
      "goals_for is [nan nan]\n",
      "goals_against is [nan nan]\n",
      "goal_differential is [nan nan]\n",
      "points is [nan nan]\n",
      "place is [nan nan]\n",
      "seasons_in_epl is [nan nan]\n",
      "goal_percentage is [nan nan]\n",
      "surpluss_goals is [nan nan]\n"
     ]
    }
   ],
   "source": [
    "for i in features_for_modeling:\n",
    "    X = df_pred[i]\n",
    "    y = df_pred['points']\n",
    "    print(f'{i} is {cross_val_score(lm, X, y, cv=2)}')"
   ]
  },
  {
   "cell_type": "code",
   "execution_count": 52,
   "metadata": {},
   "outputs": [
    {
     "data": {
      "text/html": [
       "<div>\n",
       "<style scoped>\n",
       "    .dataframe tbody tr th:only-of-type {\n",
       "        vertical-align: middle;\n",
       "    }\n",
       "\n",
       "    .dataframe tbody tr th {\n",
       "        vertical-align: top;\n",
       "    }\n",
       "\n",
       "    .dataframe thead th {\n",
       "        text-align: right;\n",
       "    }\n",
       "</style>\n",
       "<table border=\"1\" class=\"dataframe\">\n",
       "  <thead>\n",
       "    <tr style=\"text-align: right;\">\n",
       "      <th></th>\n",
       "      <th>team_name</th>\n",
       "      <th>games_played</th>\n",
       "      <th>wins</th>\n",
       "      <th>draws</th>\n",
       "      <th>losses</th>\n",
       "      <th>goals_for</th>\n",
       "      <th>goals_against</th>\n",
       "      <th>goal_differential</th>\n",
       "      <th>points</th>\n",
       "      <th>year</th>\n",
       "      <th>place</th>\n",
       "      <th>seasons_in_epl</th>\n",
       "      <th>finish</th>\n",
       "      <th>next_season_points</th>\n",
       "      <th>goal_percentage</th>\n",
       "      <th>win_rate</th>\n",
       "      <th>surpluss_goals</th>\n",
       "      <th>points_rate</th>\n",
       "      <th>goals_per_loss</th>\n",
       "      <th>next_year</th>\n",
       "    </tr>\n",
       "  </thead>\n",
       "  <tbody>\n",
       "    <tr>\n",
       "      <th>0</th>\n",
       "      <td>AFC Bournemouth</td>\n",
       "      <td>38</td>\n",
       "      <td>11</td>\n",
       "      <td>9</td>\n",
       "      <td>18</td>\n",
       "      <td>45</td>\n",
       "      <td>67</td>\n",
       "      <td>-22</td>\n",
       "      <td>42</td>\n",
       "      <td>2015</td>\n",
       "      <td>16</td>\n",
       "      <td>5</td>\n",
       "      <td>relegation_battle</td>\n",
       "      <td>46.0</td>\n",
       "      <td>0.401786</td>\n",
       "      <td>0.611111</td>\n",
       "      <td>-33</td>\n",
       "      <td>1.111111</td>\n",
       "      <td>2.500000</td>\n",
       "      <td>2016.0</td>\n",
       "    </tr>\n",
       "    <tr>\n",
       "      <th>1</th>\n",
       "      <td>AFC Bournemouth</td>\n",
       "      <td>38</td>\n",
       "      <td>12</td>\n",
       "      <td>10</td>\n",
       "      <td>16</td>\n",
       "      <td>55</td>\n",
       "      <td>67</td>\n",
       "      <td>-12</td>\n",
       "      <td>46</td>\n",
       "      <td>2016</td>\n",
       "      <td>9</td>\n",
       "      <td>5</td>\n",
       "      <td>mid_table</td>\n",
       "      <td>44.0</td>\n",
       "      <td>0.450820</td>\n",
       "      <td>0.750000</td>\n",
       "      <td>-24</td>\n",
       "      <td>1.375000</td>\n",
       "      <td>3.437500</td>\n",
       "      <td>2017.0</td>\n",
       "    </tr>\n",
       "    <tr>\n",
       "      <th>2</th>\n",
       "      <td>AFC Bournemouth</td>\n",
       "      <td>38</td>\n",
       "      <td>11</td>\n",
       "      <td>11</td>\n",
       "      <td>16</td>\n",
       "      <td>45</td>\n",
       "      <td>61</td>\n",
       "      <td>-16</td>\n",
       "      <td>44</td>\n",
       "      <td>2017</td>\n",
       "      <td>12</td>\n",
       "      <td>5</td>\n",
       "      <td>mid_table</td>\n",
       "      <td>45.0</td>\n",
       "      <td>0.424528</td>\n",
       "      <td>0.687500</td>\n",
       "      <td>-27</td>\n",
       "      <td>1.375000</td>\n",
       "      <td>2.812500</td>\n",
       "      <td>2018.0</td>\n",
       "    </tr>\n",
       "    <tr>\n",
       "      <th>3</th>\n",
       "      <td>AFC Bournemouth</td>\n",
       "      <td>38</td>\n",
       "      <td>13</td>\n",
       "      <td>6</td>\n",
       "      <td>19</td>\n",
       "      <td>56</td>\n",
       "      <td>70</td>\n",
       "      <td>-14</td>\n",
       "      <td>45</td>\n",
       "      <td>2018</td>\n",
       "      <td>14</td>\n",
       "      <td>5</td>\n",
       "      <td>mid_table</td>\n",
       "      <td>34.0</td>\n",
       "      <td>0.444444</td>\n",
       "      <td>0.684211</td>\n",
       "      <td>-27</td>\n",
       "      <td>1.000000</td>\n",
       "      <td>2.947368</td>\n",
       "      <td>2019.0</td>\n",
       "    </tr>\n",
       "    <tr>\n",
       "      <th>5</th>\n",
       "      <td>Arsenal</td>\n",
       "      <td>38</td>\n",
       "      <td>23</td>\n",
       "      <td>9</td>\n",
       "      <td>6</td>\n",
       "      <td>85</td>\n",
       "      <td>42</td>\n",
       "      <td>43</td>\n",
       "      <td>78</td>\n",
       "      <td>2002</td>\n",
       "      <td>2</td>\n",
       "      <td>18</td>\n",
       "      <td>champions_league</td>\n",
       "      <td>90.0</td>\n",
       "      <td>0.669291</td>\n",
       "      <td>3.833333</td>\n",
       "      <td>20</td>\n",
       "      <td>5.333333</td>\n",
       "      <td>14.166667</td>\n",
       "      <td>2003.0</td>\n",
       "    </tr>\n",
       "    <tr>\n",
       "      <th>...</th>\n",
       "      <td>...</td>\n",
       "      <td>...</td>\n",
       "      <td>...</td>\n",
       "      <td>...</td>\n",
       "      <td>...</td>\n",
       "      <td>...</td>\n",
       "      <td>...</td>\n",
       "      <td>...</td>\n",
       "      <td>...</td>\n",
       "      <td>...</td>\n",
       "      <td>...</td>\n",
       "      <td>...</td>\n",
       "      <td>...</td>\n",
       "      <td>...</td>\n",
       "      <td>...</td>\n",
       "      <td>...</td>\n",
       "      <td>...</td>\n",
       "      <td>...</td>\n",
       "      <td>...</td>\n",
       "      <td>...</td>\n",
       "    </tr>\n",
       "    <tr>\n",
       "      <th>351</th>\n",
       "      <td>Wigan Athletic</td>\n",
       "      <td>38</td>\n",
       "      <td>9</td>\n",
       "      <td>15</td>\n",
       "      <td>14</td>\n",
       "      <td>40</td>\n",
       "      <td>61</td>\n",
       "      <td>-21</td>\n",
       "      <td>42</td>\n",
       "      <td>2010</td>\n",
       "      <td>16</td>\n",
       "      <td>8</td>\n",
       "      <td>relegation_battle</td>\n",
       "      <td>43.0</td>\n",
       "      <td>0.396040</td>\n",
       "      <td>0.642857</td>\n",
       "      <td>-30</td>\n",
       "      <td>1.714286</td>\n",
       "      <td>2.857143</td>\n",
       "      <td>2011.0</td>\n",
       "    </tr>\n",
       "    <tr>\n",
       "      <th>352</th>\n",
       "      <td>Wigan Athletic</td>\n",
       "      <td>38</td>\n",
       "      <td>11</td>\n",
       "      <td>10</td>\n",
       "      <td>17</td>\n",
       "      <td>42</td>\n",
       "      <td>62</td>\n",
       "      <td>-20</td>\n",
       "      <td>43</td>\n",
       "      <td>2011</td>\n",
       "      <td>15</td>\n",
       "      <td>8</td>\n",
       "      <td>relegation_battle</td>\n",
       "      <td>36.0</td>\n",
       "      <td>0.403846</td>\n",
       "      <td>0.647059</td>\n",
       "      <td>-31</td>\n",
       "      <td>1.235294</td>\n",
       "      <td>2.470588</td>\n",
       "      <td>2012.0</td>\n",
       "    </tr>\n",
       "    <tr>\n",
       "      <th>355</th>\n",
       "      <td>Wolverhampton Wanderers</td>\n",
       "      <td>38</td>\n",
       "      <td>9</td>\n",
       "      <td>11</td>\n",
       "      <td>18</td>\n",
       "      <td>32</td>\n",
       "      <td>56</td>\n",
       "      <td>-24</td>\n",
       "      <td>38</td>\n",
       "      <td>2009</td>\n",
       "      <td>15</td>\n",
       "      <td>6</td>\n",
       "      <td>relegation_battle</td>\n",
       "      <td>40.0</td>\n",
       "      <td>0.363636</td>\n",
       "      <td>0.500000</td>\n",
       "      <td>-33</td>\n",
       "      <td>1.111111</td>\n",
       "      <td>1.777778</td>\n",
       "      <td>2010.0</td>\n",
       "    </tr>\n",
       "    <tr>\n",
       "      <th>356</th>\n",
       "      <td>Wolverhampton Wanderers</td>\n",
       "      <td>38</td>\n",
       "      <td>11</td>\n",
       "      <td>7</td>\n",
       "      <td>20</td>\n",
       "      <td>46</td>\n",
       "      <td>66</td>\n",
       "      <td>-20</td>\n",
       "      <td>40</td>\n",
       "      <td>2010</td>\n",
       "      <td>17</td>\n",
       "      <td>6</td>\n",
       "      <td>relegation_battle</td>\n",
       "      <td>25.0</td>\n",
       "      <td>0.410714</td>\n",
       "      <td>0.550000</td>\n",
       "      <td>-31</td>\n",
       "      <td>0.900000</td>\n",
       "      <td>2.300000</td>\n",
       "      <td>2011.0</td>\n",
       "    </tr>\n",
       "    <tr>\n",
       "      <th>358</th>\n",
       "      <td>Wolverhampton Wanderers</td>\n",
       "      <td>38</td>\n",
       "      <td>16</td>\n",
       "      <td>9</td>\n",
       "      <td>13</td>\n",
       "      <td>47</td>\n",
       "      <td>46</td>\n",
       "      <td>1</td>\n",
       "      <td>57</td>\n",
       "      <td>2018</td>\n",
       "      <td>7</td>\n",
       "      <td>6</td>\n",
       "      <td>europa_league</td>\n",
       "      <td>59.0</td>\n",
       "      <td>0.505376</td>\n",
       "      <td>1.230769</td>\n",
       "      <td>-15</td>\n",
       "      <td>1.923077</td>\n",
       "      <td>3.615385</td>\n",
       "      <td>2019.0</td>\n",
       "    </tr>\n",
       "  </tbody>\n",
       "</table>\n",
       "<p>289 rows × 20 columns</p>\n",
       "</div>"
      ],
      "text/plain": [
       "                   team_name  games_played  wins  draws  losses  goals_for  \\\n",
       "0            AFC Bournemouth            38    11      9      18         45   \n",
       "1            AFC Bournemouth            38    12     10      16         55   \n",
       "2            AFC Bournemouth            38    11     11      16         45   \n",
       "3            AFC Bournemouth            38    13      6      19         56   \n",
       "5                    Arsenal            38    23      9       6         85   \n",
       "..                       ...           ...   ...    ...     ...        ...   \n",
       "351           Wigan Athletic            38     9     15      14         40   \n",
       "352           Wigan Athletic            38    11     10      17         42   \n",
       "355  Wolverhampton Wanderers            38     9     11      18         32   \n",
       "356  Wolverhampton Wanderers            38    11      7      20         46   \n",
       "358  Wolverhampton Wanderers            38    16      9      13         47   \n",
       "\n",
       "     goals_against  goal_differential  points  year  place  seasons_in_epl  \\\n",
       "0               67                -22      42  2015     16               5   \n",
       "1               67                -12      46  2016      9               5   \n",
       "2               61                -16      44  2017     12               5   \n",
       "3               70                -14      45  2018     14               5   \n",
       "5               42                 43      78  2002      2              18   \n",
       "..             ...                ...     ...   ...    ...             ...   \n",
       "351             61                -21      42  2010     16               8   \n",
       "352             62                -20      43  2011     15               8   \n",
       "355             56                -24      38  2009     15               6   \n",
       "356             66                -20      40  2010     17               6   \n",
       "358             46                  1      57  2018      7               6   \n",
       "\n",
       "                finish  next_season_points  goal_percentage  win_rate  \\\n",
       "0    relegation_battle                46.0         0.401786  0.611111   \n",
       "1            mid_table                44.0         0.450820  0.750000   \n",
       "2            mid_table                45.0         0.424528  0.687500   \n",
       "3            mid_table                34.0         0.444444  0.684211   \n",
       "5     champions_league                90.0         0.669291  3.833333   \n",
       "..                 ...                 ...              ...       ...   \n",
       "351  relegation_battle                43.0         0.396040  0.642857   \n",
       "352  relegation_battle                36.0         0.403846  0.647059   \n",
       "355  relegation_battle                40.0         0.363636  0.500000   \n",
       "356  relegation_battle                25.0         0.410714  0.550000   \n",
       "358      europa_league                59.0         0.505376  1.230769   \n",
       "\n",
       "     surpluss_goals  points_rate  goals_per_loss  next_year  \n",
       "0               -33     1.111111        2.500000     2016.0  \n",
       "1               -24     1.375000        3.437500     2017.0  \n",
       "2               -27     1.375000        2.812500     2018.0  \n",
       "3               -27     1.000000        2.947368     2019.0  \n",
       "5                20     5.333333       14.166667     2003.0  \n",
       "..              ...          ...             ...        ...  \n",
       "351             -30     1.714286        2.857143     2011.0  \n",
       "352             -31     1.235294        2.470588     2012.0  \n",
       "355             -33     1.111111        1.777778     2010.0  \n",
       "356             -31     0.900000        2.300000     2011.0  \n",
       "358             -15     1.923077        3.615385     2019.0  \n",
       "\n",
       "[289 rows x 20 columns]"
      ]
     },
     "execution_count": 52,
     "metadata": {},
     "output_type": "execute_result"
    }
   ],
   "source": [
    "df_pred"
   ]
  },
  {
   "cell_type": "code",
   "execution_count": 53,
   "metadata": {},
   "outputs": [
    {
     "data": {
      "text/html": [
       "<div>\n",
       "<style scoped>\n",
       "    .dataframe tbody tr th:only-of-type {\n",
       "        vertical-align: middle;\n",
       "    }\n",
       "\n",
       "    .dataframe tbody tr th {\n",
       "        vertical-align: top;\n",
       "    }\n",
       "\n",
       "    .dataframe thead th {\n",
       "        text-align: right;\n",
       "    }\n",
       "</style>\n",
       "<table border=\"1\" class=\"dataframe\">\n",
       "  <thead>\n",
       "    <tr style=\"text-align: right;\">\n",
       "      <th></th>\n",
       "      <th>team_name</th>\n",
       "      <th>games_played</th>\n",
       "      <th>wins</th>\n",
       "      <th>draws</th>\n",
       "      <th>losses</th>\n",
       "      <th>goals_for</th>\n",
       "      <th>goals_against</th>\n",
       "      <th>goal_differential</th>\n",
       "      <th>points</th>\n",
       "      <th>year</th>\n",
       "      <th>place</th>\n",
       "      <th>seasons_in_epl</th>\n",
       "      <th>finish</th>\n",
       "      <th>next_season_points</th>\n",
       "      <th>goal_percentage</th>\n",
       "      <th>win_rate</th>\n",
       "      <th>surpluss_goals</th>\n",
       "      <th>points_rate</th>\n",
       "      <th>goals_per_loss</th>\n",
       "      <th>next_year</th>\n",
       "    </tr>\n",
       "  </thead>\n",
       "  <tbody>\n",
       "    <tr>\n",
       "      <th>0</th>\n",
       "      <td>AFC Bournemouth</td>\n",
       "      <td>38</td>\n",
       "      <td>11</td>\n",
       "      <td>9</td>\n",
       "      <td>18</td>\n",
       "      <td>45</td>\n",
       "      <td>67</td>\n",
       "      <td>-22</td>\n",
       "      <td>42</td>\n",
       "      <td>2015</td>\n",
       "      <td>16</td>\n",
       "      <td>5</td>\n",
       "      <td>relegation_battle</td>\n",
       "      <td>46.0</td>\n",
       "      <td>0.401786</td>\n",
       "      <td>0.611111</td>\n",
       "      <td>-33</td>\n",
       "      <td>1.111111</td>\n",
       "      <td>2.500000</td>\n",
       "      <td>2016.0</td>\n",
       "    </tr>\n",
       "    <tr>\n",
       "      <th>1</th>\n",
       "      <td>AFC Bournemouth</td>\n",
       "      <td>38</td>\n",
       "      <td>12</td>\n",
       "      <td>10</td>\n",
       "      <td>16</td>\n",
       "      <td>55</td>\n",
       "      <td>67</td>\n",
       "      <td>-12</td>\n",
       "      <td>46</td>\n",
       "      <td>2016</td>\n",
       "      <td>9</td>\n",
       "      <td>5</td>\n",
       "      <td>mid_table</td>\n",
       "      <td>44.0</td>\n",
       "      <td>0.450820</td>\n",
       "      <td>0.750000</td>\n",
       "      <td>-24</td>\n",
       "      <td>1.375000</td>\n",
       "      <td>3.437500</td>\n",
       "      <td>2017.0</td>\n",
       "    </tr>\n",
       "    <tr>\n",
       "      <th>2</th>\n",
       "      <td>AFC Bournemouth</td>\n",
       "      <td>38</td>\n",
       "      <td>11</td>\n",
       "      <td>11</td>\n",
       "      <td>16</td>\n",
       "      <td>45</td>\n",
       "      <td>61</td>\n",
       "      <td>-16</td>\n",
       "      <td>44</td>\n",
       "      <td>2017</td>\n",
       "      <td>12</td>\n",
       "      <td>5</td>\n",
       "      <td>mid_table</td>\n",
       "      <td>45.0</td>\n",
       "      <td>0.424528</td>\n",
       "      <td>0.687500</td>\n",
       "      <td>-27</td>\n",
       "      <td>1.375000</td>\n",
       "      <td>2.812500</td>\n",
       "      <td>2018.0</td>\n",
       "    </tr>\n",
       "    <tr>\n",
       "      <th>3</th>\n",
       "      <td>AFC Bournemouth</td>\n",
       "      <td>38</td>\n",
       "      <td>13</td>\n",
       "      <td>6</td>\n",
       "      <td>19</td>\n",
       "      <td>56</td>\n",
       "      <td>70</td>\n",
       "      <td>-14</td>\n",
       "      <td>45</td>\n",
       "      <td>2018</td>\n",
       "      <td>14</td>\n",
       "      <td>5</td>\n",
       "      <td>mid_table</td>\n",
       "      <td>34.0</td>\n",
       "      <td>0.444444</td>\n",
       "      <td>0.684211</td>\n",
       "      <td>-27</td>\n",
       "      <td>1.000000</td>\n",
       "      <td>2.947368</td>\n",
       "      <td>2019.0</td>\n",
       "    </tr>\n",
       "    <tr>\n",
       "      <th>5</th>\n",
       "      <td>Arsenal</td>\n",
       "      <td>38</td>\n",
       "      <td>23</td>\n",
       "      <td>9</td>\n",
       "      <td>6</td>\n",
       "      <td>85</td>\n",
       "      <td>42</td>\n",
       "      <td>43</td>\n",
       "      <td>78</td>\n",
       "      <td>2002</td>\n",
       "      <td>2</td>\n",
       "      <td>18</td>\n",
       "      <td>champions_league</td>\n",
       "      <td>90.0</td>\n",
       "      <td>0.669291</td>\n",
       "      <td>3.833333</td>\n",
       "      <td>20</td>\n",
       "      <td>5.333333</td>\n",
       "      <td>14.166667</td>\n",
       "      <td>2003.0</td>\n",
       "    </tr>\n",
       "    <tr>\n",
       "      <th>...</th>\n",
       "      <td>...</td>\n",
       "      <td>...</td>\n",
       "      <td>...</td>\n",
       "      <td>...</td>\n",
       "      <td>...</td>\n",
       "      <td>...</td>\n",
       "      <td>...</td>\n",
       "      <td>...</td>\n",
       "      <td>...</td>\n",
       "      <td>...</td>\n",
       "      <td>...</td>\n",
       "      <td>...</td>\n",
       "      <td>...</td>\n",
       "      <td>...</td>\n",
       "      <td>...</td>\n",
       "      <td>...</td>\n",
       "      <td>...</td>\n",
       "      <td>...</td>\n",
       "      <td>...</td>\n",
       "      <td>...</td>\n",
       "    </tr>\n",
       "    <tr>\n",
       "      <th>351</th>\n",
       "      <td>Wigan Athletic</td>\n",
       "      <td>38</td>\n",
       "      <td>9</td>\n",
       "      <td>15</td>\n",
       "      <td>14</td>\n",
       "      <td>40</td>\n",
       "      <td>61</td>\n",
       "      <td>-21</td>\n",
       "      <td>42</td>\n",
       "      <td>2010</td>\n",
       "      <td>16</td>\n",
       "      <td>8</td>\n",
       "      <td>relegation_battle</td>\n",
       "      <td>43.0</td>\n",
       "      <td>0.396040</td>\n",
       "      <td>0.642857</td>\n",
       "      <td>-30</td>\n",
       "      <td>1.714286</td>\n",
       "      <td>2.857143</td>\n",
       "      <td>2011.0</td>\n",
       "    </tr>\n",
       "    <tr>\n",
       "      <th>352</th>\n",
       "      <td>Wigan Athletic</td>\n",
       "      <td>38</td>\n",
       "      <td>11</td>\n",
       "      <td>10</td>\n",
       "      <td>17</td>\n",
       "      <td>42</td>\n",
       "      <td>62</td>\n",
       "      <td>-20</td>\n",
       "      <td>43</td>\n",
       "      <td>2011</td>\n",
       "      <td>15</td>\n",
       "      <td>8</td>\n",
       "      <td>relegation_battle</td>\n",
       "      <td>36.0</td>\n",
       "      <td>0.403846</td>\n",
       "      <td>0.647059</td>\n",
       "      <td>-31</td>\n",
       "      <td>1.235294</td>\n",
       "      <td>2.470588</td>\n",
       "      <td>2012.0</td>\n",
       "    </tr>\n",
       "    <tr>\n",
       "      <th>355</th>\n",
       "      <td>Wolverhampton Wanderers</td>\n",
       "      <td>38</td>\n",
       "      <td>9</td>\n",
       "      <td>11</td>\n",
       "      <td>18</td>\n",
       "      <td>32</td>\n",
       "      <td>56</td>\n",
       "      <td>-24</td>\n",
       "      <td>38</td>\n",
       "      <td>2009</td>\n",
       "      <td>15</td>\n",
       "      <td>6</td>\n",
       "      <td>relegation_battle</td>\n",
       "      <td>40.0</td>\n",
       "      <td>0.363636</td>\n",
       "      <td>0.500000</td>\n",
       "      <td>-33</td>\n",
       "      <td>1.111111</td>\n",
       "      <td>1.777778</td>\n",
       "      <td>2010.0</td>\n",
       "    </tr>\n",
       "    <tr>\n",
       "      <th>356</th>\n",
       "      <td>Wolverhampton Wanderers</td>\n",
       "      <td>38</td>\n",
       "      <td>11</td>\n",
       "      <td>7</td>\n",
       "      <td>20</td>\n",
       "      <td>46</td>\n",
       "      <td>66</td>\n",
       "      <td>-20</td>\n",
       "      <td>40</td>\n",
       "      <td>2010</td>\n",
       "      <td>17</td>\n",
       "      <td>6</td>\n",
       "      <td>relegation_battle</td>\n",
       "      <td>25.0</td>\n",
       "      <td>0.410714</td>\n",
       "      <td>0.550000</td>\n",
       "      <td>-31</td>\n",
       "      <td>0.900000</td>\n",
       "      <td>2.300000</td>\n",
       "      <td>2011.0</td>\n",
       "    </tr>\n",
       "    <tr>\n",
       "      <th>358</th>\n",
       "      <td>Wolverhampton Wanderers</td>\n",
       "      <td>38</td>\n",
       "      <td>16</td>\n",
       "      <td>9</td>\n",
       "      <td>13</td>\n",
       "      <td>47</td>\n",
       "      <td>46</td>\n",
       "      <td>1</td>\n",
       "      <td>57</td>\n",
       "      <td>2018</td>\n",
       "      <td>7</td>\n",
       "      <td>6</td>\n",
       "      <td>europa_league</td>\n",
       "      <td>59.0</td>\n",
       "      <td>0.505376</td>\n",
       "      <td>1.230769</td>\n",
       "      <td>-15</td>\n",
       "      <td>1.923077</td>\n",
       "      <td>3.615385</td>\n",
       "      <td>2019.0</td>\n",
       "    </tr>\n",
       "  </tbody>\n",
       "</table>\n",
       "<p>289 rows × 20 columns</p>\n",
       "</div>"
      ],
      "text/plain": [
       "                   team_name  games_played  wins  draws  losses  goals_for  \\\n",
       "0            AFC Bournemouth            38    11      9      18         45   \n",
       "1            AFC Bournemouth            38    12     10      16         55   \n",
       "2            AFC Bournemouth            38    11     11      16         45   \n",
       "3            AFC Bournemouth            38    13      6      19         56   \n",
       "5                    Arsenal            38    23      9       6         85   \n",
       "..                       ...           ...   ...    ...     ...        ...   \n",
       "351           Wigan Athletic            38     9     15      14         40   \n",
       "352           Wigan Athletic            38    11     10      17         42   \n",
       "355  Wolverhampton Wanderers            38     9     11      18         32   \n",
       "356  Wolverhampton Wanderers            38    11      7      20         46   \n",
       "358  Wolverhampton Wanderers            38    16      9      13         47   \n",
       "\n",
       "     goals_against  goal_differential  points  year  place  seasons_in_epl  \\\n",
       "0               67                -22      42  2015     16               5   \n",
       "1               67                -12      46  2016      9               5   \n",
       "2               61                -16      44  2017     12               5   \n",
       "3               70                -14      45  2018     14               5   \n",
       "5               42                 43      78  2002      2              18   \n",
       "..             ...                ...     ...   ...    ...             ...   \n",
       "351             61                -21      42  2010     16               8   \n",
       "352             62                -20      43  2011     15               8   \n",
       "355             56                -24      38  2009     15               6   \n",
       "356             66                -20      40  2010     17               6   \n",
       "358             46                  1      57  2018      7               6   \n",
       "\n",
       "                finish  next_season_points  goal_percentage  win_rate  \\\n",
       "0    relegation_battle                46.0         0.401786  0.611111   \n",
       "1            mid_table                44.0         0.450820  0.750000   \n",
       "2            mid_table                45.0         0.424528  0.687500   \n",
       "3            mid_table                34.0         0.444444  0.684211   \n",
       "5     champions_league                90.0         0.669291  3.833333   \n",
       "..                 ...                 ...              ...       ...   \n",
       "351  relegation_battle                43.0         0.396040  0.642857   \n",
       "352  relegation_battle                36.0         0.403846  0.647059   \n",
       "355  relegation_battle                40.0         0.363636  0.500000   \n",
       "356  relegation_battle                25.0         0.410714  0.550000   \n",
       "358      europa_league                59.0         0.505376  1.230769   \n",
       "\n",
       "     surpluss_goals  points_rate  goals_per_loss  next_year  \n",
       "0               -33     1.111111        2.500000     2016.0  \n",
       "1               -24     1.375000        3.437500     2017.0  \n",
       "2               -27     1.375000        2.812500     2018.0  \n",
       "3               -27     1.000000        2.947368     2019.0  \n",
       "5                20     5.333333       14.166667     2003.0  \n",
       "..              ...          ...             ...        ...  \n",
       "351             -30     1.714286        2.857143     2011.0  \n",
       "352             -31     1.235294        2.470588     2012.0  \n",
       "355             -33     1.111111        1.777778     2010.0  \n",
       "356             -31     0.900000        2.300000     2011.0  \n",
       "358             -15     1.923077        3.615385     2019.0  \n",
       "\n",
       "[289 rows x 20 columns]"
      ]
     },
     "execution_count": 53,
     "metadata": {},
     "output_type": "execute_result"
    }
   ],
   "source": [
    "df_pred"
   ]
  },
  {
   "cell_type": "code",
   "execution_count": 54,
   "metadata": {},
   "outputs": [
    {
     "data": {
      "text/plain": [
       "<matplotlib.axes._subplots.AxesSubplot at 0x12c92ff90>"
      ]
     },
     "execution_count": 54,
     "metadata": {},
     "output_type": "execute_result"
    },
    {
     "data": {
      "image/png": "[encoded data removed]",
      "text/plain": [
       "<Figure size 432x288 with 1 Axes>"
      ]
     },
     "metadata": {
      "needs_background": "light"
     },
     "output_type": "display_data"
    }
   ],
   "source": [
    "sns.boxplot(x='finish', y='goal_differential', data=df)"
   ]
  },
  {
   "cell_type": "code",
   "execution_count": null,
   "metadata": {},
   "outputs": [],
   "source": []
  },
  {
   "cell_type": "code",
   "execution_count": null,
   "metadata": {},
   "outputs": [],
   "source": []
  },
  {
   "cell_type": "code",
   "execution_count": null,
   "metadata": {},
   "outputs": [],
   "source": []
  },
  {
   "cell_type": "code",
   "execution_count": null,
   "metadata": {},
   "outputs": [],
   "source": []
  }
 ],
 "metadata": {
  "kernelspec": {
   "display_name": "Python 3",
   "language": "python",
   "name": "python3"
  },
  "language_info": {
   "codemirror_mode": {
    "name": "ipython",
    "version": 3
   },
   "file_extension": ".py",
   "mimetype": "text/x-python",
   "name": "python",
   "nbconvert_exporter": "python",
   "pygments_lexer": "ipython3",
   "version": "3.7.4"
  }
 },
 "nbformat": 4,
 "nbformat_minor": 2
}
